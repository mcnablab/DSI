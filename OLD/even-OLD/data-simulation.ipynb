{
 "metadata": {
  "name": "data-simulation"
 },
 "nbformat": 3,
 "nbformat_minor": 0,
 "worksheets": [
  {
   "cells": [
    {
     "cell_type": "code",
     "collapsed": false,
     "input": [
      "# This script simulates the three acquired datasets\n",
      "# The chosen statistics are based the analysis of the datasets"
     ],
     "language": "python",
     "metadata": {},
     "outputs": []
    },
    {
     "cell_type": "code",
     "collapsed": false,
     "input": [
      "import numpy as np\n",
      "np.set_printoptions(threshold=np.nan)\n",
      "import matplotlib.pyplot as plt\n",
      "from dipy.reconst.gqi import GeneralizedQSamplingModel\n",
      "from dipy.data import get_data, dsi_voxels\n",
      "from dipy.reconst.dsi import DiffusionSpectrumModel\n",
      "import dipy.reconst.dti as dti\n",
      "from dipy.core.sphere import Sphere\n",
      "from dipy.core.gradients import gradient_table\n",
      "from dipy.data import get_sphere\n",
      "from dipy.sims.voxel import MultiTensor\n",
      "from dipy.sims.voxel import SticksAndBall\n",
      "from dipy.viz import fvtk\n",
      "import numpy.matlib as matlab\n",
      "%pylab inline"
     ],
     "language": "python",
     "metadata": {},
     "outputs": []
    }
   ],
   "metadata": {}
  }
 ]
}