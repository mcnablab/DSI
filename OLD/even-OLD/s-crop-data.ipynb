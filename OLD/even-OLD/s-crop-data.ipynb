{
 "metadata": {
  "name": "s-crop-data"
 },
 "nbformat": 3,
 "nbformat_minor": 0,
 "worksheets": [
  {
   "cells": [
    {
     "cell_type": "code",
     "collapsed": false,
     "input": [
      "#This script reconstructs odfs from sub-sampled DSI2109 with various sub-sampling schemes using default sampling length in GQI\n",
      "#Apply hanning filtering to the original signal before fitting to the GQI2 model"
     ],
     "language": "python",
     "metadata": {},
     "outputs": [],
     "prompt_number": 106
    },
    {
     "cell_type": "code",
     "collapsed": false,
     "input": [
      "%pylab inline\n",
      "import nibabel as nib\n",
      "from dipy.data import get_sphere\n",
      "from dipy.reconst.gqi import GeneralizedQSamplingModel\n",
      "from dipy.reconst.peaks import peaks_from_model\n",
      "import numpy as np\n",
      "import dipy.core.gradients as grad\n",
      "from dipy.viz import fvtk\n",
      "import dipy.data as dpd\n",
      "import dsitool as dtl\n",
      "import dipy.reconst.dsi as dsi\n",
      "np.set_printoptions(threshold=numpy.nan)"
     ],
     "language": "python",
     "metadata": {},
     "outputs": [
      {
       "output_type": "stream",
       "stream": "stdout",
       "text": [
        "\n",
        "Welcome to pylab, a matplotlib-based Python environment [backend: module://IPython.kernel.zmq.pylab.backend_inline].\n",
        "For more information, type 'help(pylab)'.\n"
       ]
      }
     ],
     "prompt_number": 107
    },
    {
     "cell_type": "code",
     "collapsed": false,
     "input": [
      "#Read in data\n",
      "data_name = '2109' \n",
      "\n",
      "data_path = '/biac4/wandell/data/qytian/DSIProject/'\n",
      "\n",
      "img_bx = nib.load(data_path + 'DSI' + data_name + '/DSI' + data_name + '_bx_reg_cc.nii.gz')\n",
      "data_bx = img_bx.get_data()\n",
      "\n",
      "img_b0 = nib.load(data_path + 'DSI' + data_name + '/DSI' + data_name + '_b0_reg_cc.nii.gz')\n",
      "data_b0 = img_b0.get_data()\n",
      "\n",
      "data_b0_avg = np.mean(data_b0,-1)\n",
      "data = np.concatenate([data_b0_avg[...,None], data_bx], axis=-1)\n",
      "\n",
      "gtab = grad.gradient_table(data_path + 'DSI' + data_name + '/bvals_' + data_name + '_standard.txt', \n",
      "                           data_path + 'DSI' + data_name + '/bvecs_prs_' + data_name + '_standard.txt')"
     ],
     "language": "python",
     "metadata": {},
     "outputs": [],
     "prompt_number": 108
    },
    {
     "cell_type": "code",
     "collapsed": false,
     "input": [
      "# Create q-table\n",
      "def create_qtable(gtab):\n",
      "    bv = gtab.bvals\n",
      "    bmin = np.sort(bv)[1]\n",
      "    qv = np.sqrt(bv / bmin)\n",
      "    qtable = np.vstack((qv, qv, qv)).T * gtab.bvecs\n",
      "    return np.floor(qtable + .5)\n",
      "\n",
      "qtable = create_qtable(gtab)\n"
     ],
     "language": "python",
     "metadata": {},
     "outputs": [],
     "prompt_number": 109
    },
    {
     "cell_type": "code",
     "collapsed": false,
     "input": [
      "qgrid_size = 101;\n",
      "origin = qgrid_size // 2\n",
      "qgrid = dtl.create_qspace(gtab, origin)\n",
      "qgrid.shape"
     ],
     "language": "python",
     "metadata": {},
     "outputs": [
      {
       "output_type": "pyout",
       "prompt_number": 110,
       "text": [
        "(2107, 3)"
       ]
      }
     ],
     "prompt_number": 110
    },
    {
     "cell_type": "code",
     "collapsed": false,
     "input": [
      "def hanning_filter(gtab, filter_width):\n",
      "    qtable = create_qtable(gtab)\n",
      "    r = np.sqrt(qtable[:, 0] ** 2 + qtable[:, 1] ** 2 + qtable[:, 2] ** 2)\n",
      "    return 0.5 * (1 + np.cos(2 * np.pi * r / filter_width))"
     ],
     "language": "python",
     "metadata": {},
     "outputs": [],
     "prompt_number": 111
    },
    {
     "cell_type": "code",
     "collapsed": false,
     "input": [
      "hann = hanning_filter(gtab, qtable.max()*2)\n",
      "hann.min()\n",
      "\n",
      "x = data.shape[0]\n",
      "y = data.shape[1]\n",
      "z = data.shape[2]\n",
      "\n",
      "#data = data[0, 2, 0, :];\n",
      "\n",
      "#data_hann = data * tile(np.ones(data.shape[-1]), (x, y, z, 1))\n",
      "#data_hann = data * tile(hann, (x, y, z, 1))\n",
      "data_hann = data"
     ],
     "language": "python",
     "metadata": {},
     "outputs": [],
     "prompt_number": 112
    },
    {
     "cell_type": "code",
     "collapsed": false,
     "input": [
      "data_hann.shape\n",
      "qtable.max()"
     ],
     "language": "python",
     "metadata": {},
     "outputs": [
      {
       "output_type": "pyout",
       "prompt_number": 113,
       "text": [
        "8.0"
       ]
      }
     ],
     "prompt_number": 113
    },
    {
     "cell_type": "code",
     "collapsed": false,
     "input": [
      "#Perform sub-sampling\n",
      "#idx for different sub-sampling schemes\n",
      "\n",
      "#idx = np.where(np.mod(np.abs(qtable[:, 0]), 1)==0)\n",
      "#idx = np.where(np.mod(np.abs(qtable[:, 0]), 2)==0)\n",
      "#idx = np.where(np.mod(np.abs(qtable[:, 1]), 2)==0)\n",
      "#idx = np.where(np.mod(np.abs(qtable[:, 2]), 2)==0)\n",
      "#idx = np.where((np.mod(np.abs(qtable[:, 0]), 2)==0) * (np.mod(np.abs(qtable[:, 1]), 2)==0) * (np.mod(np.abs(qtable[:, 2]), 2)==0))\n",
      "\n",
      "radius = np.sqrt(np.square(qtable[:, 0]) + np.square(qtable[:, 1]) + np.square(qtable[:, 2]))\n",
      "idx = np.where(radius<=5)\n",
      "\n",
      "gtab_sub = grad.gradient_table(gtab.bvals[idx], gtab.bvecs[idx])\n",
      "#data_sub = data[...,idx]\n",
      "data_sub = data_hann[...,idx] \n",
      "data_sub = np.swapaxes(data_sub, 3, 4); \n",
      "data_sub = data_sub[:, :, :, :, 0] \n",
      "qgrid_sub = qgrid[idx, :] \n",
      "qgrid_sub = qgrid_sub[0, :, :];"
     ],
     "language": "python",
     "metadata": {},
     "outputs": [],
     "prompt_number": 114
    },
    {
     "cell_type": "code",
     "collapsed": false,
     "input": [
      "data_sub.shape"
     ],
     "language": "python",
     "metadata": {},
     "outputs": [
      {
       "output_type": "pyout",
       "prompt_number": 115,
       "text": [
        "(1, 4, 2, 515)"
       ]
      }
     ],
     "prompt_number": 115
    },
    {
     "cell_type": "code",
     "collapsed": false,
     "input": [
      "nib.Nifti1Image(data_sub, affine=None, header=None, extra=None, file_map=None).to_filename(data_path + '/DSI2109/' + 'DSI2109_to_515_cc.nii.gz')"
     ],
     "language": "python",
     "metadata": {},
     "outputs": [],
     "prompt_number": 116
    },
    {
     "cell_type": "code",
     "collapsed": false,
     "input": [],
     "language": "python",
     "metadata": {},
     "outputs": [],
     "prompt_number": 116
    },
    {
     "cell_type": "code",
     "collapsed": false,
     "input": [],
     "language": "python",
     "metadata": {},
     "outputs": [],
     "prompt_number": 116
    }
   ],
   "metadata": {}
  }
 ]
}