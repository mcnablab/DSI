{
 "metadata": {
  "name": "s-data-statistics-invivo"
 },
 "nbformat": 3,
 "nbformat_minor": 0,
 "worksheets": [
  {
   "cells": [
    {
     "cell_type": "code",
     "collapsed": false,
     "input": [
      "#This script calculates statistics of the data, including the diffusivity and SNR"
     ],
     "language": "python",
     "metadata": {},
     "outputs": [],
     "prompt_number": 10
    },
    {
     "cell_type": "code",
     "collapsed": false,
     "input": [
      "%pylab inline\n",
      "import nibabel as nib\n",
      "from dipy.data import get_sphere\n",
      "from dipy.reconst.gqi import GeneralizedQSamplingModel\n",
      "from dipy.reconst.peaks import peaks_from_model\n",
      "import numpy as np\n",
      "import dipy.core.gradients as grad\n",
      "from dipy.viz import fvtk\n",
      "import dipy.reconst.dti as dti\n",
      "np.set_printoptions(threshold=np.nan)"
     ],
     "language": "python",
     "metadata": {},
     "outputs": [
      {
       "output_type": "stream",
       "stream": "stdout",
       "text": [
        "\n",
        "Welcome to pylab, a matplotlib-based Python environment [backend: module://IPython.kernel.zmq.pylab.backend_inline].\n",
        "For more information, type 'help(pylab)'.\n"
       ]
      }
     ],
     "prompt_number": 11
    },
    {
     "cell_type": "code",
     "collapsed": false,
     "input": [
      "#Read in data\n",
      "data_path = '/biac4/wandell/data/qytian/DSIProject/invivo_DSI515/'\n",
      "img = nib.load(data_path + 'data_ROI_cc.nii.gz')\n",
      "data = img.get_data()\n",
      "gtab = grad.gradient_table(data_path + 'bvals', data_path + 'bvecs')"
     ],
     "language": "python",
     "metadata": {},
     "outputs": [],
     "prompt_number": 12
    },
    {
     "cell_type": "code",
     "collapsed": false,
     "input": [
      "idx = np.where(gtab.bvals < 1000) # Properly choose data from DSI for DTI estimation\n",
      "gtab_sub = grad.gradient_table(gtab.bvals[idx], gtab.bvecs[idx])\n",
      "data_sub = data[:, :, :, idx]\n",
      "#gtab.bvals[idx]"
     ],
     "language": "python",
     "metadata": {},
     "outputs": [],
     "prompt_number": 13
    },
    {
     "cell_type": "code",
     "collapsed": false,
     "input": [
      "data_sub.shape[-1]"
     ],
     "language": "python",
     "metadata": {},
     "outputs": [
      {
       "output_type": "pyout",
       "prompt_number": 14,
       "text": [
        "19"
       ]
      }
     ],
     "prompt_number": 14
    },
    {
     "cell_type": "code",
     "collapsed": false,
     "input": [
      "tenmodel = dti.TensorModel(gtab_sub) \n",
      "tenfit = tenmodel.fit(data_sub)"
     ],
     "language": "python",
     "metadata": {},
     "outputs": [],
     "prompt_number": 15
    },
    {
     "cell_type": "code",
     "collapsed": false,
     "input": [
      "tenfit.ad"
     ],
     "language": "python",
     "metadata": {},
     "outputs": [
      {
       "output_type": "pyout",
       "prompt_number": 16,
       "text": [
        "array([[[[ 0.00188221],\n",
        "         [ 0.00164462]]],\n",
        "\n",
        "\n",
        "       [[[ 0.00183282],\n",
        "         [ 0.0016662 ]]],\n",
        "\n",
        "\n",
        "       [[[ 0.00161638],\n",
        "         [ 0.00136278]]],\n",
        "\n",
        "\n",
        "       [[[ 0.00181527],\n",
        "         [ 0.00162099]]]])"
       ]
      }
     ],
     "prompt_number": 16
    },
    {
     "cell_type": "code",
     "collapsed": false,
     "input": [
      "tenfit.rd"
     ],
     "language": "python",
     "metadata": {},
     "outputs": [
      {
       "output_type": "pyout",
       "prompt_number": 17,
       "text": [
        "array([[[[ 0.00022345],\n",
        "         [ 0.0003687 ]]],\n",
        "\n",
        "\n",
        "       [[[ 0.00036788],\n",
        "         [ 0.00016153]]],\n",
        "\n",
        "\n",
        "       [[[ 0.00037649],\n",
        "         [ 0.00020994]]],\n",
        "\n",
        "\n",
        "       [[[ 0.00043855],\n",
        "         [ 0.00031592]]]])"
       ]
      }
     ],
     "prompt_number": 17
    },
    {
     "cell_type": "code",
     "collapsed": false,
     "input": [
      "tenfit.evals"
     ],
     "language": "python",
     "metadata": {},
     "outputs": [
      {
       "output_type": "pyout",
       "prompt_number": 18,
       "text": [
        "array([[[[[  1.88220739e-03,   3.01627021e-04,   1.45271139e-04]],\n",
        "\n",
        "         [[  1.64461790e-03,   4.55505740e-04,   2.81887146e-04]]]],\n",
        "\n",
        "\n",
        "\n",
        "       [[[[  1.83281878e-03,   4.81206476e-04,   2.54552361e-04]],\n",
        "\n",
        "         [[  1.66620250e-03,   2.25294754e-04,   9.77723751e-05]]]],\n",
        "\n",
        "\n",
        "\n",
        "       [[[[  1.61637964e-03,   3.91536570e-04,   3.61444526e-04]],\n",
        "\n",
        "         [[  1.36277882e-03,   2.96647654e-04,   1.23232264e-04]]]],\n",
        "\n",
        "\n",
        "\n",
        "       [[[[  1.81527298e-03,   4.95644439e-04,   3.81448895e-04]],\n",
        "\n",
        "         [[  1.62099030e-03,   3.70570431e-04,   2.61278854e-04]]]]])"
       ]
      }
     ],
     "prompt_number": 18
    },
    {
     "cell_type": "code",
     "collapsed": false,
     "input": [],
     "language": "python",
     "metadata": {},
     "outputs": [],
     "prompt_number": 18
    },
    {
     "cell_type": "markdown",
     "metadata": {},
     "source": []
    }
   ],
   "metadata": {}
  }
 ]
}