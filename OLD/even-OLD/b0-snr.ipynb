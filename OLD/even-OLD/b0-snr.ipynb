{
 "metadata": {
  "name": "b0-snr"
 },
 "nbformat": 3,
 "nbformat_minor": 0,
 "worksheets": [
  {
   "cells": [
    {
     "cell_type": "code",
     "collapsed": false,
     "input": [
      "import numpy as np\n",
      "np.set_printoptions(threshold=np.nan)\n",
      "import nibabel as nib\n",
      "import dipy.data as dpd\n",
      "import dipy.core.gradients as grad\n",
      "import dipy.reconst.dsi as dsi\n",
      "from dipy.viz import fvtk\n",
      "%pylab inline"
     ],
     "language": "python",
     "metadata": {},
     "outputs": [
      {
       "output_type": "stream",
       "stream": "stdout",
       "text": [
        "\n",
        "Welcome to pylab, a matplotlib-based Python environment [backend: module://IPython.kernel.zmq.pylab.backend_inline].\n",
        "For more information, type 'help(pylab)'.\n"
       ]
      }
     ],
     "prompt_number": 3
    },
    {
     "cell_type": "code",
     "collapsed": false,
     "input": [
      "b0_mean = '/biac4/wandell/data/qytian/DSIProject/DSI2109/SNR/DSI2109_b0_reg_mean.nii.gz'\n",
      "data = nib.load(b0_mean).get_data()"
     ],
     "language": "python",
     "metadata": {},
     "outputs": [],
     "prompt_number": 4
    },
    {
     "cell_type": "code",
     "collapsed": false,
     "input": [
      "# Load mask\n",
      "data_path = '/biac4/wandell/data/qytian/DSIProject/'\n",
      "mask = nib.load(data_path + 'DSI515/mask_mask.nii.gz').get_data();\n",
      "mask.astype(float);"
     ],
     "language": "python",
     "metadata": {},
     "outputs": [],
     "prompt_number": 7
    },
    {
     "cell_type": "code",
     "collapsed": false,
     "input": [
      "brain = data * mask  \n",
      "brain = brain[mask == 1]"
     ],
     "language": "python",
     "metadata": {},
     "outputs": [],
     "prompt_number": 10
    },
    {
     "cell_type": "code",
     "collapsed": false,
     "input": [
      "brain.mean()"
     ],
     "language": "python",
     "metadata": {},
     "outputs": [
      {
       "output_type": "pyout",
       "prompt_number": 11,
       "text": [
        "495.55254938537871"
       ]
      }
     ],
     "prompt_number": 11
    }
   ],
   "metadata": {}
  }
 ]
}