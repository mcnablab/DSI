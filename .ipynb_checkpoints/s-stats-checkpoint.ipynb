{
 "cells": [
  {
   "cell_type": "code",
   "execution_count": 1,
   "metadata": {
    "collapsed": false
   },
   "outputs": [
    {
     "name": "stdout",
     "output_type": "stream",
     "text": [
      "Populating the interactive namespace from numpy and matplotlib\n"
     ]
    }
   ],
   "source": [
    "import numpy as np\n",
    "import nibabel as nib\n",
    "import dipy.reconst.dti as dti\n",
    "import dsiadapt as dsi\n",
    "import dipy.core.gradients as grad\n",
    "import matplotlib \n",
    "%pylab inline\n",
    "np.set_printoptions(threshold=numpy.nan)"
   ]
  },
  {
   "cell_type": "code",
   "execution_count": 2,
   "metadata": {
    "collapsed": false
   },
   "outputs": [
    {
     "name": "stdout",
     "output_type": "stream",
     "text": [
      "123\n",
      "4250.0\n",
      "57\n",
      "2000.0\n",
      "81\n",
      "1680.0\n"
     ]
    }
   ],
   "source": [
    "# Estimate diffusion rates using DTI fitting\n",
    "\n",
    "fnArr = np.array(['DSI17_exvivo', 'DSI11_invivo_b10k', 'DSI11_invivo_b7k'])\n",
    "bmaxthrArr = np.array([4500, 2000, 2000]);\n",
    "adArr = np.zeros(fnArr.shape[0]); # axial diffusion rate\n",
    "\n",
    "for ii in np.arange(fnArr.shape[0]):\n",
    "    fn = fnArr[ii];\n",
    "    data = nib.load('data/' + fn + '_cc.nii.gz').get_data();\n",
    "    gtab = grad.gradient_table('data/' + fn + '_bvals.txt', 'data/' + fn + '_bvecs.txt');\n",
    "    mask = gtab.bvals <= bmaxthrArr[ii]; # Use only data with bvals less than 3000\n",
    "    datamask = data[:, :, :, mask]\n",
    "    gtabmask = grad.gradient_table_from_bvals_bvecs(gtab.bvals[mask], gtab.bvecs[mask, :])\n",
    "    disp(gtabmask.bvals.shape) # Number of measurements used for DTI fitting\n",
    "    disp(gtabmask.bvals.max())\n",
    "    \n",
    "    tensormodel = dti.TensorModel(gtabmask)\n",
    "    tensorfit = tensormodel.fit(datamask)\n",
    "    adArr[ii] = tensorfit.ad.mean()\n",
    "\n",
    "adArr = np.concatenate((adArr[0:1], adArr[0:1], adArr)) # Use the ad from ex vivo DSI17 for ex vivo DSI15 and ex vivo DSI11"
   ]
  },
  {
   "cell_type": "code",
   "execution_count": 3,
   "metadata": {
    "collapsed": false
   },
   "outputs": [
    {
     "name": "stdout",
     "output_type": "stream",
     "text": [
      "[ 0.00017951  0.00017951  0.00017951  0.00142466  0.00163717]\n"
     ]
    }
   ],
   "source": [
    "disp(adArr)"
   ]
  },
  {
   "cell_type": "code",
   "execution_count": 4,
   "metadata": {
    "collapsed": false
   },
   "outputs": [],
   "source": [
    "# Estimate mean diffusion distance\n",
    "fnArr = np.array(['DSI11_exvivo', 'DSI15_exvivo', 'DSI17_exvivo', 'DSI11_invivo_b10k', 'DSI11_invivo_b7k'])\n",
    "DELTAArr = np.array([29.4 * 10**-3, 29.4 * 10**-3, 29.4 * 10**-3, 20.9 * 10**-3, 49.2 * 10**-3]); # in second\n",
    "deltaArr = np.array([16.7 * 10**-3, 16.7 * 10**-3, 16.7 * 10**-3, 12.9 * 10**-3, 42.3 * 10**-3]); # in second\n",
    "fovArr = np.zeros(fnArr.shape[0]);\n",
    "mddArr = np.zeros(fnArr.shape[0]);\n",
    "\n",
    "for ii in np.arange(fnArr.shape[0]):\n",
    "    fn = fnArr[ii];\n",
    "    gtab = grad.gradient_table('data/' + fn + '_bvals.txt', 'data/' + fn + '_bvecs.txt');\n",
    "    DELTA = DELTAArr[ii]; # second\n",
    "    delta = deltaArr[ii]; # second\n",
    "    ad = adArr[ii]; # mm2/s\n",
    "    \n",
    "    # Compute FOV\n",
    "    bmax = gtab.bvals.max(); # s/mm2\n",
    "    qmax = np.sqrt(bmax / (DELTA - delta / 3)) / (2 * np.pi); # mm-1\n",
    "    deltaq = qmax / dsi.create_qtable(gtab).max(); # mm-1\n",
    "    fovArr[ii] = 1 / deltaq; # mm\n",
    "    \n",
    "    # Compute MDD\n",
    "    mddArr[ii] = np.sqrt(6 * ad * (DELTA - delta / 3)); # mm\n",
    "    \n",
    "    np.savetxt('data/' + fn + '_stats.txt', (mddArr[ii], fovArr[ii]));"
   ]
  },
  {
   "cell_type": "code",
   "execution_count": 5,
   "metadata": {
    "collapsed": false
   },
   "outputs": [
    {
     "name": "stdout",
     "output_type": "stream",
     "text": [
      "[ 0.00506661  0.00506661  0.00506661  0.01191204  0.01856845]\n",
      "[ 0.02797822  0.0391695   0.04476515  0.04047659  0.07034843]\n"
     ]
    }
   ],
   "source": [
    "disp(mddArr)\n",
    "disp(fovArr)"
   ]
  }
 ],
 "metadata": {
  "kernelspec": {
   "display_name": "Python 2",
   "language": "python",
   "name": "python2"
  },
  "language_info": {
   "codemirror_mode": {
    "name": "ipython",
    "version": 2
   },
   "file_extension": ".py",
   "mimetype": "text/x-python",
   "name": "python",
   "nbconvert_exporter": "python",
   "pygments_lexer": "ipython2",
   "version": "2.7.10"
  }
 },
 "nbformat": 4,
 "nbformat_minor": 0
}
