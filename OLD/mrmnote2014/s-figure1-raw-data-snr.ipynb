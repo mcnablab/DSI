{
 "metadata": {
  "name": "s-figure1-raw-data-snr"
 },
 "nbformat": 3,
 "nbformat_minor": 0,
 "worksheets": [
  {
   "cells": [
    {
     "cell_type": "code",
     "collapsed": false,
     "input": [
      "import numpy as np\n",
      "import nibabel as nib\n",
      "import numpy.matlib as matlab\n",
      "\n",
      "%pylab inline\n",
      "np.set_printoptions(threshold=numpy.nan)"
     ],
     "language": "python",
     "metadata": {},
     "outputs": [
      {
       "output_type": "stream",
       "stream": "stdout",
       "text": [
        "\n",
        "Welcome to pylab, a matplotlib-based Python environment [backend: module://IPython.kernel.zmq.pylab.backend_inline].\n",
        "For more information, type 'help(pylab)'.\n"
       ]
      }
     ],
     "prompt_number": 16
    },
    {
     "cell_type": "code",
     "collapsed": false,
     "input": [
      "def orderbvals(mean, bvals):\n",
      "    uniqbvals = np.unique(bvals)\n",
      "    uniqmean = np.zeros((uniqbvals.shape[0], 1))\n",
      "    for i in range(uniqbvals.shape[0]):\n",
      "        idx = bvals == uniqbvals[i]\n",
      "        tmp = mean[idx,...]\n",
      "        uniqmean[i] = tmp.mean()\n",
      "    return uniqmean, uniqbvals"
     ],
     "language": "python",
     "metadata": {},
     "outputs": [],
     "prompt_number": 17
    },
    {
     "cell_type": "code",
     "collapsed": false,
     "input": [
      "# Data path\n",
      "data_path = '/biac4/wandell/data/qytian/DSIProject/'"
     ],
     "language": "python",
     "metadata": {},
     "outputs": [],
     "prompt_number": 18
    },
    {
     "cell_type": "code",
     "collapsed": false,
     "input": [
      "# First we have a look of the brain volume mean of the four datasets"
     ],
     "language": "python",
     "metadata": {},
     "outputs": [],
     "prompt_number": 19
    },
    {
     "cell_type": "code",
     "collapsed": false,
     "input": [
      "# Load DSI515 data\n",
      "DSI515_bx_volmean = nib.load(data_path + 'DSI515/SNR/DSI515_bx_volmean.nii.gz').get_data()\n",
      "DSI515_b0_volmean = nib.load(data_path + 'DSI515/SNR/DSI515_b0_volmean.nii.gz').get_data()[:, :, :, 0]\n",
      "DSI515_volmean = np.squeeze(np.concatenate([DSI515_b0_volmean[..., None], DSI515_bx_volmean], axis=-1), axis = (0,1)).T\n",
      "DSI515_bvals = np.loadtxt(data_path + 'DSI515/bvals_515_standard.txt')"
     ],
     "language": "python",
     "metadata": {},
     "outputs": [],
     "prompt_number": 20
    },
    {
     "cell_type": "code",
     "collapsed": false,
     "input": [
      "# Load DSI515 in vivo data\n",
      "DSI515_invivo_volmean = nib.load(data_path + 'DSI515_invivo/SNR/DSI515_invivo_volmean.nii.gz').get_data()\n",
      "DSI515_invivo_volmean = np.squeeze(DSI515_invivo_volmean, axis = (0,1)).T\n",
      "DSI515_invivo_bvals = np.loadtxt(data_path + 'DSI515_invivo/bvals')"
     ],
     "language": "python",
     "metadata": {},
     "outputs": [],
     "prompt_number": 21
    },
    {
     "cell_type": "code",
     "collapsed": false,
     "input": [
      "# Load DSI1418 data\n",
      "DSI1418_bx_volmean = nib.load(data_path + 'DSI1418/SNR/DSI1418_bx_volmean.nii.gz').get_data()\n",
      "DSI1418_b0_volmean = nib.load(data_path + 'DSI1418/SNR/DSI1418_b0_volmean.nii.gz').get_data()[:, :, :, 0]\n",
      "DSI1418_volmean = np.squeeze(np.concatenate([DSI1418_b0_volmean[..., None], DSI1418_bx_volmean], axis=-1), axis = (0,1)).T\n",
      "DSI1418_bvals = np.loadtxt(data_path + 'DSI1418/bvals_1418_standard.txt')"
     ],
     "language": "python",
     "metadata": {},
     "outputs": [],
     "prompt_number": 22
    },
    {
     "cell_type": "code",
     "collapsed": false,
     "input": [
      "# Load DSI2109 data\n",
      "DSI2109_bx_volmean = nib.load(data_path + 'DSI2109/SNR/DSI2109_bx_volmean.nii.gz').get_data()\n",
      "DSI2109_b0_volmean = nib.load(data_path + 'DSI2109/SNR/DSI2109_b0_volmean.nii.gz').get_data()[:, :, :, 0]\n",
      "DSI2109_volmean = np.squeeze(np.concatenate([DSI2109_b0_volmean[..., None], DSI2109_bx_volmean], axis=-1), axis = (0,1)).T\n",
      "DSI2109_bvals = np.loadtxt(data_path + 'DSI2109/bvals_2109_standard.txt')"
     ],
     "language": "python",
     "metadata": {},
     "outputs": [],
     "prompt_number": 23
    },
    {
     "cell_type": "code",
     "collapsed": false,
     "input": [
      "# Each q value has several directions. Combine them by taking their averages.\n",
      "DSI515_uniqvolmean, DSI515_uniqbvals = orderbvals(DSI515_volmean, DSI515_bvals)\n",
      "DSI515_invivo_uniqvolmean, DSI515_invivo_uniqbvals = orderbvals(DSI515_invivo_volmean, DSI515_invivo_bvals)\n",
      "DSI1418_uniqvolmean, DSI1418_uniqbvals = orderbvals(DSI1418_volmean, DSI1418_bvals)\n",
      "DSI2109_uniqvolmean, DSI2109_uniqbvals = orderbvals(DSI2109_volmean, DSI2109_bvals)"
     ],
     "language": "python",
     "metadata": {},
     "outputs": [],
     "prompt_number": 24
    },
    {
     "cell_type": "code",
     "collapsed": false,
     "input": [
      "disp(DSI515_uniqvolmean.max())\n",
      "disp(DSI515_invivo_uniqvolmean.max())\n",
      "disp(DSI1418_uniqvolmean.max())\n",
      "disp(DSI2109_uniqvolmean.max())"
     ],
     "language": "python",
     "metadata": {},
     "outputs": [
      {
       "output_type": "stream",
       "stream": "stdout",
       "text": [
        "169.148620605\n"
       ]
      },
      {
       "output_type": "stream",
       "stream": "stdout",
       "text": [
        "171.616516113\n"
       ]
      },
      {
       "output_type": "stream",
       "stream": "stdout",
       "text": [
        "169.163757324\n"
       ]
      },
      {
       "output_type": "stream",
       "stream": "stdout",
       "text": [
        "170.043640137\n"
       ]
      }
     ],
     "prompt_number": 45
    },
    {
     "cell_type": "code",
     "collapsed": false,
     "input": [
      "figure(figsize=(12, 9))\n",
      "plot(DSI515_uniqbvals, DSI515_uniqvolmean)\n",
      "plot(DSI515_invivo_uniqbvals, DSI515_invivo_uniqvolmean)\n",
      "plot(DSI1418_uniqbvals, DSI1418_uniqvolmean)\n",
      "plot(DSI2109_uniqbvals, DSI2109_uniqvolmean)\n",
      "xlim([0, 30000])\n",
      "legend([\"DSI11\", \"DSI11_invivo\", \"DSI15\", \"DSI17\"])\n",
      "savefig('volmean.png')"
     ],
     "language": "python",
     "metadata": {},
     "outputs": [
      {
       "output_type": "display_data",
       "png": "[encoded data removed]",
       "text": [
        "<matplotlib.figure.Figure at 0x38a4750>"
       ]
      }
     ],
     "prompt_number": 26
    },
    {
     "cell_type": "code",
     "collapsed": false,
     "input": [
      "# Next we have a look a the tempory SNR for b0 repeatitions"
     ],
     "language": "python",
     "metadata": {},
     "outputs": [],
     "prompt_number": 10
    },
    {
     "cell_type": "code",
     "collapsed": false,
     "input": [
      "mask = nib.load(data_path + 'DSI515/mask_mask_hand.nii.gz').get_data()\n",
      "brainmask = mask > 0.5;\n",
      "bkgmask = mask < 0.5;"
     ],
     "language": "python",
     "metadata": {},
     "outputs": [],
     "prompt_number": 29
    },
    {
     "cell_type": "code",
     "collapsed": false,
     "input": [
      "# Load data. There is only one b0 image for the DSI515 in vivo data\n",
      "DSI515_b0_braintempmean = nib.load(data_path + 'DSI515/SNR/DSI515_b0_tempmean.nii.gz').get_data()[brainmask]\n",
      "DSI1418_b0_braintempmean = nib.load(data_path + 'DSI1418/SNR/DSI1418_b0_tempmean.nii.gz').get_data()[brainmask]\n",
      "DSI2109_b0_braintempmean = nib.load(data_path + 'DSI2109/SNR/DSI2109_b0_tempmean.nii.gz').get_data()[brainmask]\n",
      "\n",
      "DSI515_b0_bkgtempstd = nib.load(data_path + 'DSI515/SNR/DSI515_b0_tempstd.nii.gz').get_data()[bkgmask]\n",
      "DSI1418_b0_bkgtempstd = nib.load(data_path + 'DSI1418/SNR/DSI1418_b0_tempstd.nii.gz').get_data()[bkgmask]\n",
      "DSI2109_b0_bkgtempstd = nib.load(data_path + 'DSI2109/SNR/DSI2109_b0_tempstd.nii.gz').get_data()[bkgmask]"
     ],
     "language": "python",
     "metadata": {},
     "outputs": [],
     "prompt_number": 61
    },
    {
     "cell_type": "code",
     "collapsed": false,
     "input": [
      "# List the medien values\n",
      "disp(np.median(DSI515_b0_braintempmean))\n",
      "disp(np.median(DSI1418_b0_braintempmean))\n",
      "disp(np.median(DSI2109_b0_braintempmean))"
     ],
     "language": "python",
     "metadata": {},
     "outputs": [
      {
       "output_type": "stream",
       "stream": "stdout",
       "text": [
        "408.081085205\n"
       ]
      },
      {
       "output_type": "stream",
       "stream": "stdout",
       "text": [
        "376.75491333\n"
       ]
      },
      {
       "output_type": "stream",
       "stream": "stdout",
       "text": [
        "418.212127686\n"
       ]
      }
     ],
     "prompt_number": 71
    },
    {
     "cell_type": "code",
     "collapsed": false,
     "input": [
      "# List the medien values\n",
      "disp(np.median(DSI515_b0_bkgtempstd))\n",
      "disp(np.median(DSI1418_b0_bkgtempstd))\n",
      "disp(np.median(DSI2109_b0_bkgtempstd))"
     ],
     "language": "python",
     "metadata": {},
     "outputs": [
      {
       "output_type": "stream",
       "stream": "stdout",
       "text": [
        "8.61026382446\n"
       ]
      },
      {
       "output_type": "stream",
       "stream": "stdout",
       "text": [
        "10.1403465271\n"
       ]
      },
      {
       "output_type": "stream",
       "stream": "stdout",
       "text": [
        "7.92342424393\n"
       ]
      }
     ],
     "prompt_number": 33
    },
    {
     "cell_type": "code",
     "collapsed": false,
     "input": [],
     "language": "python",
     "metadata": {},
     "outputs": [
      {
       "output_type": "pyout",
       "prompt_number": 63,
       "text": [
        "(407181,)"
       ]
      }
     ],
     "prompt_number": 63
    },
    {
     "cell_type": "code",
     "collapsed": false,
     "input": [
      "figure(figsize=(12, 12))\n",
      "h1 = subplot(2, 1, 1)\n",
      "hist(DSI515_b0_braintempmean, bins=100, range=[0, 1000]);\n",
      "subplot(2, 1, 2)\n",
      "hist(DSI515_b0_bkgtempstd, bins=100, range=[0, 50]);"
     ],
     "language": "python",
     "metadata": {},
     "outputs": [
      {
       "output_type": "display_data",
       "png": "[encoded data removed]",
       "text": [
        "<matplotlib.figure.Figure at 0x9e6e0d0>"
       ]
      }
     ],
     "prompt_number": 70
    },
    {
     "cell_type": "code",
     "collapsed": false,
     "input": [
      "#figure(figsize=(12, 15))\n",
      "\n",
      "#h1 = subplot(3, 1, 1)\n",
      "#idx = np.where(np.logical_and(DSI515_b0_tempsnr > 0, DSI515_b0_tempsnr < 30))\n",
      "#h1.hist(DSI515_b0_tempsnr[idx], bins=100);\n",
      "\n",
      "#h1 = subplot(3, 1, 2)\n",
      "#idx = np.where(np.logical_and(DSI1418_b0_tempsnr > 0, DSI1418_b0_tempsnr < 30))\n",
      "#h1.hist(DSI1418_b0_tempsnr[idx], bins=100);\n",
      "\n",
      "#h1 = subplot(3, 1, 3)\n",
      "#idx = np.where(np.logical_and(DSI2109_b0_tempsnr > 0, DSI2109_b0_tempsnr < 30))\n",
      "#h1.hist(DSI2109_b0_tempsnr[idx], bins=100);\n",
      "#savefig('b0tempsnr.png')"
     ],
     "language": "python",
     "metadata": {},
     "outputs": [],
     "prompt_number": 72
    },
    {
     "cell_type": "code",
     "collapsed": false,
     "input": [],
     "language": "python",
     "metadata": {},
     "outputs": [],
     "prompt_number": 45
    },
    {
     "cell_type": "code",
     "collapsed": false,
     "input": [],
     "language": "python",
     "metadata": {},
     "outputs": [],
     "prompt_number": 45
    },
    {
     "cell_type": "code",
     "collapsed": false,
     "input": [],
     "language": "python",
     "metadata": {},
     "outputs": [],
     "prompt_number": 45
    },
    {
     "cell_type": "code",
     "collapsed": false,
     "input": [],
     "language": "python",
     "metadata": {},
     "outputs": [],
     "prompt_number": 15
    }
   ],
   "metadata": {}
  }
 ]
}