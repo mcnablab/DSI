{
 "metadata": {
  "name": "s-subsampling-recon-hanning-newplan"
 },
 "nbformat": 3,
 "nbformat_minor": 0,
 "worksheets": [
  {
   "cells": [
    {
     "cell_type": "code",
     "collapsed": false,
     "input": [
      "#This script reconstructs odfs from sub-sampled DSI2109 with various sub-sampling schemes using default sampling length in GQI\n",
      "#Apply hanning filtering to the original signal before fitting to the GQI2 model"
     ],
     "language": "python",
     "metadata": {},
     "outputs": [],
     "prompt_number": 1
    },
    {
     "cell_type": "code",
     "collapsed": false,
     "input": [
      "%pylab inline\n",
      "import nibabel as nib\n",
      "from dipy.data import get_sphere\n",
      "from dipy.reconst.gqi import GeneralizedQSamplingModel\n",
      "from dipy.reconst.peaks import peaks_from_model\n",
      "import numpy as np\n",
      "import dipy.core.gradients as grad\n",
      "from dipy.viz import fvtk\n",
      "import dipy.data as dpd\n",
      "import dsitool as dtl"
     ],
     "language": "python",
     "metadata": {},
     "outputs": [
      {
       "output_type": "stream",
       "stream": "stdout",
       "text": [
        "\n",
        "Welcome to pylab, a matplotlib-based Python environment [backend: module://IPython.kernel.zmq.pylab.backend_inline].\n",
        "For more information, type 'help(pylab)'.\n"
       ]
      }
     ],
     "prompt_number": 2
    },
    {
     "cell_type": "code",
     "collapsed": false,
     "input": [
      "#Read in data\n",
      "data_name = '515' \n",
      "\n",
      "data_path = '/biac4/wandell/data/qytian/DSIProject/'\n",
      "\n",
      "img_bx = nib.load(data_path + 'DSI' + data_name + '/DSI' + data_name + '_bx_reg_cc.nii.gz')\n",
      "data_bx = img_bx.get_data()\n",
      "\n",
      "img_b0 = nib.load(data_path + 'DSI' + data_name + '/DSI' + data_name + '_b0_reg_cc.nii.gz')\n",
      "data_b0 = img_b0.get_data()\n",
      "\n",
      "data_b0_avg = np.mean(data_b0,-1)\n",
      "data = np.concatenate([data_b0_avg[...,None], data_bx], axis=-1)\n",
      "\n",
      "gtab = grad.gradient_table(data_path + 'DSI' + data_name + '/bvals_' + data_name + '_standard.txt', \n",
      "                           data_path + 'DSI' + data_name + '/bvecs_prs_' + data_name + '_standard.txt')"
     ],
     "language": "python",
     "metadata": {},
     "outputs": [],
     "prompt_number": 3
    },
    {
     "cell_type": "code",
     "collapsed": false,
     "input": [
      "# Create q-table\n",
      "def create_qtable(gtab):\n",
      "    bv = gtab.bvals\n",
      "    bmin = np.sort(bv)[1]\n",
      "    qv = np.sqrt(bv / bmin)\n",
      "    qtable = np.vstack((qv, qv, qv)).T * gtab.bvecs\n",
      "    return np.floor(qtable + .5)\n",
      "\n",
      "qtable = create_qtable(gtab)\n"
     ],
     "language": "python",
     "metadata": {},
     "outputs": [],
     "prompt_number": 4
    },
    {
     "cell_type": "code",
     "collapsed": false,
     "input": [
      "qgrid_size = 101;\n",
      "origin = qgrid_size // 2\n",
      "qgrid = dtl.create_qspace(gtab, origin)\n",
      "qgrid.shape"
     ],
     "language": "python",
     "metadata": {},
     "outputs": [
      {
       "output_type": "pyout",
       "prompt_number": 5,
       "text": [
        "(515, 3)"
       ]
      }
     ],
     "prompt_number": 5
    },
    {
     "cell_type": "code",
     "collapsed": false,
     "input": [
      "def hanning_filter(gtab, filter_width):\n",
      "    qtable = create_qtable(gtab)\n",
      "    r = np.sqrt(qtable[:, 0] ** 2 + qtable[:, 1] ** 2 + qtable[:, 2] ** 2)\n",
      "    return 0.5 * (1 + np.cos(2 * np.pi * r / filter_width))"
     ],
     "language": "python",
     "metadata": {},
     "outputs": [],
     "prompt_number": 6
    },
    {
     "cell_type": "code",
     "collapsed": false,
     "input": [
      "hann = hanning_filter(gtab, qtable.max()*2)\n",
      "hann.min()\n",
      "\n",
      "x = data.shape[0]\n",
      "y = data.shape[1]\n",
      "z = data.shape[2]\n",
      "\n",
      "#data = data[3, 0, 0, :];\n",
      "\n",
      "#data_hann = data * tile(np.ones(data.shape[-1]), (x, y, z, 1))\n",
      "#data_hann = data * tile(hann, (x, y, z, 1))\n",
      "data_hann = data"
     ],
     "language": "python",
     "metadata": {},
     "outputs": [],
     "prompt_number": 7
    },
    {
     "cell_type": "code",
     "collapsed": false,
     "input": [
      "data_hann.shape\n",
      "x"
     ],
     "language": "python",
     "metadata": {},
     "outputs": [
      {
       "output_type": "pyout",
       "prompt_number": 8,
       "text": [
        "1"
       ]
      }
     ],
     "prompt_number": 8
    },
    {
     "cell_type": "code",
     "collapsed": false,
     "input": [
      "# Perform sub-sampling\n",
      "\n",
      "# idx for different sub-sampling schemes\n",
      "idx = np.where(np.mod(np.abs(qtable[:, 0]), 1)==0)\n",
      "#idx = np.where(np.mod(np.abs(qtable[:, 0]), 2)==0)\n",
      "#idx = np.where(np.mod(np.abs(qtable[:, 1]), 2)==0)\n",
      "#idx = np.where(np.mod(np.abs(qtable[:, 2]), 2)==0)\n",
      "#idx = np.where((np.mod(np.abs(qtable[:, 0]), 2)==0) * (np.mod(np.abs(qtable[:, 1]), 2)==0) * (np.mod(np.abs(qtable[:, 2]), 2)==0))\n",
      "\n",
      "gtab_sub = grad.gradient_table(gtab.bvals[idx], gtab.bvecs[idx])\n",
      "#data_sub = data[...,idx]\n",
      "data_sub = data_hann[...,idx]\n",
      "data_sub = np.swapaxes(data_sub, 3, 4);\n",
      "data_sub = data_sub[:, :, :, :, 0]\n",
      "qgrid_sub = qgrid[idx, :]\n",
      "qgrid_sub = qgrid_sub[0, :, :];"
     ],
     "language": "python",
     "metadata": {},
     "outputs": [],
     "prompt_number": 9
    },
    {
     "cell_type": "code",
     "collapsed": false,
     "input": [
      "values = data_sub[0, 0, 0, :];\n",
      "\n",
      "Sq = np.zeros((qgrid_size, qgrid_size, qgrid_size))\n",
      "\n",
      "for i in range(len(values)):\n",
      "    qx, qy, qz = qgrid_sub[i, :]\n",
      "    Sq[qx, qy, qz] += values[i]"
     ],
     "language": "python",
     "metadata": {},
     "outputs": [],
     "prompt_number": 10
    },
    {
     "cell_type": "code",
     "collapsed": false,
     "input": [
      "signalslice = Sq[qgrid_size // 2, :, :]\n",
      "matshow(signalslice)\n",
      "signalslice.max()\n",
      "\n",
      "#fig, ax1 = plt.subplots(1)\n",
      "#ff = ax1.hist(signalslice, bins=100)"
     ],
     "language": "python",
     "metadata": {},
     "outputs": [
      {
       "output_type": "pyout",
       "prompt_number": 11,
       "text": [
        "166.64864864864865"
       ]
      },
      {
       "output_type": "display_data",
       "png": "[encoded data removed]",
       "text": [
        "<matplotlib.figure.Figure at 0x48ad250>"
       ]
      }
     ],
     "prompt_number": 11
    },
    {
     "cell_type": "code",
     "collapsed": false,
     "input": [
      "data.shape"
     ],
     "language": "python",
     "metadata": {},
     "outputs": [
      {
       "output_type": "pyout",
       "prompt_number": 12,
       "text": [
        "(1, 4, 2, 515)"
       ]
      }
     ],
     "prompt_number": 12
    },
    {
     "cell_type": "code",
     "collapsed": false,
     "input": [
      "number = 16\n",
      "repsignalslice = Sq[qgrid_size // 2 - number//2, :, :]\n",
      "for i in range(number):\n",
      "    repsignalslice = np.concatenate((repsignalslice, Sq[qgrid_size // 2 + i - number//2 + 1, :, :]), axis = 1)\n",
      "                             \n",
      "matshow(repsignalslice)\n",
      "    \n",
      "    "
     ],
     "language": "python",
     "metadata": {},
     "outputs": [
      {
       "output_type": "pyout",
       "prompt_number": 13,
       "text": [
        "<matplotlib.image.AxesImage at 0x4a65e10>"
       ]
      },
      {
       "output_type": "display_data",
       "png": "[encoded data removed]",
       "text": [
        "<matplotlib.figure.Figure at 0x48c0210>"
       ]
      }
     ],
     "prompt_number": 13
    },
    {
     "cell_type": "code",
     "collapsed": false,
     "input": [
      "Pr = fftshift(ifftn(ifftshift(Sq), (Sq.shape[0], Sq.shape[1], Sq.shape[2])))\n",
      "#pdf = np.abs(Pr)\n",
      "pdf = np.real(Pr)\n",
      "pdf = np.clip(pdf, 0, pdf.max())    \n",
      "\n",
      "print(pdf.max())\n",
      "print(pdf.min())\n",
      "\n",
      "normpdf = pdf / pdf.sum()\n",
      "normpdf.shape\n"
     ],
     "language": "python",
     "metadata": {},
     "outputs": [
      {
       "output_type": "stream",
       "stream": "stdout",
       "text": [
        "0.0420611536324\n",
        "0.0\n"
       ]
      },
      {
       "output_type": "pyout",
       "prompt_number": 14,
       "text": [
        "(101, 101, 101)"
       ]
      }
     ],
     "prompt_number": 14
    },
    {
     "cell_type": "code",
     "collapsed": false,
     "input": [
      "slice = normpdf[qgrid_size // 2, :, :]\n",
      "#slice = normpdf[:, qgrid_size // 2, :]\n",
      "slice = normpdf[:, :, qgrid_size // 2]\n",
      "matshow(slice)\n",
      "\n",
      "#imgplot = plt.imshow(slice)\n",
      "#imgplot.set_cmap('gray')\n",
      "\n",
      "#fig, ax1 = plt.subplots(1)\n",
      "#ff = ax1.hist(slice, bins=100)"
     ],
     "language": "python",
     "metadata": {},
     "outputs": [
      {
       "output_type": "pyout",
       "prompt_number": 15,
       "text": [
        "<matplotlib.image.AxesImage at 0x4a859d0>"
       ]
      },
      {
       "output_type": "display_data",
       "png": "[encoded data removed]",
       "text": [
        "<matplotlib.figure.Figure at 0x48adc50>"
       ]
      }
     ],
     "prompt_number": 15
    },
    {
     "cell_type": "code",
     "collapsed": false,
     "input": [
      "markedslice = normpdf[:, :, qgrid_size // 2];\n",
      "#ratio = 1.2/0.75/np.pi\n",
      "ratio = 0.95;\n",
      "width = np.round(markedslice.shape[0] * ratio//2); \n",
      "center = markedslice.shape[0]//2\n",
      "markedslice[center - width, center - width: center + width] = markedslice.max()\n",
      "markedslice[center + width, center - width: center + width] = markedslice.max()\n",
      "markedslice[center - width: center + width, center - width] = markedslice.max()\n",
      "markedslice[center - width: center + width, center + width] = markedslice.max()\n",
      "matshow(markedslice)"
     ],
     "language": "python",
     "metadata": {},
     "outputs": [
      {
       "output_type": "pyout",
       "prompt_number": 16,
       "text": [
        "<matplotlib.image.AxesImage at 0x6ede310>"
       ]
      },
      {
       "output_type": "display_data",
       "png": "[encoded data removed]",
       "text": [
        "<matplotlib.figure.Figure at 0x4a8a5d0>"
       ]
      }
     ],
     "prompt_number": 16
    },
    {
     "cell_type": "code",
     "collapsed": false,
     "input": [
      "data_sub = np.swapaxes(data_sub, 0, 2);"
     ],
     "language": "python",
     "metadata": {},
     "outputs": [],
     "prompt_number": 17
    },
    {
     "cell_type": "code",
     "collapsed": false,
     "input": [
      "gqmodel = GeneralizedQSamplingModel(gtab_sub, 'gqi2', sampling_length=ratio * 0.74) # sampling_length=1.2 is the default\n",
      "#gqmodel = GeneralizedQSamplingModel(gtab_sub, 'standard', sampling_length=3/np.pi) # sampling_length=1.2 is the default\n",
      "gqfit = gqmodel.fit(data_sub)\n",
      "sphere = get_sphere('symmetric724') \n",
      "odf = gqfit.odf(sphere)"
     ],
     "language": "python",
     "metadata": {},
     "outputs": [],
     "prompt_number": 18
    },
    {
     "cell_type": "code",
     "collapsed": false,
     "input": [
      "r = fvtk.ren() \n",
      "fvtk.add(r, fvtk.sphere_funcs(odf, sphere))\n",
      "fvtk.show(r)\n",
      "#fvtk.record(r, n_frames=1, out_path='results/odf_DSI2109_sub_xyz.png', size=(600,600)) # modify save file name according to the sub-sampling scheme\n",
      "fvtk.record(r, n_frames=1, out_path='results/newplan.png', size=(600,600)) # modify save file name according to the sub-sampling scheme"
     ],
     "language": "python",
     "metadata": {},
     "outputs": [],
     "prompt_number": 19
    },
    {
     "cell_type": "code",
     "collapsed": false,
     "input": [
      "from dipy.reconst.odf import gfa\n",
      "gfa(odf)"
     ],
     "language": "python",
     "metadata": {},
     "outputs": [
      {
       "output_type": "pyout",
       "prompt_number": 20,
       "text": [
        "array([[[ 0.79564371],\n",
        "        [ 0.72996251],\n",
        "        [ 0.67765781],\n",
        "        [ 0.68732987]],\n",
        "\n",
        "       [[ 0.76642999],\n",
        "        [ 0.74803193],\n",
        "        [ 0.77313988],\n",
        "        [ 0.72362895]]])"
       ]
      }
     ],
     "prompt_number": 20
    },
    {
     "cell_type": "code",
     "collapsed": false,
     "input": [
      "gfa(odf).mean()"
     ],
     "language": "python",
     "metadata": {},
     "outputs": [
      {
       "output_type": "pyout",
       "prompt_number": 21,
       "text": [
        "0.73772808093198572"
       ]
      }
     ],
     "prompt_number": 21
    },
    {
     "cell_type": "code",
     "collapsed": false,
     "input": [
      "ind = np.argmax(odf, axis=-1)"
     ],
     "language": "python",
     "metadata": {},
     "outputs": [],
     "prompt_number": 22
    },
    {
     "cell_type": "code",
     "collapsed": false,
     "input": [
      "import dipy.reconst.dsi as dsi\n",
      "\n",
      "dsimodel = dsi.DiffusionSpectrumModel(gtab_sub, qgrid_size=17, r_start=3.1, r_end=5.5, r_step=0.2, filter_width=20)\n",
      "dsimodel = dsi.DiffusionSpectrumModel(gtab_sub, qgrid_size=25, r_start=3.1, r_end=5.5, r_step=0.2, filter_width=20)\n",
      "#dsimodel = dsi.DiffusionSpectrumModel(gtab_sub, qgrid_size=27, r_start=0.5, r_end=5.5, r_step=0.2, filter_width=20)\n",
      "dsifit = dsimodel.fit(data_sub)\n",
      "sphere = get_sphere('symmetric724')\n",
      "dsiodf = dsifit.odf(sphere)\n",
      "\n",
      "ren = fvtk.ren()\n",
      "#fvtk.add(ren, fvtk.sphere_funcs(dsiodf, sphere))\n",
      "#fvtk.show(ren)\n"
     ],
     "language": "python",
     "metadata": {},
     "outputs": [],
     "prompt_number": 23
    },
    {
     "cell_type": "code",
     "collapsed": false,
     "input": [],
     "language": "python",
     "metadata": {},
     "outputs": [],
     "prompt_number": 23
    }
   ],
   "metadata": {}
  }
 ]
}