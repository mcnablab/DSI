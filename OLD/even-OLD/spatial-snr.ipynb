{
 "metadata": {
  "name": "spatial-snr"
 },
 "nbformat": 3,
 "nbformat_minor": 0,
 "worksheets": [
  {
   "cells": [
    {
     "cell_type": "code",
     "collapsed": false,
     "input": [
      "import numpy as np\n",
      "import nibabel as nib\n",
      "import numpy.matlib as matlab\n",
      "\n",
      "%pylab inline\n",
      "np.set_printoptions(threshold=numpy.nan)"
     ],
     "language": "python",
     "metadata": {},
     "outputs": [
      {
       "output_type": "stream",
       "stream": "stdout",
       "text": [
        "\n",
        "Welcome to pylab, a matplotlib-based Python environment [backend: module://IPython.kernel.zmq.pylab.backend_inline].\n",
        "For more information, type 'help(pylab)'.\n"
       ]
      }
     ],
     "prompt_number": 4
    },
    {
     "cell_type": "code",
     "collapsed": false,
     "input": [
      "# Load data\n",
      "\n",
      "data_path = '/biac4/wandell/data/qytian/DSIProject/'\n",
      "\n",
      "img_bx= nib.load(data_path + 'DSI515/testresult.nii.gz')\n",
      "data_bx = img_bx.get_data()\n",
      "\n",
      "img_b0 = nib.load(data_path + 'DSI515/DSI515_b0_reg.nii.gz')\n",
      "data_b0 = img_b0.get_data()[:, :, :, 0]\n",
      "\n",
      "data = np.concatenate([data_b0[..., None], data_bx], axis=-1)\n",
      "\n",
      "# Load mask\n",
      "mask = nib.load(data_path + 'DSI515/mask_mask.nii.gz').get_data()\n",
      "mask.astype(float)\n",
      "\n",
      "# Load bvals\n",
      "bvals = np.loadtxt(data_path + 'DSI515/bvals_515_standard.txt')"
     ],
     "language": "python",
     "metadata": {},
     "outputs": [],
     "prompt_number": 5
    },
    {
     "cell_type": "code",
     "collapsed": false,
     "input": [
      "brainMean = np.zeros((data.shape[-1], 1))\n",
      "bkgStd = np.zeros((data.shape[-1], 1))\n",
      "bkgMean = np.zeros((data.shape[-1], 1))"
     ],
     "language": "python",
     "metadata": {},
     "outputs": [],
     "prompt_number": 6
    },
    {
     "cell_type": "code",
     "collapsed": false,
     "input": [
      "for i in range(data.shape[-1]): \n",
      "    brain = data[:, :, :, i] * mask    \n",
      "    brain = brain[mask == 1]\n",
      "    brainMean[i] = brain.mean()\n",
      "    \n",
      "    bkg = data[:, :, :, i] * (1 - mask) \n",
      "    bkg = bkg[mask == 0]\n",
      "    bkgStd[i] = bkg.std()\n",
      "    bkgMean[i] = bkg.mean()\n",
      "    "
     ],
     "language": "python",
     "metadata": {},
     "outputs": [],
     "prompt_number": 7
    },
    {
     "cell_type": "code",
     "collapsed": false,
     "input": [
      "tmp = bkgStd[2:]\n",
      "snr_brain = brainMean / tmp.mean();\n",
      "snr_bkg = bkgMean / tmp.mean();"
     ],
     "language": "python",
     "metadata": {},
     "outputs": [],
     "prompt_number": 8
    },
    {
     "cell_type": "code",
     "collapsed": false,
     "input": [
      "snr_brain = brainMean / bkgStd;\n",
      "snr_bkg = bkgMean / bkgStd;"
     ],
     "language": "python",
     "metadata": {},
     "outputs": [],
     "prompt_number": 9
    },
    {
     "cell_type": "code",
     "collapsed": false,
     "input": [
      "idx = np.where(bkgStd>20);\n",
      "idx[0]"
     ],
     "language": "python",
     "metadata": {},
     "outputs": [
      {
       "output_type": "pyout",
       "prompt_number": 10,
       "text": [
        "array([ 0, 31, 32, 33, 34, 35, 36, 37, 38, 39, 40, 41, 42, 43, 44, 45, 46,\n",
        "       47, 48, 49, 50, 51, 52, 53, 54, 55, 56])"
       ]
      }
     ],
     "prompt_number": 10
    },
    {
     "cell_type": "code",
     "collapsed": false,
     "input": [
      "bkgStd.T"
     ],
     "language": "python",
     "metadata": {},
     "outputs": [
      {
       "output_type": "pyout",
       "prompt_number": 11,
       "text": [
        "array([[ 94.08683976,  12.99126474,  12.87009093,  12.52418837,\n",
        "         13.07255095,  13.04546997,  12.79307523,  12.47140784,\n",
        "         13.12105461,  13.09515621,  12.64703984,  12.94506563,\n",
        "         12.79264464,  12.97001061,  12.50367437,  13.16358138,\n",
        "         12.35613529,  12.97034517,  12.84977146,  13.08244127,\n",
        "         12.69186192,  12.95502527,  12.46973311,  13.19049628,\n",
        "         12.32950206,  12.98026561,  12.84308416,  13.09213396,\n",
        "         12.6922328 ,  13.18936529,  12.53689745,  43.3816407 ,\n",
        "         43.13234044,  42.91531647,  42.50495612,  43.63105046,\n",
        "         42.31519777,  29.39823501,  29.17782341,  30.68996058,\n",
        "         29.90396913,  28.65209843,  28.94915561,  29.60520953,\n",
        "         29.20360486,  29.77633117,  28.83743164,  28.97127892,\n",
        "         29.48074898,  23.31774623,  22.77180555,  22.06954349,\n",
        "         22.4880184 ,  23.43508093,  22.59847586,  22.22367166,\n",
        "         22.39509004,  19.06179587,  19.07291081,  18.78278515,\n",
        "         18.88636459,  19.36334211,  18.63345936,  16.7359474 ,\n",
        "         17.07359953,  17.28445457,  17.18586899,  16.58299733,\n",
        "         16.88275817,  16.93600762,  16.89231633,  16.5690048 ,\n",
        "         16.95859296,  17.3185589 ,  16.92599298,  16.61856126,\n",
        "         16.8140187 ,  16.96843274,  16.58422205,  16.83180643,\n",
        "         16.69278737,  16.53916028,  16.92367094,  17.00453374,\n",
        "         16.620331  ,  16.54039068,  16.98778429,  15.6882036 ,\n",
        "         15.76862568,  15.12387711,  15.77666943,  15.86857171,\n",
        "         15.5344342 ,  15.43834709,  15.50340953,  15.56592996,\n",
        "         15.57762141,  15.12165361,  15.73180418,  15.7020034 ,\n",
        "         15.56014248,  15.13958154,  15.72649307,  16.00217451,\n",
        "         15.2945509 ,  15.32189852,  15.47954822,  15.89278696,\n",
        "         15.11809575,  15.5133114 ,  15.31912016,  14.04309301,\n",
        "         14.52301992,  14.40733064,  14.24160629,  13.8999626 ,\n",
        "         14.23174529,  14.20367755,  14.19865949,  14.23985096,\n",
        "         14.05466209,  14.02561693,  14.38404202,  13.67687438,\n",
        "         14.06931478,  13.78873223,  14.01407566,  13.5242766 ,\n",
        "         14.11895036,  13.91557353,  13.93609765,  13.4561073 ,\n",
        "         14.23282816,  14.03604501,  13.73374582,  13.6935052 ,\n",
        "         13.8588184 ,  13.98340302,  13.71743566,  13.76722484,\n",
        "         13.79097037,  13.81496693,  13.81910611,  13.53473199,\n",
        "         14.11972492,  14.03247336,  13.54146478,  13.68213685,\n",
        "         13.68248162,  13.72428006,  13.8186765 ,  13.90515659,\n",
        "         13.60930726,  13.33177562,  13.88419182,  13.59493578,\n",
        "         13.76202493,  13.34722721,  13.83984466,  13.49227837,\n",
        "         13.70316361,  13.4526057 ,  13.72973213,  13.65486897,\n",
        "         13.46066086,  13.42078357,  13.56826154,  13.63335519,\n",
        "         13.44760419,  13.51679179,  13.48659354,  13.33950856,\n",
        "         13.58966253,  13.6487844 ,  13.29836077,  13.32375223,\n",
        "         13.61094619,  13.33321355,  13.55756585,  13.0887637 ,\n",
        "         13.70542528,  13.34572658,  13.39519153,  13.15053404,\n",
        "         13.5553732 ,  13.31321064,  13.38860726,  13.12480133,\n",
        "         13.54147744,  13.45089127,  13.26246111,  13.09512311,\n",
        "         13.54082314,  13.53933058,  13.14043877,  13.23150797,\n",
        "         13.27710137,  13.50192992,  13.13441902,  13.39447365,\n",
        "         13.19995538,  13.3042518 ,  13.26356307,  12.93323658,\n",
        "         13.65775267,  13.34222699,  13.06352582,  13.04420122,\n",
        "         13.15639013,  13.00601072,  13.34796575,  13.14010816,\n",
        "         13.21376634,  12.88857196,  13.47290066,  13.07157785,\n",
        "         13.1335073 ,  13.02310276,  13.25924514,  13.19261663,\n",
        "         13.10947201,  12.92568051,  13.29980156,  13.16098153,\n",
        "         13.05635048,  13.12066589,  12.97266234,  12.98698977,\n",
        "         13.25399499,  13.14853722,  12.94854529,  12.86861026,\n",
        "         13.27462094,  13.03973181,  13.22107657,  12.81854247,\n",
        "         13.36726292,  13.07987152,  13.11928994,  12.77284473,\n",
        "         13.39356609,  13.0864255 ,  12.98855318,  12.8649084 ,\n",
        "         13.19049858,  13.0325395 ,  12.99856945,  12.85043192,\n",
        "         13.18226839,  13.0563721 ,  13.06606715,  12.88624945,\n",
        "         13.30573664,  13.07288481,  13.06259681,  12.79571242,\n",
        "         13.34323776,  13.19647365,  12.8866249 ,  12.86394389,\n",
        "         13.16081533,  13.10667378,  12.93309045,  12.99085779,\n",
        "         12.97317631,  13.17511794,  12.94975725,  12.87113682,\n",
        "         13.29033541,  13.16401554,  12.88270328,  12.8547182 ,\n",
        "         13.28717322,  13.31126473,  12.78516552,  12.87290027,\n",
        "         13.02313991,  13.28259888,  12.85666108,  12.95092862,\n",
        "         12.94783729,  12.792569  ,  13.22611345,  12.86234652,\n",
        "         12.9357178 ,  13.01251359,  12.74307531,  12.71245957,\n",
        "         13.20722366,  12.81200369,  13.15957609,  12.59279926,\n",
        "         13.24039804,  12.72452396,  13.15731175,  12.75369377,\n",
        "         12.9145943 ,  12.57370956,  13.28810398,  12.87914204,\n",
        "         12.76962345,  12.6603107 ,  13.03166783,  12.90776098,\n",
        "         12.83906092,  12.67653465,  13.25133528,  12.9366267 ,\n",
        "         12.81515925,  12.69622516,  13.25583753,  13.00990136,\n",
        "         12.69109512,  12.69449553,  12.90073691,  12.95229678,\n",
        "         12.76573656,  12.70106703,  12.92414497,  12.8622231 ,\n",
        "         12.89314303,  12.9534617 ,  12.73272783,  12.70565042,\n",
        "         12.92617138,  12.8751379 ,  12.70333691,  12.93056741,\n",
        "         12.7597703 ,  12.78653959,  12.93073735,  13.01589197,\n",
        "         12.71345143,  12.61217376,  12.9277402 ,  12.84582486,\n",
        "         12.9427478 ,  12.65465516,  13.13632053,  12.7773298 ,\n",
        "         13.03291228,  12.68448071,  13.15165994,  12.75842772,\n",
        "         13.07261417,  12.86387298,  12.88479957,  12.58422023,\n",
        "         13.17621496,  12.74013964,  12.81109341,  12.85352512,\n",
        "         12.81369976,  12.69282164,  13.02259425,  12.98261052,\n",
        "         12.70122257,  12.5433233 ,  13.07811517,  13.05009035,\n",
        "         12.62342575,  12.6146554 ,  12.92068955,  12.9743681 ,\n",
        "         12.6710542 ,  12.81791064,  12.77317616,  12.99946117,\n",
        "         12.63137609,  12.68367691,  13.05638985,  12.87814142,\n",
        "         12.91413732,  12.67313977,  13.15252519,  12.87380383,\n",
        "         12.84450932,  12.57795632,  13.24800097,  12.87964526,\n",
        "         12.80912395,  12.59332793,  13.11964566,  12.71730041,\n",
        "         12.82620016,  12.63783207,  12.98194824,  12.89964889,\n",
        "         12.77170398,  12.64535848,  13.15093873,  13.10758967,\n",
        "         12.55344029,  12.6963891 ,  12.77542061,  12.71284927,\n",
        "         13.0487927 ,  12.76698719,  12.89930312,  12.52692401,\n",
        "         13.14464007,  12.64417872,  12.95643383,  12.68191219,\n",
        "         12.82348789,  12.88670898,  12.6847934 ,  12.45260719,\n",
        "         13.04142763,  12.73919614,  12.74200783,  12.88924177,\n",
        "         12.64883413,  12.60658018,  12.92583725,  12.99950382,\n",
        "         12.53780955,  12.4838812 ,  13.05226131,  12.73093468,\n",
        "         12.96161671,  12.59006593,  13.14008745,  12.72142475,\n",
        "         12.92749031,  12.49581298,  13.16451935,  12.75095303,\n",
        "         12.8801872 ,  12.54178275,  13.07243914,  12.66978137,\n",
        "         12.8960853 ,  12.5659742 ,  13.06538365,  12.72714288,\n",
        "         12.94009656,  12.69942576,  13.01836982,  12.9312066 ,\n",
        "         12.73210995,  12.4114118 ,  13.1443249 ,  12.94443803,\n",
        "         12.62123533,  12.51038116,  13.00758618,  12.80285   ,\n",
        "         12.72266904,  12.63913523,  12.81681362,  12.85991228,\n",
        "         12.7525683 ,  12.5426077 ,  13.07459868,  12.95198899,\n",
        "         12.67850166,  12.47280718,  13.18948069,  13.07928507,\n",
        "         12.51925555,  12.54004387,  12.87468187,  12.94248145,\n",
        "         12.65509801,  12.8084826 ,  12.76369455,  12.75240429,\n",
        "         12.94777073,  12.50870923,  13.12255557,  12.83108176,\n",
        "         13.00115023,  12.44491399,  13.18590293,  12.82098181,\n",
        "         12.75567298,  12.39678139,  13.08863818,  12.78032002,\n",
        "         12.69329731,  12.488669  ,  12.98683221,  12.98710696,\n",
        "         12.68140669,  12.51197713,  13.09712114,  12.92789536,\n",
        "         12.60216831,  12.54179079,  12.81755284,  12.67679903,\n",
        "         12.99213369,  12.44984793,  13.13539897,  12.65849534,\n",
        "         12.90221039,  12.37466996,  13.02821927,  12.8757771 ,\n",
        "         12.87031531,  12.50445186,  13.08471856,  12.88410176,\n",
        "         12.80391516,  12.4235077 ,  13.12974694,  12.97024181,\n",
        "         12.49452794,  12.42237381,  12.92621037,  12.8593448 ,\n",
        "         12.5249678 ,  12.53602549,  12.82329413]])"
       ]
      }
     ],
     "prompt_number": 11
    },
    {
     "cell_type": "code",
     "collapsed": false,
     "input": [
      "bvals[idx[0]]"
     ],
     "language": "python",
     "metadata": {},
     "outputs": [
      {
       "output_type": "pyout",
       "prompt_number": 12,
       "text": [
        "array([    0.,  1200.,  1200.,  1200.,  1200.,  1200.,  1200.,  2400.,\n",
        "        2400.,  2400.,  2400.,  2400.,  2400.,  2400.,  2400.,  2400.,\n",
        "        2400.,  2400.,  2400.,  3600.,  3600.,  3600.,  3600.,  3600.,\n",
        "        3600.,  3600.,  3600.])"
       ]
      }
     ],
     "prompt_number": 12
    },
    {
     "cell_type": "code",
     "collapsed": false,
     "input": [
      "uniBvals = np.unique(bvals)\n",
      "snr_brain_bvals = np.zeros((uniBvals.shape[0], 1))\n",
      "snr_bkg_bvals = np.zeros((uniBvals.shape[0], 1))\n",
      "mean_brain_bvals = np.zeros((uniBvals.shape[0], 1))\n",
      "mean_bkg_bvals = np.zeros((uniBvals.shape[0], 1))\n",
      "for i in range(uniBvals.shape[0]):\n",
      "    idx = bvals == uniBvals[i]\n",
      "    tmp = snr_brain[idx]\n",
      "    snr_brain_bvals[i] = tmp.mean()\n",
      "    \n",
      "    tmp = snr_bkg[idx]\n",
      "    snr_bkg_bvals[i] = tmp.mean()\n",
      "    \n",
      "    tmp = brainMean[idx]\n",
      "    mean_brain_bvals[i] = tmp.mean()\n",
      "    \n",
      "    tmp = bkgMean[idx]\n",
      "    mean_bkg_bvals[i] = tmp.mean()"
     ],
     "language": "python",
     "metadata": {},
     "outputs": [],
     "prompt_number": 13
    },
    {
     "cell_type": "code",
     "collapsed": false,
     "input": [
      "plt.plot(uniBvals, snr_brain_bvals)\n",
      "plt.plot(uniBvals, np.ones(uniBvals.size) * snr_brain_bvals[4])\n",
      "plt.show()\n",
      "print(snr_brain_bvals.max())\n",
      "print(snr_brain_bvals.min())\n"
     ],
     "language": "python",
     "metadata": {},
     "outputs": [
      {
       "output_type": "display_data",
       "png": "[encoded data removed]",
       "text": [
        "<matplotlib.figure.Figure at 0x57ad9d0>"
       ]
      },
      {
       "output_type": "stream",
       "stream": "stdout",
       "text": [
        "6.10925791715\n",
        "4.75431563148\n"
       ]
      }
     ],
     "prompt_number": 14
    },
    {
     "cell_type": "code",
     "collapsed": false,
     "input": [
      "uniBvals"
     ],
     "language": "python",
     "metadata": {},
     "outputs": [
      {
       "output_type": "pyout",
       "prompt_number": 15,
       "text": [
        "array([     0.,   1200.,   2400.,   3600.,   4800.,   6000.,   7200.,\n",
        "         9600.,  10800.,  12000.,  13200.,  14400.,  15600.,  16800.,\n",
        "        19200.,  20400.,  21600.,  22800.,  24000.,  25200.,  26400.,\n",
        "        28800.,  29950.,  30000.,  30050.])"
       ]
      }
     ],
     "prompt_number": 15
    },
    {
     "cell_type": "code",
     "collapsed": false,
     "input": [
      "snr_brain_bvals.T"
     ],
     "language": "python",
     "metadata": {},
     "outputs": [
      {
       "output_type": "pyout",
       "prompt_number": 16,
       "text": [
        "array([[ 5.24973936,  5.8278708 ,  6.06032454,  6.10925792,  6.0509538 ,\n",
        "         5.92444429,  5.78362569,  5.53658385,  5.43297266,  5.34362805,\n",
        "         5.27574616,  5.20989003,  5.15688757,  5.11413944,  5.03735317,\n",
        "         5.01031581,  4.97642393,  4.94243346,  4.92934084,  4.88872057,\n",
        "         4.86434774,  4.8170667 ,  4.80238671,  4.78181245,  4.75431563]])"
       ]
      }
     ],
     "prompt_number": 16
    },
    {
     "cell_type": "code",
     "collapsed": false,
     "input": [
      "plt.plot(uniBvals, snr_bkg_bvals)\n",
      "plt.show()\n",
      "print(snr_bkg_bvals.max())\n",
      "print(snr_bkg_bvals.min())"
     ],
     "language": "python",
     "metadata": {},
     "outputs": [
      {
       "output_type": "display_data",
       "png": "[encoded data removed]",
       "text": [
        "<matplotlib.figure.Figure at 0x57a26d0>"
       ]
      },
      {
       "output_type": "stream",
       "stream": "stdout",
       "text": [
        "2.0797314741\n",
        "0.335208568639\n"
       ]
      }
     ],
     "prompt_number": 17
    },
    {
     "cell_type": "code",
     "collapsed": false,
     "input": [
      "plt.plot(uniBvals, mean_brain_bvals/mean_brain_bvals.max())\n",
      "plt.show()\n",
      "print(mean_brain_bvals.max())\n",
      "print(mean_brain_bvals.min())"
     ],
     "language": "python",
     "metadata": {},
     "outputs": [
      {
       "output_type": "display_data",
       "png": "[encoded data removed]",
       "text": [
        "<matplotlib.figure.Figure at 0x569de50>"
       ]
      },
      {
       "output_type": "stream",
       "stream": "stdout",
       "text": [
        "493.931385546\n",
        "60.1280191873\n"
       ]
      }
     ],
     "prompt_number": 23
    },
    {
     "cell_type": "code",
     "collapsed": false,
     "input": [
      "plt.plot(uniBvals, mean_bkg_bvals)\n",
      "plt.show()\n",
      "print(mean_bkg_bvals.max())\n",
      "print(mean_bkg_bvals.min())"
     ],
     "language": "python",
     "metadata": {},
     "outputs": [
      {
       "output_type": "display_data",
       "png": "[encoded data removed]",
       "text": [
        "<matplotlib.figure.Figure at 0x579f610>"
       ]
      },
      {
       "output_type": "stream",
       "stream": "stdout",
       "text": [
        "47.2783242428\n",
        "24.5613850296\n"
       ]
      }
     ],
     "prompt_number": 19
    },
    {
     "cell_type": "code",
     "collapsed": false,
     "input": [],
     "language": "python",
     "metadata": {},
     "outputs": [],
     "prompt_number": 19
    },
    {
     "cell_type": "code",
     "collapsed": false,
     "input": [],
     "language": "python",
     "metadata": {},
     "outputs": [],
     "prompt_number": "*"
    },
    {
     "cell_type": "code",
     "collapsed": false,
     "input": [],
     "language": "python",
     "metadata": {},
     "outputs": [],
     "prompt_number": "*"
    },
    {
     "cell_type": "code",
     "collapsed": false,
     "input": [],
     "language": "python",
     "metadata": {},
     "outputs": [],
     "prompt_number": "*"
    },
    {
     "cell_type": "code",
     "collapsed": false,
     "input": [],
     "language": "python",
     "metadata": {},
     "outputs": [],
     "prompt_number": "*"
    },
    {
     "cell_type": "code",
     "collapsed": false,
     "input": [],
     "language": "python",
     "metadata": {},
     "outputs": [],
     "prompt_number": "*"
    }
   ],
   "metadata": {}
  }
 ]
}