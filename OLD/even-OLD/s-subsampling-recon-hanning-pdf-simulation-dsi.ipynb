{
 "metadata": {
  "name": "s-subsampling-recon-hanning-pdf-simulation-dsi"
 },
 "nbformat": 3,
 "nbformat_minor": 0,
 "worksheets": [
  {
   "cells": [
    {
     "cell_type": "code",
     "collapsed": false,
     "input": [
      "#This script reconstructs odfs from sub-sampled DSI2109 with various sub-sampling schemes using default sampling length in GQI\n",
      "#Apply hanning filtering to the original signal before fitting to the GQI2 model"
     ],
     "language": "python",
     "metadata": {},
     "outputs": [],
     "prompt_number": 251
    },
    {
     "cell_type": "code",
     "collapsed": false,
     "input": [
      "%pylab inline\n",
      "import nibabel as nib\n",
      "from dipy.data import get_sphere\n",
      "from dipy.reconst.gqi import GeneralizedQSamplingModel\n",
      "from dipy.reconst.peaks import peaks_from_model\n",
      "import numpy as np\n",
      "import dipy.core.gradients as grad\n",
      "from dipy.viz import fvtk\n",
      "import dsitool as dtl\n",
      "from dipy.core.gradients import gradient_table\n",
      "from dipy.sims.voxel import MultiTensor\n",
      "import dipy.reconst.dsi as dsi"
     ],
     "language": "python",
     "metadata": {},
     "outputs": [
      {
       "output_type": "stream",
       "stream": "stdout",
       "text": [
        "\n",
        "Welcome to pylab, a matplotlib-based Python environment [backend: module://IPython.kernel.zmq.pylab.backend_inline].\n",
        "For more information, type 'help(pylab)'.\n"
       ]
      }
     ],
     "prompt_number": 252
    },
    {
     "cell_type": "code",
     "collapsed": false,
     "input": [
      "r = 4\n",
      "bvecs, bvals = dtl.create_btable(r, 30000.0)\n",
      "gtab = gradient_table(bvals, bvecs)"
     ],
     "language": "python",
     "metadata": {},
     "outputs": [],
     "prompt_number": 277
    },
    {
     "cell_type": "code",
     "collapsed": false,
     "input": [
      "gtab.bvals.shape"
     ],
     "language": "python",
     "metadata": {},
     "outputs": [
      {
       "output_type": "pyout",
       "prompt_number": 278,
       "text": [
        "(257,)"
       ]
      }
     ],
     "prompt_number": 278
    },
    {
     "cell_type": "code",
     "collapsed": false,
     "input": [
      "mevals = np.array(([8e-3, 5e-5, 5e-5],\n",
      "                   [8e-3, 5e-5, 5e-5]))\n",
      "\n",
      "mevals = mevals * 0.05;\n",
      "\n",
      "angl = [(60, 90), (135, 90)]\n",
      "data, sticks_0 = MultiTensor(gtab, mevals, S0=500, angles=angl, fractions=[50, 50], snr=None)"
     ],
     "language": "python",
     "metadata": {},
     "outputs": [],
     "prompt_number": 254
    },
    {
     "cell_type": "code",
     "collapsed": false,
     "input": [
      "qtable = dtl.create_qtable(gtab)"
     ],
     "language": "python",
     "metadata": {},
     "outputs": [],
     "prompt_number": 255
    },
    {
     "cell_type": "code",
     "collapsed": false,
     "input": [
      "qgrid_size = 17;\n",
      "origin = qgrid_size // 2\n",
      "qgrid = dtl.create_qspace(gtab, origin)\n",
      "qgrid.shape"
     ],
     "language": "python",
     "metadata": {},
     "outputs": [
      {
       "output_type": "pyout",
       "prompt_number": 256,
       "text": [
        "(515, 3)"
       ]
      }
     ],
     "prompt_number": 256
    },
    {
     "cell_type": "code",
     "collapsed": false,
     "input": [
      "hann = dtl.hanning_filter(gtab, qtable.max()*2)\n",
      "hann.min()\n",
      "#data_hann = data * tile(hann, (1, 4, 2, 1))\n",
      "data_hann = data * tile(np.ones(data.shape), (1, 4, 2, 1))"
     ],
     "language": "python",
     "metadata": {},
     "outputs": [],
     "prompt_number": 257
    },
    {
     "cell_type": "code",
     "collapsed": false,
     "input": [
      "# Perform sub-sampling\n",
      "\n",
      "# idx for different sub-sampling schemes\n",
      "idx = np.where(np.mod(np.abs(qtable[:, 0]), 1)==0)\n",
      "#idx = np.where(np.mod(np.abs(qtable[:, 0]), 2)==0)\n",
      "#idx = np.where(np.mod(np.abs(qtable[:, 1]), 2)==0)\n",
      "#idx = np.where(np.mod(np.abs(qtable[:, 2]), 2)==0)\n",
      "#idx = np.where((np.mod(np.abs(qtable[:, 0]), 2)==0) * (np.mod(np.abs(qtable[:, 1]), 2)==0) * (np.mod(np.abs(qtable[:, 2]), 2)==0))\n",
      "\n",
      "gtab_sub = grad.gradient_table(gtab.bvals[idx], gtab.bvecs[idx])\n",
      "#data_sub = data[...,idx]\n",
      "data_sub = data_hann[...,idx]\n",
      "data_sub = np.swapaxes(data_sub, 3, 4);\n",
      "data_sub = data_sub[:, :, :, :, 0]\n",
      "qgrid_sub = qgrid[idx, :]\n",
      "qgrid_sub = qgrid_sub[0, :, :];"
     ],
     "language": "python",
     "metadata": {},
     "outputs": [],
     "prompt_number": 258
    },
    {
     "cell_type": "code",
     "collapsed": false,
     "input": [
      "qgrid.shape\n",
      "qgrid_sub.shape\n",
      "qgrid_sub"
     ],
     "language": "python",
     "metadata": {},
     "outputs": [
      {
       "output_type": "pyout",
       "prompt_number": 259,
       "text": [
        "array([[ 8,  8,  8],\n",
        "       [ 7,  8,  8],\n",
        "       [ 8,  9,  8],\n",
        "       ..., \n",
        "       [11,  8, 12],\n",
        "       [ 8,  5, 12],\n",
        "       [13,  8,  8]])"
       ]
      }
     ],
     "prompt_number": 259
    },
    {
     "cell_type": "code",
     "collapsed": false,
     "input": [
      "values = data_sub[0, 3, 1, :];"
     ],
     "language": "python",
     "metadata": {},
     "outputs": [],
     "prompt_number": 260
    },
    {
     "cell_type": "code",
     "collapsed": false,
     "input": [
      "Sq = np.zeros((qgrid_size, qgrid_size, qgrid_size))\n",
      "\n",
      "for i in range(len(values)):\n",
      "    qx, qy, qz = qgrid_sub[i, :]\n",
      "    Sq[qx, qy, qz] += values[i]"
     ],
     "language": "python",
     "metadata": {},
     "outputs": [],
     "prompt_number": 261
    },
    {
     "cell_type": "code",
     "collapsed": false,
     "input": [
      "Pr = fftshift(ifftn(ifftshift(Sq), (Sq.shape[0], Sq.shape[1], Sq.shape[2])))\n"
     ],
     "language": "python",
     "metadata": {},
     "outputs": [],
     "prompt_number": 262
    },
    {
     "cell_type": "code",
     "collapsed": false,
     "input": [
      "#for i1 in range(Pr.shape[0]//2):\n",
      "#    for j1 in range(Pr.shape[1]//2):\n",
      "#        for k1 in range(Pr.shape[2]//2):\n",
      "#            i = i1 + Pr.shape[0]//4\n",
      "#            j = j1 + Pr.shape[1]//4\n",
      "#            k = k1 + Pr.shape[2]//4\n",
      "#            distance = (i - origin)*(i - origin) + (j - origin) * (j - origin) + (k - origin) * (k - origin)\n",
      "##            #distance = 1\n",
      "#            Pr[i, j, k] = Pr[i, j, k] * distance"
     ],
     "language": "python",
     "metadata": {},
     "outputs": [],
     "prompt_number": 263
    },
    {
     "cell_type": "code",
     "collapsed": false,
     "input": [
      "Pr.shape[0]//2"
     ],
     "language": "python",
     "metadata": {},
     "outputs": [
      {
       "output_type": "pyout",
       "prompt_number": 264,
       "text": [
        "8"
       ]
      }
     ],
     "prompt_number": 264
    },
    {
     "cell_type": "code",
     "collapsed": false,
     "input": [
      "#Pr = fftshift(Pr)"
     ],
     "language": "python",
     "metadata": {},
     "outputs": [],
     "prompt_number": 265
    },
    {
     "cell_type": "code",
     "collapsed": false,
     "input": [
      "#pdf = np.abs(Pr)\n",
      "pdf = np.real(Pr)\n",
      "pdf = np.clip(pdf, 0, pdf.max())\n",
      "print(pdf.max())\n",
      "print(pdf.min())\n",
      "\n",
      "normpdf = pdf / pdf.sum()\n",
      "normpdf.shape\n"
     ],
     "language": "python",
     "metadata": {},
     "outputs": [
      {
       "output_type": "stream",
       "stream": "stdout",
       "text": [
        "18.9228086959\n",
        "0.0\n"
       ]
      },
      {
       "output_type": "pyout",
       "prompt_number": 266,
       "text": [
        "(17, 17, 17)"
       ]
      }
     ],
     "prompt_number": 266
    },
    {
     "cell_type": "code",
     "collapsed": false,
     "input": [
      "slice = normpdf[qgrid_size // 2, :, :]\n",
      "matshow(slice)\n",
      "\n",
      "#imgplot = plt.imshow(slice)\n",
      "#imgplot.set_cmap('gray')"
     ],
     "language": "python",
     "metadata": {},
     "outputs": [
      {
       "output_type": "pyout",
       "prompt_number": 267,
       "text": [
        "<matplotlib.image.AxesImage at 0xbe93c90>"
       ]
      },
      {
       "output_type": "display_data",
       "png": "[encoded data removed]",
       "text": [
        "<matplotlib.figure.Figure at 0xbd8aa90>"
       ]
      }
     ],
     "prompt_number": 267
    },
    {
     "cell_type": "code",
     "collapsed": false,
     "input": [
      "markedslice = normpdf[qgrid_size // 2, :, :];\n",
      "ratio = 1\n",
      "width = np.round(markedslice.shape[0] * ratio//2); \n",
      "center = markedslice.shape[0]//2\n",
      "markedslice[center - width, center - width: center + width] = markedslice.max()\n",
      "markedslice[center + width, center - width: center + width] = markedslice.max()\n",
      "markedslice[center - width: center + width, center - width] = markedslice.max()\n",
      "markedslice[center - width: center + width, center + width] = markedslice.max()\n",
      "matshow(markedslice)"
     ],
     "language": "python",
     "metadata": {},
     "outputs": [
      {
       "output_type": "pyout",
       "prompt_number": 268,
       "text": [
        "<matplotlib.image.AxesImage at 0xbebf0d0>"
       ]
      },
      {
       "output_type": "display_data",
       "png": "[encoded data removed]",
       "text": [
        "<matplotlib.figure.Figure at 0xbe96510>"
       ]
      }
     ],
     "prompt_number": 268
    },
    {
     "cell_type": "code",
     "collapsed": false,
     "input": [
      "dsimodel = dsi.DiffusionSpectrumModel(gtab_sub, qgrid_size=17, r_start=0.1, r_end=6, r_step=0.2, filter_width=17)\n",
      "dsifit = dsimodel.fit(data_sub)\n",
      "sphere = get_sphere('symmetric724')\n",
      "dsiodf = dsifit.odf(sphere)\n",
      "\n",
      "ren = fvtk.ren()\n",
      "fvtk.add(ren, fvtk.sphere_funcs(dsiodf, sphere))\n",
      "fvtk.show(ren)\n"
     ],
     "language": "python",
     "metadata": {},
     "outputs": [],
     "prompt_number": 269
    },
    {
     "cell_type": "code",
     "collapsed": false,
     "input": [
      "r"
     ],
     "language": "python",
     "metadata": {},
     "outputs": [
      {
       "output_type": "pyout",
       "prompt_number": 270,
       "text": [
        "5"
       ]
      }
     ],
     "prompt_number": 270
    },
    {
     "cell_type": "code",
     "collapsed": false,
     "input": [],
     "language": "python",
     "metadata": {},
     "outputs": [],
     "prompt_number": 270
    },
    {
     "cell_type": "code",
     "collapsed": false,
     "input": [],
     "language": "python",
     "metadata": {},
     "outputs": [],
     "prompt_number": 270
    }
   ],
   "metadata": {}
  }
 ]
}