{
 "metadata": {
  "name": "s-subsampling-recon-hanning-pdf"
 },
 "nbformat": 3,
 "nbformat_minor": 0,
 "worksheets": [
  {
   "cells": [
    {
     "cell_type": "code",
     "collapsed": false,
     "input": [
      "#This script reconstructs odfs from sub-sampled DSI2109 with various sub-sampling schemes using default sampling length in GQI\n",
      "#Apply hanning filtering to the original signal before fitting to the GQI2 model"
     ],
     "language": "python",
     "metadata": {},
     "outputs": [],
     "prompt_number": 584
    },
    {
     "cell_type": "code",
     "collapsed": false,
     "input": [
      "%pylab inline\n",
      "import nibabel as nib\n",
      "from dipy.data import get_sphere\n",
      "from dipy.reconst.gqi import GeneralizedQSamplingModel\n",
      "from dipy.reconst.peaks import peaks_from_model\n",
      "import numpy as np\n",
      "import dipy.core.gradients as grad\n",
      "from dipy.viz import fvtk"
     ],
     "language": "python",
     "metadata": {},
     "outputs": [
      {
       "output_type": "stream",
       "stream": "stdout",
       "text": [
        "\n",
        "Welcome to pylab, a matplotlib-based Python environment [backend: module://IPython.kernel.zmq.pylab.backend_inline].\n",
        "For more information, type 'help(pylab)'.\n"
       ]
      }
     ],
     "prompt_number": 585
    },
    {
     "cell_type": "code",
     "collapsed": false,
     "input": [
      "#Read in data\n",
      "data_name = '515' \n",
      "\n",
      "data_path = '/biac4/wandell/data/qytian/DSIProject/'\n",
      "\n",
      "img_bx = nib.load(data_path + 'DSI' + data_name + '/DSI' + data_name + '_bx_reg_cc.nii.gz')\n",
      "data_bx = img_bx.get_data()\n",
      "\n",
      "img_b0 = nib.load(data_path + 'DSI' + data_name + '/DSI' + data_name + '_b0_reg_cc.nii.gz')\n",
      "data_b0 = img_b0.get_data()\n",
      "\n",
      "data_b0_avg = np.mean(data_b0,-1)\n",
      "data = np.concatenate([data_b0_avg[...,None], data_bx], axis=-1)\n",
      "\n",
      "gtab = grad.gradient_table(data_path + 'DSI' + data_name + '/bvals_' + data_name + '_standard.txt', \n",
      "                           data_path + 'DSI' + data_name + '/bvecs_prs_' + data_name + '_standard.txt')"
     ],
     "language": "python",
     "metadata": {},
     "outputs": [],
     "prompt_number": 586
    },
    {
     "cell_type": "code",
     "collapsed": false,
     "input": [
      "# Create q-table\n",
      "def create_qtable(gtab):\n",
      "    bv = gtab.bvals\n",
      "    bmin = np.sort(bv)[1]\n",
      "    qv = np.sqrt(bv / bmin)\n",
      "    qtable = np.vstack((qv, qv, qv)).T * gtab.bvecs\n",
      "    return np.floor(qtable + .5)\n",
      "\n",
      "qtable = create_qtable(gtab)\n"
     ],
     "language": "python",
     "metadata": {},
     "outputs": [],
     "prompt_number": 587
    },
    {
     "cell_type": "code",
     "collapsed": false,
     "input": [
      "def create_qspace(gtab, origin):\n",
      "    qtable = create_qtable(gtab)\n",
      "    qgrid = qtable*2 + origin\n",
      "    return qgrid.astype('i8')\n",
      "\n",
      "qgrid_size = 101;\n",
      "origin = qgrid_size // 2\n",
      "qgrid = create_qspace(gtab, origin)\n",
      "qgrid.shape"
     ],
     "language": "python",
     "metadata": {},
     "outputs": [
      {
       "output_type": "pyout",
       "prompt_number": 588,
       "text": [
        "(515, 3)"
       ]
      }
     ],
     "prompt_number": 588
    },
    {
     "cell_type": "code",
     "collapsed": false,
     "input": [
      "def hanning_filter(gtab, filter_width):\n",
      "    qtable = create_qtable(gtab)\n",
      "    r = np.sqrt(qtable[:, 0] ** 2 + qtable[:, 1] ** 2 + qtable[:, 2] ** 2)\n",
      "    return 0.5 * (1 + np.cos(2 * np.pi * r / filter_width))"
     ],
     "language": "python",
     "metadata": {},
     "outputs": [],
     "prompt_number": 589
    },
    {
     "cell_type": "code",
     "collapsed": false,
     "input": [
      "hann = hanning_filter(gtab, qtable.max()*2)\n",
      "hann.min()\n",
      "data_hann = data * tile(hann, (1, 4, 2, 1))"
     ],
     "language": "python",
     "metadata": {},
     "outputs": [],
     "prompt_number": 590
    },
    {
     "cell_type": "code",
     "collapsed": false,
     "input": [
      "# Perform sub-sampling\n",
      "\n",
      "# idx for different sub-sampling schemes\n",
      "idx = np.where(np.mod(np.abs(qtable[:, 0]), 1)==0)\n",
      "#idx = np.where(np.mod(np.abs(qtable[:, 0]), 2)==0)\n",
      "#idx = np.where(np.mod(np.abs(qtable[:, 1]), 2)==0)\n",
      "#idx = np.where(np.mod(np.abs(qtable[:, 2]), 2)==0)\n",
      "#idx = np.where((np.mod(np.abs(qtable[:, 0]), 2)==0) * (np.mod(np.abs(qtable[:, 1]), 2)==0) * (np.mod(np.abs(qtable[:, 2]), 2)==0))\n",
      "\n",
      "gtab_sub = grad.gradient_table(gtab.bvals[idx], gtab.bvecs[idx])\n",
      "#data_sub = data[...,idx]\n",
      "data_sub = data_hann[...,idx]\n",
      "data_sub = np.swapaxes(data_sub, 3, 4);\n",
      "data_sub = data_sub[:, :, :, :, 0]\n",
      "qgrid_sub = qgrid[idx, :]\n",
      "qgrid_sub = qgrid_sub[0, :, :];"
     ],
     "language": "python",
     "metadata": {},
     "outputs": [],
     "prompt_number": 591
    },
    {
     "cell_type": "code",
     "collapsed": false,
     "input": [
      "qgrid.shape\n",
      "qgrid_sub.shape\n",
      "qgrid_sub"
     ],
     "language": "python",
     "metadata": {},
     "outputs": [
      {
       "output_type": "pyout",
       "prompt_number": 592,
       "text": [
        "array([[50, 50, 50],\n",
        "       [50, 58, 44],\n",
        "       [50, 42, 56],\n",
        "       ..., \n",
        "       [54, 58, 54],\n",
        "       [46, 42, 54],\n",
        "       [54, 58, 46]])"
       ]
      }
     ],
     "prompt_number": 592
    },
    {
     "cell_type": "code",
     "collapsed": false,
     "input": [
      "values = data_sub[0, 3, 1, :];"
     ],
     "language": "python",
     "metadata": {},
     "outputs": [],
     "prompt_number": 593
    },
    {
     "cell_type": "code",
     "collapsed": false,
     "input": [
      "Sq = np.zeros((qgrid_size, qgrid_size, qgrid_size))\n",
      "\n",
      "for i in range(len(values)):\n",
      "    qx, qy, qz = qgrid_sub[i, :]\n",
      "    Sq[qx, qy, qz] += values[i]"
     ],
     "language": "python",
     "metadata": {},
     "outputs": [],
     "prompt_number": 594
    },
    {
     "cell_type": "code",
     "collapsed": false,
     "input": [
      "Pr = ifftshift(ifftn(fftshift(Sq), (Sq.shape[0], Sq.shape[1], Sq.shape[2])))\n"
     ],
     "language": "python",
     "metadata": {},
     "outputs": [],
     "prompt_number": 595
    },
    {
     "cell_type": "code",
     "collapsed": false,
     "input": [
      "for i1 in range(Pr.shape[0]//2):\n",
      "    for j1 in range(Pr.shape[1]//2):\n",
      "        for k1 in range(Pr.shape[2]//2):\n",
      "            i = i1 + Pr.shape[0]//4\n",
      "            j = j1 + Pr.shape[1]//4\n",
      "            k = k1 + Pr.shape[2]//4\n",
      "            distance = (i - origin)*(i - origin) + (j - origin) * (j - origin) + (k - origin) * (k - origin)\n",
      "            #distance = 1\n",
      "            Pr[i, j, k] = Pr[i, j, k] * distance"
     ],
     "language": "python",
     "metadata": {},
     "outputs": [
      {
       "ename": "IndexError",
       "evalue": "index 125 is out of bounds for axis 0 with size 101",
       "output_type": "pyerr",
       "traceback": [
        "\u001b[1;31m---------------------------------------------------------------------------\u001b[0m\n\u001b[1;31mIndexError\u001b[0m                                Traceback (most recent call last)",
        "\u001b[1;32m<ipython-input-596-7c8049c3839f>\u001b[0m in \u001b[0;36m<module>\u001b[1;34m()\u001b[0m\n\u001b[0;32m      7\u001b[0m             \u001b[0mdistance\u001b[0m \u001b[1;33m=\u001b[0m \u001b[1;33m(\u001b[0m\u001b[0mi\u001b[0m \u001b[1;33m-\u001b[0m \u001b[0morigin\u001b[0m\u001b[1;33m)\u001b[0m\u001b[1;33m*\u001b[0m\u001b[1;33m(\u001b[0m\u001b[0mi\u001b[0m \u001b[1;33m-\u001b[0m \u001b[0morigin\u001b[0m\u001b[1;33m)\u001b[0m \u001b[1;33m+\u001b[0m \u001b[1;33m(\u001b[0m\u001b[0mj\u001b[0m \u001b[1;33m-\u001b[0m \u001b[0morigin\u001b[0m\u001b[1;33m)\u001b[0m \u001b[1;33m*\u001b[0m \u001b[1;33m(\u001b[0m\u001b[0mj\u001b[0m \u001b[1;33m-\u001b[0m \u001b[0morigin\u001b[0m\u001b[1;33m)\u001b[0m \u001b[1;33m+\u001b[0m \u001b[1;33m(\u001b[0m\u001b[0mk\u001b[0m \u001b[1;33m-\u001b[0m \u001b[0morigin\u001b[0m\u001b[1;33m)\u001b[0m \u001b[1;33m*\u001b[0m \u001b[1;33m(\u001b[0m\u001b[0mk\u001b[0m \u001b[1;33m-\u001b[0m \u001b[0morigin\u001b[0m\u001b[1;33m)\u001b[0m\u001b[1;33m\u001b[0m\u001b[0m\n\u001b[0;32m      8\u001b[0m             \u001b[1;31m#distance = 1\u001b[0m\u001b[1;33m\u001b[0m\u001b[1;33m\u001b[0m\u001b[0m\n\u001b[1;32m----> 9\u001b[1;33m             \u001b[0mPr\u001b[0m\u001b[1;33m[\u001b[0m\u001b[0mi\u001b[0m\u001b[1;33m,\u001b[0m \u001b[0mj\u001b[0m\u001b[1;33m,\u001b[0m \u001b[0mk\u001b[0m\u001b[1;33m]\u001b[0m \u001b[1;33m=\u001b[0m \u001b[0mPr\u001b[0m\u001b[1;33m[\u001b[0m\u001b[0mi\u001b[0m\u001b[1;33m,\u001b[0m \u001b[0mj\u001b[0m\u001b[1;33m,\u001b[0m \u001b[0mk\u001b[0m\u001b[1;33m]\u001b[0m \u001b[1;33m*\u001b[0m \u001b[0mdistance\u001b[0m\u001b[1;33m\u001b[0m\u001b[0m\n\u001b[0m",
        "\u001b[1;31mIndexError\u001b[0m: index 125 is out of bounds for axis 0 with size 101"
       ]
      }
     ],
     "prompt_number": 596
    },
    {
     "cell_type": "code",
     "collapsed": false,
     "input": [
      "Pr.shape[0]//2"
     ],
     "language": "python",
     "metadata": {},
     "outputs": [
      {
       "output_type": "pyout",
       "prompt_number": 599,
       "text": [
        "50"
       ]
      }
     ],
     "prompt_number": 599
    },
    {
     "cell_type": "code",
     "collapsed": false,
     "input": [
      "#Pr = fftshift(Pr)"
     ],
     "language": "python",
     "metadata": {},
     "outputs": []
    },
    {
     "cell_type": "code",
     "collapsed": false,
     "input": [
      "pdf = np.abs(Pr)\n",
      "#pdf = np.real(Pr)\n",
      "#pdf = np.abs(np.real(Pr))\n",
      "print(pdf.max())\n",
      "print(pdf.min())\n",
      "\n",
      "normpdf = pdf / pdf.sum()\n",
      "normpdf.shape\n"
     ],
     "language": "python",
     "metadata": {},
     "outputs": []
    },
    {
     "cell_type": "code",
     "collapsed": false,
     "input": [
      "slice = normpdf[:, qgrid_size // 2, :]\n",
      "imgplot = plt.imshow(slice)\n",
      "imgplot.set_cmap('gray')"
     ],
     "language": "python",
     "metadata": {},
     "outputs": []
    },
    {
     "cell_type": "code",
     "collapsed": false,
     "input": [
      "matshow(slice)"
     ],
     "language": "python",
     "metadata": {},
     "outputs": []
    },
    {
     "cell_type": "code",
     "collapsed": false,
     "input": [
      "gqmodel = GeneralizedQSamplingModel(gtab_sub, 'gqi2', sampling_length=1.2) # sampling_length=1.2 is the default\n",
      "gqfit = gqmodel.fit(data_sub)\n",
      "sphere = get_sphere('symmetric724')\n",
      "odf = gqfit.odf(sphere)"
     ],
     "language": "python",
     "metadata": {},
     "outputs": []
    },
    {
     "cell_type": "code",
     "collapsed": false,
     "input": [
      "r = fvtk.ren()\n",
      "fvtk.add(r, fvtk.sphere_funcs(odf, sphere))\n",
      "#fvtk.show(r)\n",
      "#fvtk.record(r, n_frames=1, out_path='results/odf_DSI2109_sub_xyz.png', size=(600,600)) # modify save file name according to the sub-sampling scheme"
     ],
     "language": "python",
     "metadata": {},
     "outputs": []
    },
    {
     "cell_type": "code",
     "collapsed": false,
     "input": [
      "haha.shape"
     ],
     "language": "python",
     "metadata": {},
     "outputs": []
    }
   ],
   "metadata": {}
  }
 ]
}