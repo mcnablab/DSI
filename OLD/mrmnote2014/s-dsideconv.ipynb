{
 "metadata": {
  "name": "s-dsideconv"
 },
 "nbformat": 3,
 "nbformat_minor": 0,
 "worksheets": [
  {
   "cells": [
    {
     "cell_type": "code",
     "collapsed": false,
     "input": [
      "import numpy as np\n",
      "import nibabel as nib\n",
      "from dipy.sims.voxel import multi_tensor, multi_tensor_odf\n",
      "from dipy.data import get_data, get_sphere\n",
      "from dipy.core.gradients import gradient_table\n",
      "from dipy.reconst.dsi import (DiffusionSpectrumDeconvModel, DiffusionSpectrumModel)"
     ],
     "language": "python",
     "metadata": {},
     "outputs": [],
     "prompt_number": 1
    },
    {
     "cell_type": "code",
     "collapsed": false,
     "input": [
      "btable = np.loadtxt(get_data('dsi515btable'))\n",
      "gtab = gradient_table(btable[:, 0], btable[:, 1:])"
     ],
     "language": "python",
     "metadata": {},
     "outputs": [],
     "prompt_number": 2
    },
    {
     "cell_type": "code",
     "collapsed": false,
     "input": [
      "evals = np.array([[0.0015, 0.0003, 0.0003],\n",
      "                  [0.0015, 0.0003, 0.0003]])\n",
      "\n",
      "directions = [(-30, 0), (30, 0)]\n",
      "\n",
      "fractions = [50, 50]\n",
      "\n",
      "signal, _ = multi_tensor(gtab, evals, 100, angles=directions,\n",
      "                         fractions=fractions, snr=None)\n",
      "\n",
      "sphere = get_sphere('symmetric724').subdivide(1)\n",
      "\n",
      "odf_gt = multi_tensor_odf(sphere.vertices, evals, angles=directions,fractions=fractions)"
     ],
     "language": "python",
     "metadata": {},
     "outputs": [],
     "prompt_number": 3
    },
    {
     "cell_type": "code",
     "collapsed": false,
     "input": [
      "# Data path\n",
      "data_path = '/biac4/wandell/data/qytian/DSIProject/'\n",
      "#gtab = gradient_table(data_path + 'DSI515_invivo/bvals', data_path + 'DSI515_invivo/bvecs')\n",
      "#signal = nib.load(data_path + 'DSI515_invivo/data_ROI_xfib.nii.gz').get_data()\n",
      "\n",
      "DSI515_bx = nib.load(data_path + 'DSI515/DSI515_bx_reg_cc.nii.gz').get_data()\n",
      "DSI515_b0 = nib.load(data_path + 'DSI515/DSI515_b0_reg_cc.nii.gz').get_data().mean(-1)\n",
      "signal = np.concatenate([DSI515_b0[..., None], DSI515_bx], axis=-1)\n",
      "gtab = gradient_table(data_path + 'DSI515/bvals_515_standard.txt', data_path + 'DSI515/bvecs_prs_515_standard.txt')\n",
      "signal = np.swapaxes(signal, 0, 1)\n",
      "signal = np.swapaxes(signal, 1, 2)"
     ],
     "language": "python",
     "metadata": {},
     "outputs": [],
     "prompt_number": 4
    },
    {
     "cell_type": "code",
     "collapsed": false,
     "input": [
      "dsi_model = DiffusionSpectrumModel(gtab)\n",
      "\n",
      "dsi_odf = dsi_model.fit(signal).odf(sphere)\n",
      "\n",
      "dsid_model = DiffusionSpectrumDeconvModel(gtab)\n",
      "dsid_fit = dsid_model.fit(signal)\n",
      "dsid_odf = dsid_fit.odf(sphere)"
     ],
     "language": "python",
     "metadata": {},
     "outputs": [],
     "prompt_number": 5
    },
    {
     "cell_type": "code",
     "collapsed": false,
     "input": [
      "dsid_fit"
     ],
     "language": "python",
     "metadata": {},
     "outputs": [
      {
       "output_type": "pyout",
       "prompt_number": 6,
       "text": [
        "<dipy.reconst.multi_voxel.MultiVoxelFit at 0x36851d0>"
       ]
      }
     ],
     "prompt_number": 6
    },
    {
     "cell_type": "code",
     "collapsed": false,
     "input": [
      "from dipy.viz import fvtk\n",
      "r = fvtk.ren()\n",
      "fvtk.add(r, fvtk.sphere_funcs(dsid_odf, sphere))\n",
      "fvtk.show(r)\n",
      "fvtk.record(ren, out_path='dsi_odf.png', size=(300, 300))"
     ],
     "language": "python",
     "metadata": {},
     "outputs": [
      {
       "ename": "NameError",
       "evalue": "name 'ren' is not defined",
       "output_type": "pyerr",
       "traceback": [
        "\u001b[1;31m---------------------------------------------------------------------------\u001b[0m\n\u001b[1;31mNameError\u001b[0m                                 Traceback (most recent call last)",
        "\u001b[1;32m<ipython-input-7-6031d30b7ee8>\u001b[0m in \u001b[0;36m<module>\u001b[1;34m()\u001b[0m\n\u001b[0;32m      3\u001b[0m \u001b[0mfvtk\u001b[0m\u001b[1;33m.\u001b[0m\u001b[0madd\u001b[0m\u001b[1;33m(\u001b[0m\u001b[0mr\u001b[0m\u001b[1;33m,\u001b[0m \u001b[0mfvtk\u001b[0m\u001b[1;33m.\u001b[0m\u001b[0msphere_funcs\u001b[0m\u001b[1;33m(\u001b[0m\u001b[0mdsid_odf\u001b[0m\u001b[1;33m,\u001b[0m \u001b[0msphere\u001b[0m\u001b[1;33m)\u001b[0m\u001b[1;33m)\u001b[0m\u001b[1;33m\u001b[0m\u001b[0m\n\u001b[0;32m      4\u001b[0m \u001b[0mfvtk\u001b[0m\u001b[1;33m.\u001b[0m\u001b[0mshow\u001b[0m\u001b[1;33m(\u001b[0m\u001b[0mr\u001b[0m\u001b[1;33m)\u001b[0m\u001b[1;33m\u001b[0m\u001b[0m\n\u001b[1;32m----> 5\u001b[1;33m \u001b[0mfvtk\u001b[0m\u001b[1;33m.\u001b[0m\u001b[0mrecord\u001b[0m\u001b[1;33m(\u001b[0m\u001b[0mren\u001b[0m\u001b[1;33m,\u001b[0m \u001b[0mout_path\u001b[0m\u001b[1;33m=\u001b[0m\u001b[1;34m'dsi_odf.png'\u001b[0m\u001b[1;33m,\u001b[0m \u001b[0msize\u001b[0m\u001b[1;33m=\u001b[0m\u001b[1;33m(\u001b[0m\u001b[1;36m300\u001b[0m\u001b[1;33m,\u001b[0m \u001b[1;36m300\u001b[0m\u001b[1;33m)\u001b[0m\u001b[1;33m)\u001b[0m\u001b[1;33m\u001b[0m\u001b[0m\n\u001b[0m",
        "\u001b[1;31mNameError\u001b[0m: name 'ren' is not defined"
       ]
      }
     ],
     "prompt_number": 7
    },
    {
     "cell_type": "code",
     "collapsed": false,
     "input": [
      "from dipy.viz import fvtk\n",
      "\n",
      "ren = fvtk.ren()\n",
      "\n",
      "odfs = np.vstack((odf_gt, dsi_odf, dsid_odf))[:, None, None]\n",
      "\n",
      "odf_actor = fvtk.sphere_funcs(odfs, sphere)\n",
      "odf_actor.RotateX(90)\n",
      "fvtk.add(ren, odf_actor)\n",
      "fvtk.show(ren)\n",
      "#fvtk.record(ren, out_path='dsid.png', size=(300, 300))"
     ],
     "language": "python",
     "metadata": {},
     "outputs": []
    },
    {
     "cell_type": "code",
     "collapsed": false,
     "input": [],
     "language": "python",
     "metadata": {},
     "outputs": []
    }
   ],
   "metadata": {}
  }
 ]
}