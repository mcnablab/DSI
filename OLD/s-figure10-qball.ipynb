{
 "metadata": {
  "name": "s-figure10-qball"
 },
 "nbformat": 3,
 "nbformat_minor": 0,
 "worksheets": [
  {
   "cells": [
    {
     "cell_type": "code",
     "collapsed": false,
     "input": [
      "import numpy as np\n",
      "import nibabel as nib\n",
      "import dsi4sampling as dsi\n",
      "from dipy.viz import fvtk\n",
      "from dipy.data import get_sphere\n",
      "import dsisamplingtool as dst\n",
      "\n",
      "%pylab inline\n",
      "np.set_printoptions(threshold=numpy.nan)"
     ],
     "language": "python",
     "metadata": {},
     "outputs": [
      {
       "output_type": "stream",
       "stream": "stdout",
       "text": [
        "\n",
        "Welcome to pylab, a matplotlib-based Python environment [backend: module://IPython.kernel.zmq.pylab.backend_inline].\n",
        "For more information, type 'help(pylab)'.\n"
       ]
      }
     ],
     "prompt_number": 1
    },
    {
     "cell_type": "code",
     "collapsed": false,
     "input": [
      "## Load ODF sphere directions\n",
      "sphere = get_sphere('symmetric724')"
     ],
     "language": "python",
     "metadata": {},
     "outputs": [],
     "prompt_number": 2
    },
    {
     "cell_type": "code",
     "collapsed": false,
     "input": [
      "files = np.array(['DSI11_invivo_cc', 'DSI11_invivo_xfib'])"
     ],
     "language": "python",
     "metadata": {},
     "outputs": [],
     "prompt_number": 3
    },
    {
     "cell_type": "code",
     "collapsed": false,
     "input": [
      "qgridsz = 201;\n",
      "pdfweight = 2;\n",
      "\n",
      "for ii in np.arange(files.shape[0]):\n",
      "    filename = files[ii]\n",
      "    gtab = dst.loadgtab(filename);\n",
      "    fov, mdd = dst.loadstat(filename);\n",
      "    pdfroi, pdfslicestart, pdfsliceend, camerapos = dst.loadroi(filename, qgridsz);\n",
      "    for downratio in np.array([0, 1, 2, 3, 4, 5]):\n",
      "        data = dst.loaddata(filename);\n",
      "        data = dst.downsample_qball(data, gtab, downratio);\n",
      "    \n",
      "        hannwidth = np.inf;\n",
      "        integdistance = mdd;\n",
      "        \n",
      "        subfov = fov / downratio;\n",
      "        if subfov < mdd:\n",
      "            integdistance = subfov;\n",
      "            print(downratio)\n",
      "            \n",
      "        rend = np.round(integdistance / fov * qgridsz);\n",
      "        dsimodel = dsi.DiffusionSpectrumModel(gtab, qgrid_size=qgridsz, filter_width=hannwidth, r_start=0, r_end=rend, r_step=0.2);\n",
      "        dsifit = dsimodel.fit(data);\n",
      "        odf = dsifit.odf(sphere, pdfweight);\n",
      "        pdf = dsifit.pdf();\n",
      "            \n",
      "        # save odf\n",
      "        r = fvtk.ren();\n",
      "        fvtk.add(r, fvtk.sphere_funcs(odf, sphere));\n",
      "        fvtk.camera(r, pos=(camerapos[0], camerapos[1], camerapos[2]));\n",
      "        odfname = 'figure/figure10/' + filename + '_odf_sub' + str(downratio) + '.png';\n",
      "        fvtk.record(r, n_frames=1, out_path=odfname, size=(600,600))\n",
      "        #fvtk.show(r)\n",
      "            \n",
      "        # save pdf\n",
      "        pdfslice = pdf[pdfroi[0], pdfroi[1], pdfroi[2]][pdfslicestart[0]:pdfsliceend[0], pdfslicestart[1]:pdfsliceend[1], pdfslicestart[2]:pdfsliceend[2]];\n",
      "        pdfslice = np.squeeze(pdfslice);\n",
      "        fig = figure()\n",
      "        imshow(pdfslice);\n",
      "        circle = Circle((qgridsz//2, qgridsz//2), radius = rend, color = 'r', fill=False, linestyle = 'dashed', linewidth=3.)\n",
      "        rect = Rectangle((qgridsz//2-qgridsz//(2*downratio), qgridsz//2-qgridsz//(2*downratio)), qgridsz//downratio, qgridsz//downratio, fill=False, color='w', linestyle = 'solid', linewidth=3.)\n",
      "        fig.gca().add_artist(circle)\n",
      "        gca().add_artist(rect)\n",
      "        axis('off');\n",
      "        pdfname = 'figure/figure10/' + filename + '_pdf_sub' + str(downratio) + '.png';\n",
      "        savefig(pdfname, dpi = 200)\n",
      "            \n",
      "        # save weighted pdf\n",
      "        pdfslicefov = pdfslice[qgridsz//2-qgridsz//(2*downratio): qgridsz//2+qgridsz//(2*downratio)+1, qgridsz//2-qgridsz//(2*downratio): qgridsz//2+qgridsz//(2*downratio)+1];\n",
      "        \n",
      "        weightedpdfslice = dst.weightpdfslice(pdfslicefov); \n",
      "        fig = figure()\n",
      "        imshow(weightedpdfslice);\n",
      "        circle = Circle((qgridsz//(2*downratio), qgridsz//(2*downratio)), radius = rend, color = 'r', fill=False, linestyle = 'dashed', linewidth=3.)\n",
      "        fig.gca().add_artist(circle)\n",
      "        axis('off');\n",
      "        pdfname = 'figure/figure10/' + filename + '_weightedpdf_sub' + str(downratio) + '.png';\n",
      "        savefig(pdfname, dpi = 200)\n",
      "            "
     ],
     "language": "python",
     "metadata": {},
     "outputs": [
      {
       "ename": "KeyboardInterrupt",
       "evalue": "",
       "output_type": "pyerr",
       "traceback": [
        "\u001b[1;31m---------------------------------------------------------------------------\u001b[0m\n\u001b[1;31mKeyboardInterrupt\u001b[0m                         Traceback (most recent call last)",
        "\u001b[1;32m<ipython-input-4-860119114e0a>\u001b[0m in \u001b[0;36m<module>\u001b[1;34m()\u001b[0m\n\u001b[0;32m     21\u001b[0m         \u001b[0mdsimodel\u001b[0m \u001b[1;33m=\u001b[0m \u001b[0mdsi\u001b[0m\u001b[1;33m.\u001b[0m\u001b[0mDiffusionSpectrumModel\u001b[0m\u001b[1;33m(\u001b[0m\u001b[0mgtab\u001b[0m\u001b[1;33m,\u001b[0m \u001b[0mqgrid_size\u001b[0m\u001b[1;33m=\u001b[0m\u001b[0mqgridsz\u001b[0m\u001b[1;33m,\u001b[0m \u001b[0mfilter_width\u001b[0m\u001b[1;33m=\u001b[0m\u001b[0mhannwidth\u001b[0m\u001b[1;33m,\u001b[0m \u001b[0mr_start\u001b[0m\u001b[1;33m=\u001b[0m\u001b[1;36m0\u001b[0m\u001b[1;33m,\u001b[0m \u001b[0mr_end\u001b[0m\u001b[1;33m=\u001b[0m\u001b[0mrend\u001b[0m\u001b[1;33m,\u001b[0m \u001b[0mr_step\u001b[0m\u001b[1;33m=\u001b[0m\u001b[1;36m0.2\u001b[0m\u001b[1;33m)\u001b[0m\u001b[1;33m;\u001b[0m\u001b[1;33m\u001b[0m\u001b[0m\n\u001b[0;32m     22\u001b[0m         \u001b[0mdsifit\u001b[0m \u001b[1;33m=\u001b[0m \u001b[0mdsimodel\u001b[0m\u001b[1;33m.\u001b[0m\u001b[0mfit\u001b[0m\u001b[1;33m(\u001b[0m\u001b[0mdata\u001b[0m\u001b[1;33m)\u001b[0m\u001b[1;33m;\u001b[0m\u001b[1;33m\u001b[0m\u001b[0m\n\u001b[1;32m---> 23\u001b[1;33m         \u001b[0modf\u001b[0m \u001b[1;33m=\u001b[0m \u001b[0mdsifit\u001b[0m\u001b[1;33m.\u001b[0m\u001b[0modf\u001b[0m\u001b[1;33m(\u001b[0m\u001b[0msphere\u001b[0m\u001b[1;33m,\u001b[0m \u001b[0mpdfweight\u001b[0m\u001b[1;33m)\u001b[0m\u001b[1;33m;\u001b[0m\u001b[1;33m\u001b[0m\u001b[0m\n\u001b[0m\u001b[0;32m     24\u001b[0m         \u001b[0mpdf\u001b[0m \u001b[1;33m=\u001b[0m \u001b[0mdsifit\u001b[0m\u001b[1;33m.\u001b[0m\u001b[0mpdf\u001b[0m\u001b[1;33m(\u001b[0m\u001b[1;33m)\u001b[0m\u001b[1;33m;\u001b[0m\u001b[1;33m\u001b[0m\u001b[0m\n\u001b[0;32m     25\u001b[0m \u001b[1;33m\u001b[0m\u001b[0m\n",
        "\u001b[1;32m/home/qytian/usr/local/lib/python2.7/site-packages/dipy/reconst/multi_voxel.pyc\u001b[0m in \u001b[0;36m__call__\u001b[1;34m(self, *args, **kwargs)\u001b[0m\n\u001b[0;32m     70\u001b[0m             \u001b[0mitem\u001b[0m \u001b[1;33m=\u001b[0m \u001b[0mself\u001b[0m\u001b[1;33m[\u001b[0m\u001b[0mijk\u001b[0m\u001b[1;33m]\u001b[0m\u001b[1;33m\u001b[0m\u001b[0m\n\u001b[0;32m     71\u001b[0m             \u001b[1;32mif\u001b[0m \u001b[0mitem\u001b[0m \u001b[1;32mis\u001b[0m \u001b[1;32mnot\u001b[0m \u001b[0mNone\u001b[0m\u001b[1;33m:\u001b[0m\u001b[1;33m\u001b[0m\u001b[0m\n\u001b[1;32m---> 72\u001b[1;33m                 \u001b[0mresult\u001b[0m\u001b[1;33m[\u001b[0m\u001b[0mijk\u001b[0m\u001b[1;33m]\u001b[0m \u001b[1;33m=\u001b[0m \u001b[0mitem\u001b[0m\u001b[1;33m(\u001b[0m\u001b[1;33m*\u001b[0m\u001b[0margs\u001b[0m\u001b[1;33m,\u001b[0m \u001b[1;33m**\u001b[0m\u001b[0mkwargs\u001b[0m\u001b[1;33m)\u001b[0m\u001b[1;33m\u001b[0m\u001b[0m\n\u001b[0m\u001b[0;32m     73\u001b[0m         \u001b[1;32mreturn\u001b[0m \u001b[0m_squash\u001b[0m\u001b[1;33m(\u001b[0m\u001b[0mresult\u001b[0m\u001b[1;33m)\u001b[0m\u001b[1;33m\u001b[0m\u001b[0m\n",
        "\u001b[1;32m/home/qytian/Documents/DSISampling/dsi4sampling.pyc\u001b[0m in \u001b[0;36modf\u001b[1;34m(self, sphere, weight)\u001b[0m\n\u001b[0;32m    297\u001b[0m             \u001b[0mself\u001b[0m\u001b[1;33m.\u001b[0m\u001b[0mmodel\u001b[0m\u001b[1;33m.\u001b[0m\u001b[0mcache_set\u001b[0m\u001b[1;33m(\u001b[0m\u001b[1;34m'interp_coords'\u001b[0m\u001b[1;33m,\u001b[0m \u001b[0msphere\u001b[0m\u001b[1;33m,\u001b[0m \u001b[0minterp_coords\u001b[0m\u001b[1;33m)\u001b[0m\u001b[1;33m\u001b[0m\u001b[0m\n\u001b[0;32m    298\u001b[0m \u001b[1;33m\u001b[0m\u001b[0m\n\u001b[1;32m--> 299\u001b[1;33m         \u001b[0mPr\u001b[0m \u001b[1;33m=\u001b[0m \u001b[0mself\u001b[0m\u001b[1;33m.\u001b[0m\u001b[0mpdf\u001b[0m\u001b[1;33m(\u001b[0m\u001b[1;33m)\u001b[0m\u001b[1;33m\u001b[0m\u001b[0m\n\u001b[0m\u001b[0;32m    300\u001b[0m \u001b[1;33m\u001b[0m\u001b[0m\n\u001b[0;32m    301\u001b[0m         \u001b[1;31m# calculate the orientation distribution function\u001b[0m\u001b[1;33m\u001b[0m\u001b[1;33m\u001b[0m\u001b[0m\n",
        "\u001b[1;32m/home/qytian/Documents/DSISampling/dsi4sampling.pyc\u001b[0m in \u001b[0;36mpdf\u001b[1;34m(self, normalized)\u001b[0m\n\u001b[0;32m    165\u001b[0m         \u001b[1;31m# apply fourier transform\u001b[0m\u001b[1;33m\u001b[0m\u001b[1;33m\u001b[0m\u001b[0m\n\u001b[0;32m    166\u001b[0m         Pr = fftshift(np.real(fftn(ifftshift(Sq),\n\u001b[1;32m--> 167\u001b[1;33m                                    3 * (self.qgrid_sz, ))))\n\u001b[0m\u001b[0;32m    168\u001b[0m         \u001b[1;31m# clipping negative values to 0 (ringing artefact)\u001b[0m\u001b[1;33m\u001b[0m\u001b[1;33m\u001b[0m\u001b[0m\n\u001b[0;32m    169\u001b[0m         \u001b[0mPr\u001b[0m \u001b[1;33m=\u001b[0m \u001b[0mnp\u001b[0m\u001b[1;33m.\u001b[0m\u001b[0mclip\u001b[0m\u001b[1;33m(\u001b[0m\u001b[0mPr\u001b[0m\u001b[1;33m,\u001b[0m \u001b[1;36m0\u001b[0m\u001b[1;33m,\u001b[0m \u001b[0mPr\u001b[0m\u001b[1;33m.\u001b[0m\u001b[0mmax\u001b[0m\u001b[1;33m(\u001b[0m\u001b[1;33m)\u001b[0m\u001b[1;33m)\u001b[0m\u001b[1;33m\u001b[0m\u001b[0m\n",
        "\u001b[1;32m/home/qytian/Enthought/Canopy_64bit/System/lib/python2.7/site-packages/scipy/fftpack/basic.pyc\u001b[0m in \u001b[0;36mfftn\u001b[1;34m(x, shape, axes, overwrite_x)\u001b[0m\n\u001b[0;32m    519\u001b[0m \u001b[1;33m\u001b[0m\u001b[0m\n\u001b[0;32m    520\u001b[0m     \"\"\"\n\u001b[1;32m--> 521\u001b[1;33m     \u001b[1;32mreturn\u001b[0m \u001b[0m_raw_fftn_dispatch\u001b[0m\u001b[1;33m(\u001b[0m\u001b[0mx\u001b[0m\u001b[1;33m,\u001b[0m \u001b[0mshape\u001b[0m\u001b[1;33m,\u001b[0m \u001b[0maxes\u001b[0m\u001b[1;33m,\u001b[0m \u001b[0moverwrite_x\u001b[0m\u001b[1;33m,\u001b[0m \u001b[1;36m1\u001b[0m\u001b[1;33m)\u001b[0m\u001b[1;33m\u001b[0m\u001b[0m\n\u001b[0m\u001b[0;32m    522\u001b[0m \u001b[1;33m\u001b[0m\u001b[0m\n\u001b[0;32m    523\u001b[0m \u001b[1;32mdef\u001b[0m \u001b[0m_raw_fftn_dispatch\u001b[0m\u001b[1;33m(\u001b[0m\u001b[0mx\u001b[0m\u001b[1;33m,\u001b[0m \u001b[0mshape\u001b[0m\u001b[1;33m,\u001b[0m \u001b[0maxes\u001b[0m\u001b[1;33m,\u001b[0m \u001b[0moverwrite_x\u001b[0m\u001b[1;33m,\u001b[0m \u001b[0mdirection\u001b[0m\u001b[1;33m)\u001b[0m\u001b[1;33m:\u001b[0m\u001b[1;33m\u001b[0m\u001b[0m\n",
        "\u001b[1;32m/home/qytian/Enthought/Canopy_64bit/System/lib/python2.7/site-packages/scipy/fftpack/basic.pyc\u001b[0m in \u001b[0;36m_raw_fftn_dispatch\u001b[1;34m(x, shape, axes, overwrite_x, direction)\u001b[0m\n\u001b[0;32m    533\u001b[0m \u001b[1;33m\u001b[0m\u001b[0m\n\u001b[0;32m    534\u001b[0m     \u001b[0moverwrite_x\u001b[0m \u001b[1;33m=\u001b[0m \u001b[0moverwrite_x\u001b[0m \u001b[1;32mor\u001b[0m \u001b[0m_datacopied\u001b[0m\u001b[1;33m(\u001b[0m\u001b[0mtmp\u001b[0m\u001b[1;33m,\u001b[0m \u001b[0mx\u001b[0m\u001b[1;33m)\u001b[0m\u001b[1;33m\u001b[0m\u001b[0m\n\u001b[1;32m--> 535\u001b[1;33m     \u001b[1;32mreturn\u001b[0m \u001b[0m_raw_fftnd\u001b[0m\u001b[1;33m(\u001b[0m\u001b[0mtmp\u001b[0m\u001b[1;33m,\u001b[0m\u001b[0mshape\u001b[0m\u001b[1;33m,\u001b[0m\u001b[0maxes\u001b[0m\u001b[1;33m,\u001b[0m\u001b[0mdirection\u001b[0m\u001b[1;33m,\u001b[0m\u001b[0moverwrite_x\u001b[0m\u001b[1;33m,\u001b[0m\u001b[0mwork_function\u001b[0m\u001b[1;33m)\u001b[0m\u001b[1;33m\u001b[0m\u001b[0m\n\u001b[0m\u001b[0;32m    536\u001b[0m \u001b[1;33m\u001b[0m\u001b[0m\n\u001b[0;32m    537\u001b[0m \u001b[1;33m\u001b[0m\u001b[0m\n",
        "\u001b[1;32m/home/qytian/Enthought/Canopy_64bit/System/lib/python2.7/site-packages/scipy/fftpack/basic.pyc\u001b[0m in \u001b[0;36m_raw_fftnd\u001b[1;34m(x, s, axes, direction, overwrite_x, work_function)\u001b[0m\n\u001b[0;32m    439\u001b[0m             \u001b[0mx\u001b[0m\u001b[1;33m,\u001b[0m \u001b[0mcopy_made\u001b[0m \u001b[1;33m=\u001b[0m \u001b[0m_fix_shape\u001b[0m\u001b[1;33m(\u001b[0m\u001b[0mx\u001b[0m\u001b[1;33m,\u001b[0m \u001b[0ms\u001b[0m\u001b[1;33m[\u001b[0m\u001b[0mi\u001b[0m\u001b[1;33m]\u001b[0m\u001b[1;33m,\u001b[0m \u001b[0mi\u001b[0m\u001b[1;33m)\u001b[0m\u001b[1;33m\u001b[0m\u001b[0m\n\u001b[0;32m    440\u001b[0m             \u001b[0moverwrite_x\u001b[0m \u001b[1;33m=\u001b[0m \u001b[0moverwrite_x\u001b[0m \u001b[1;32mor\u001b[0m \u001b[0mcopy_made\u001b[0m\u001b[1;33m\u001b[0m\u001b[0m\n\u001b[1;32m--> 441\u001b[1;33m         \u001b[1;32mreturn\u001b[0m \u001b[0mwork_function\u001b[0m\u001b[1;33m(\u001b[0m\u001b[0mx\u001b[0m\u001b[1;33m,\u001b[0m\u001b[0ms\u001b[0m\u001b[1;33m,\u001b[0m\u001b[0mdirection\u001b[0m\u001b[1;33m,\u001b[0m\u001b[0moverwrite_x\u001b[0m\u001b[1;33m=\u001b[0m\u001b[0moverwrite_x\u001b[0m\u001b[1;33m)\u001b[0m\u001b[1;33m\u001b[0m\u001b[0m\n\u001b[0m\u001b[0;32m    442\u001b[0m \u001b[1;33m\u001b[0m\u001b[0m\n\u001b[0;32m    443\u001b[0m     \u001b[1;31m# We ordered axes, because the code below to push axes at the end of the\u001b[0m\u001b[1;33m\u001b[0m\u001b[1;33m\u001b[0m\u001b[0m\n",
        "\u001b[1;31mKeyboardInterrupt\u001b[0m: "
       ]
      },
      {
       "output_type": "stream",
       "stream": "stderr",
       "text": [
        "-c:16: RuntimeWarning: divide by zero encountered in divide\n"
       ]
      }
     ],
     "prompt_number": 4
    },
    {
     "cell_type": "code",
     "collapsed": false,
     "input": [],
     "language": "python",
     "metadata": {},
     "outputs": []
    }
   ],
   "metadata": {}
  }
 ]
}