{
 "metadata": {
  "name": "s-data-statistics"
 },
 "nbformat": 3,
 "nbformat_minor": 0,
 "worksheets": [
  {
   "cells": [
    {
     "cell_type": "code",
     "collapsed": false,
     "input": [
      "#This script calculates statistics of the data, including the diffusivity and SNR"
     ],
     "language": "python",
     "metadata": {},
     "outputs": [],
     "prompt_number": 21
    },
    {
     "cell_type": "code",
     "collapsed": false,
     "input": [
      "%pylab inline\n",
      "import nibabel as nib\n",
      "from dipy.data import get_sphere\n",
      "from dipy.reconst.gqi import GeneralizedQSamplingModel\n",
      "from dipy.reconst.peaks import peaks_from_model\n",
      "import numpy as np\n",
      "import dipy.core.gradients as grad\n",
      "from dipy.viz import fvtk\n",
      "import dipy.reconst.dti as dti\n",
      "np.set_printoptions(threshold=np.nan)"
     ],
     "language": "python",
     "metadata": {},
     "outputs": [
      {
       "output_type": "stream",
       "stream": "stdout",
       "text": [
        "\n",
        "Welcome to pylab, a matplotlib-based Python environment [backend: module://IPython.kernel.zmq.pylab.backend_inline].\n",
        "For more information, type 'help(pylab)'.\n"
       ]
      }
     ],
     "prompt_number": 22
    },
    {
     "cell_type": "code",
     "collapsed": false,
     "input": [
      "#Read in data\n",
      "data_name = '515' \n",
      "\n",
      "data_path = '/biac4/wandell/data/qytian/DSIProject/'\n",
      "\n",
      "img_bx = nib.load(data_path + 'DSI' + data_name + '/DSI' + data_name + '_bx_reg_cc.nii.gz')\n",
      "data_bx = img_bx.get_data()\n",
      "\n",
      "img_b0 = nib.load(data_path + 'DSI' + data_name + '/DSI' + data_name + '_b0_reg_cc.nii.gz')\n",
      "data_b0 = img_b0.get_data()\n",
      "\n",
      "data_b0_avg = np.mean(data_b0,-1)\n",
      "data = np.concatenate([data_b0_avg[...,None], data_bx], axis=-1)\n",
      "\n",
      "gtab = grad.gradient_table(data_path + 'DSI' + data_name + '/bvals_' + data_name + '_standard.txt', \n",
      "                           data_path + 'DSI' + data_name + '/bvecs_prs_' + data_name + '_standard.txt')"
     ],
     "language": "python",
     "metadata": {},
     "outputs": [],
     "prompt_number": 23
    },
    {
     "cell_type": "code",
     "collapsed": false,
     "input": [
      "idx = np.where(gtab.bvals < 4000) # Properly choose data from DSI for DTI estimation\n",
      "gtab_sub = grad.gradient_table(gtab.bvals[idx], gtab.bvecs[idx])\n",
      "data_sub = data[:, :, :, idx]\n",
      "gtab.bvals[idx]"
     ],
     "language": "python",
     "metadata": {},
     "outputs": [
      {
       "output_type": "pyout",
       "prompt_number": 24,
       "text": [
        "array([    0.,  1200.,  1200.,  1200.,  1200.,  1200.,  1200.,  2400.,\n",
        "        2400.,  2400.,  2400.,  2400.,  2400.,  2400.,  2400.,  2400.,\n",
        "        2400.,  2400.,  2400.,  3600.,  3600.,  3600.,  3600.,  3600.,\n",
        "        3600.,  3600.,  3600.])"
       ]
      }
     ],
     "prompt_number": 24
    },
    {
     "cell_type": "code",
     "collapsed": false,
     "input": [
      "data_sub.shape[-1]"
     ],
     "language": "python",
     "metadata": {},
     "outputs": [
      {
       "output_type": "pyout",
       "prompt_number": 25,
       "text": [
        "27"
       ]
      }
     ],
     "prompt_number": 25
    },
    {
     "cell_type": "code",
     "collapsed": false,
     "input": [
      "tenmodel = dti.TensorModel(gtab_sub) \n",
      "tenfit = tenmodel.fit(data_sub)"
     ],
     "language": "python",
     "metadata": {},
     "outputs": [],
     "prompt_number": 26
    },
    {
     "cell_type": "code",
     "collapsed": false,
     "input": [
      "tenfit.ad"
     ],
     "language": "python",
     "metadata": {},
     "outputs": [
      {
       "output_type": "pyout",
       "prompt_number": 27,
       "text": [
        "array([[[[ 0.00018297],\n",
        "         [ 0.00014232]],\n",
        "\n",
        "        [[ 0.00023912],\n",
        "         [ 0.00015963]],\n",
        "\n",
        "        [[ 0.0001714 ],\n",
        "         [ 0.00017696]],\n",
        "\n",
        "        [[ 0.00018245],\n",
        "         [ 0.00015645]]]])"
       ]
      }
     ],
     "prompt_number": 27
    },
    {
     "cell_type": "code",
     "collapsed": false,
     "input": [
      "tenfit.rd"
     ],
     "language": "python",
     "metadata": {},
     "outputs": [
      {
       "output_type": "pyout",
       "prompt_number": 28,
       "text": [
        "array([[[[  4.95311400e-05],\n",
        "         [  1.51115394e-05]],\n",
        "\n",
        "        [[  8.93791902e-05],\n",
        "         [  5.44881585e-05]],\n",
        "\n",
        "        [[  9.76081500e-05],\n",
        "         [  1.80111563e-05]],\n",
        "\n",
        "        [[  5.38639856e-05],\n",
        "         [  7.02609520e-05]]]])"
       ]
      }
     ],
     "prompt_number": 28
    },
    {
     "cell_type": "code",
     "collapsed": false,
     "input": [
      "tenfit.evals"
     ],
     "language": "python",
     "metadata": {},
     "outputs": [
      {
       "output_type": "pyout",
       "prompt_number": 29,
       "text": [
        "array([[[[[  1.82971816e-04,   9.90618633e-05,   4.16662873e-10]],\n",
        "\n",
        "         [[  1.42316767e-04,   3.02226621e-05,   4.16662873e-10]]],\n",
        "\n",
        "\n",
        "        [[[  2.39119562e-04,   1.05873952e-04,   7.28844286e-05]],\n",
        "\n",
        "         [[  1.59627290e-04,   1.08975900e-04,   4.16662873e-10]]],\n",
        "\n",
        "\n",
        "        [[[  1.71399366e-04,   1.28657229e-04,   6.65590708e-05]],\n",
        "\n",
        "         [[  1.76957643e-04,   3.60218959e-05,   4.16662873e-10]]],\n",
        "\n",
        "\n",
        "        [[[  1.82449914e-04,   1.04940295e-04,   2.78767573e-06]],\n",
        "\n",
        "         [[  1.56452836e-04,   1.40521487e-04,   4.16662873e-10]]]]])"
       ]
      }
     ],
     "prompt_number": 29
    },
    {
     "cell_type": "code",
     "collapsed": false,
     "input": [
      "data_b0.mean(-1) / data_b0.std(-1)"
     ],
     "language": "python",
     "metadata": {},
     "outputs": [
      {
       "output_type": "pyout",
       "prompt_number": 30,
       "text": [
        "array([[[  7.23904407,   9.16734996],\n",
        "        [  8.23266479,   7.84473475],\n",
        "        [ 10.02659662,   8.38420203],\n",
        "        [  8.62859168,   8.15559696]]])"
       ]
      }
     ],
     "prompt_number": 30
    },
    {
     "cell_type": "markdown",
     "metadata": {},
     "source": []
    }
   ],
   "metadata": {}
  }
 ]
}