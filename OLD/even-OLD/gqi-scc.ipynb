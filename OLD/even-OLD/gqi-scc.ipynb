{
 "metadata": {
  "name": "gqi-scc"
 },
 "nbformat": 3,
 "nbformat_minor": 0,
 "worksheets": [
  {
   "cells": [
    {
     "cell_type": "code",
     "collapsed": false,
     "input": [
      "import nibabel as nib\n",
      "import dipy.reconst.dti as dti\n",
      "import dipy.core.gradients as grad\n",
      "import dipy.data as dpd\n",
      "import dipy.sims.voxel as sims\n",
      "import dipy.core.sphere as sph\n",
      "import osmosis.utils as ozu\n",
      "import numpy as np\n",
      "np.set_printoptions(threshold=np.nan)\n",
      "import matplotlib.pyplot as plt\n",
      "from dipy.reconst.gqi import GeneralizedQSamplingModel\n",
      "from dipy.data import get_data, dsi_voxels\n",
      "from dipy.reconst.dsi import DiffusionSpectrumModel\n",
      "import dipy.reconst.dti as dti\n",
      "from dipy.core.sphere import Sphere\n",
      "from dipy.core.gradients import gradient_table\n",
      "from dipy.data import get_sphere\n",
      "from dipy.sims.voxel import MultiTensor\n",
      "from dipy.sims.voxel import SticksAndBall\n",
      "from dipy.viz import fvtk\n",
      "import numpy.matlib as matlab\n",
      "import nibabel as nib\n",
      "import dipy.core.gradients as grad\n",
      "%pylab inline"
     ],
     "language": "python",
     "metadata": {},
     "outputs": [
      {
       "output_type": "stream",
       "stream": "stdout",
       "text": [
        "\n",
        "Welcome to pylab, a matplotlib-based Python environment [backend: module://IPython.kernel.zmq.pylab.backend_inline].\n",
        "For more information, type 'help(pylab)'.\n"
       ]
      }
     ],
     "prompt_number": 201
    },
    {
     "cell_type": "code",
     "collapsed": false,
     "input": [
      "#Read in data\n",
      "data_path = '/biac4/wandell/data/qytian/DSIProject/DSI515/'\n",
      "\n",
      "img_bx = nib.load(data_path + 'DSI515_bx_reg_cc.nii.gz')\n",
      "data_bx = img_bx.get_data()\n",
      "\n",
      "img_b0 = nib.load(data_path + 'DSI515_b0_reg_cc.nii.gz')\n",
      "data_b0 = img_b0.get_data()\n",
      "\n",
      "data_b0_avg = np.mean(data_b0,-1)\n",
      "data515 = np.concatenate([data_b0_avg[...,None], data_bx], axis=-1)\n",
      "\n",
      "gtab515 = grad.gradient_table(data_path + 'bvals_515_standard.txt', data_path + 'bvecs_prs_515_standard.txt')"
     ],
     "language": "python",
     "metadata": {},
     "outputs": [],
     "prompt_number": 202
    },
    {
     "cell_type": "code",
     "collapsed": false,
     "input": [
      "#Read in data\n",
      "data_path = '/biac4/wandell/data/qytian/DSIProject/DSI2109/'\n",
      "\n",
      "img_bx = nib.load(data_path + 'DSI2109_bx_reg_cc.nii.gz')\n",
      "data_bx = img_bx.get_data()\n",
      "\n",
      "img_b0 = nib.load(data_path + 'DSI2109_b0_reg_cc.nii.gz')\n",
      "data_b0 = img_b0.get_data()\n",
      "\n",
      "data_b0_avg = np.mean(data_b0,-1)\n",
      "data2109 = np.concatenate([data_b0_avg[...,None], data_bx], axis=-1)\n",
      "\n",
      "gtab2109 = grad.gradient_table(data_path + 'bvals_2109_standard.txt', data_path + 'bvecs_prs_2109_standard.txt')"
     ],
     "language": "python",
     "metadata": {},
     "outputs": [],
     "prompt_number": 203
    },
    {
     "cell_type": "code",
     "collapsed": false,
     "input": [
      "sphere = get_sphere('symmetric724')"
     ],
     "language": "python",
     "metadata": {},
     "outputs": [],
     "prompt_number": 204
    },
    {
     "cell_type": "code",
     "collapsed": false,
     "input": [
      "gqmodel = GeneralizedQSamplingModel(gtab515, 'gqi2', sampling_length=1.3)\n",
      "gqfit = gqmodel.fit(data515)\n",
      "ODF515 = gqfit.odf(sphere)\n",
      "r = fvtk.ren()\n",
      "fvtk.add(r, fvtk.sphere_funcs(ODF515, sphere))\n",
      "fvtk.show(r)\n",
      "#fvtk.record(r, n_frames=1, out_path='/home/qytian/Documents/DSI/GQI2109_roi_odfs.png', size=(600,600))"
     ],
     "language": "python",
     "metadata": {},
     "outputs": [],
     "prompt_number": 205
    },
    {
     "cell_type": "code",
     "collapsed": false,
     "input": [
      "gqmodel = GeneralizedQSamplingModel(gtab2109, 'gqi2', sampling_length=1.3)\n",
      "gqfit = gqmodel.fit(data2109)\n",
      "ODF2109 = gqfit.odf(sphere)\n",
      "r = fvtk.ren()\n",
      "fvtk.add(r, fvtk.sphere_funcs(ODF2109, sphere))\n",
      "fvtk.show(r)\n",
      "#fvtk.record(r, n_frames=1, out_path='/home/qytian/Documents/DSI/GQI2109_roi_odfs.png', size=(600,600))"
     ],
     "language": "python",
     "metadata": {},
     "outputs": [],
     "prompt_number": 206
    },
    {
     "cell_type": "code",
     "collapsed": false,
     "input": [
      "bv = gtab2109.bvals\n",
      "bmin = np.sort(bv)[1]\n",
      "bv = np.sqrt(bv / bmin)\n",
      "qtable = np.vstack((bv, bv, bv)).T * gtab2109.bvecs\n",
      "qtable = np.floor(qtable + .5)\n",
      "#r = np.sqrt(qtable[:, 0] ** 2 + qtable[:, 1] ** 2 + qtable[:, 2] ** 2)\n",
      "\n",
      "idx = np.where((np.mod(np.abs(qtable[:, 0]), 2)==0) * (np.mod(np.abs(qtable[:, 1]), 2)==0) * (np.mod(np.abs(qtable[:, 2]), 2)==0))\n",
      "#idx = np.where(np.mod(np.abs(qtable[:, 2]), 2)==0)\n",
      "restBvals = gtab2109.bvals[idx]\n",
      "restBvals.max()"
     ],
     "language": "python",
     "metadata": {},
     "outputs": [
      {
       "output_type": "pyout",
       "prompt_number": 207,
       "text": [
        "30050.0"
       ]
      }
     ],
     "prompt_number": 207
    },
    {
     "cell_type": "code",
     "collapsed": false,
     "input": [
      "bvals = gtab2109.bvals[idx]\n",
      "bvecs = gtab2109.bvecs[idx]\n",
      "subgtab = grad.gradient_table(bvals, bvecs)\n",
      "subdata = data2109[...,idx]\n",
      "subdata = np.swapaxes(subdata, 3, 4);\n",
      "subdata = subdata[:, :, :, :, 0]\n",
      "bvals.shape"
     ],
     "language": "python",
     "metadata": {},
     "outputs": [
      {
       "output_type": "pyout",
       "prompt_number": 208,
       "text": [
        "(257,)"
       ]
      }
     ],
     "prompt_number": 208
    },
    {
     "cell_type": "code",
     "collapsed": false,
     "input": [
      "gqmodel = GeneralizedQSamplingModel(subgtab, 'gqi2', sampling_length=1.3)\n",
      "gqfit = gqmodel.fit(subdata)\n",
      "ODF2109_sub = gqfit.odf(sphere)\n",
      "ODF2109_sub.shape\n",
      "r = fvtk.ren()\n",
      "fvtk.add(r, fvtk.sphere_funcs(ODF2109_sub, sphere))\n",
      "fvtk.show(r)\n",
      "#fvtk.record(r, n_frames=1, out_path='/home/qytian/Documents/DSI/GQI2109_roi_odfs_sub112.png', size=(600,600))"
     ],
     "language": "python",
     "metadata": {},
     "outputs": [],
     "prompt_number": 209
    },
    {
     "cell_type": "code",
     "collapsed": false,
     "input": [
      "x = 3;\n",
      "y = 1;\n",
      "odf515 = ODF515[0, x, y, :]\n",
      "odf2109 = ODF2109[0, x, y, :]\n",
      "odf2109_sub = ODF2109_sub[0, x, y, :]"
     ],
     "language": "python",
     "metadata": {},
     "outputs": [],
     "prompt_number": 259
    },
    {
     "cell_type": "code",
     "collapsed": false,
     "input": [
      "np.corrcoef(odf515, odf2109)"
     ],
     "language": "python",
     "metadata": {},
     "outputs": [
      {
       "output_type": "pyout",
       "prompt_number": 260,
       "text": [
        "array([[ 1.        ,  0.71610354],\n",
        "       [ 0.71610354,  1.        ]])"
       ]
      }
     ],
     "prompt_number": 260
    },
    {
     "cell_type": "code",
     "collapsed": false,
     "input": [
      "np.corrcoef(odf515, odf2109_sub)"
     ],
     "language": "python",
     "metadata": {},
     "outputs": [
      {
       "output_type": "pyout",
       "prompt_number": 261,
       "text": [
        "array([[ 1.        ,  0.59104604],\n",
        "       [ 0.59104604,  1.        ]])"
       ]
      }
     ],
     "prompt_number": 261
    },
    {
     "cell_type": "code",
     "collapsed": false,
     "input": [
      "np.corrcoef(odf2109, odf2109)"
     ],
     "language": "python",
     "metadata": {},
     "outputs": [
      {
       "output_type": "pyout",
       "prompt_number": 262,
       "text": [
        "array([[ 1.,  1.],\n",
        "       [ 1.,  1.]])"
       ]
      }
     ],
     "prompt_number": 262
    },
    {
     "cell_type": "code",
     "collapsed": false,
     "input": [
      "deg, cc = ozu.sph_cc(odf515, odf2109, sphere.vertices, vertices2=sphere.vertices, n=20)\n",
      "plot(deg, cc)"
     ],
     "language": "python",
     "metadata": {},
     "outputs": [
      {
       "output_type": "pyout",
       "prompt_number": 214,
       "text": [
        "[<matplotlib.lines.Line2D at 0xa2dc4d0>]"
       ]
      },
      {
       "output_type": "display_data",
       "png": "[encoded data removed]",
       "text": [
        "<matplotlib.figure.Figure at 0xa2ab890>"
       ]
      }
     ],
     "prompt_number": 214
    },
    {
     "cell_type": "code",
     "collapsed": false,
     "input": [
      "deg, cc = ozu.sph_cc(odf515, odf2109_sub, sphere.vertices, vertices2=sphere.vertices, n=20)\n",
      "plot(deg, cc)"
     ],
     "language": "python",
     "metadata": {},
     "outputs": [
      {
       "output_type": "pyout",
       "prompt_number": 215,
       "text": [
        "[<matplotlib.lines.Line2D at 0xa1f5250>]"
       ]
      },
      {
       "output_type": "display_data",
       "png": "[encoded data removed]",
       "text": [
        "<matplotlib.figure.Figure at 0x9fedbd0>"
       ]
      }
     ],
     "prompt_number": 215
    },
    {
     "cell_type": "code",
     "collapsed": false,
     "input": [
      "deg, cc = ozu.sph_cc(odf2109, odf2109_sub, sphere.vertices, vertices2=sphere.vertices, n=20)\n",
      "plot(deg, cc)"
     ],
     "language": "python",
     "metadata": {},
     "outputs": [
      {
       "output_type": "pyout",
       "prompt_number": 216,
       "text": [
        "[<matplotlib.lines.Line2D at 0xa6679d0>]"
       ]
      },
      {
       "output_type": "display_data",
       "png": "[encoded data removed]",
       "text": [
        "<matplotlib.figure.Figure at 0xa2e2410>"
       ]
      }
     ],
     "prompt_number": 216
    },
    {
     "cell_type": "code",
     "collapsed": false,
     "input": [
      "x = 3;\n",
      "y = 1;\n",
      "odf515 = ODF515[0, x, y, :]\n",
      "odf2109 = ODF2109[0, x, y, :]\n",
      "odf2109_sub = ODF2109_sub[0, x, y, :]"
     ],
     "language": "python",
     "metadata": {},
     "outputs": [],
     "prompt_number": 267
    },
    {
     "cell_type": "code",
     "collapsed": false,
     "input": [
      "diff1 = (odf515/515 - odf2109/2109)**2\n",
      "diff1.sum()"
     ],
     "language": "python",
     "metadata": {},
     "outputs": [
      {
       "output_type": "pyout",
       "prompt_number": 279,
       "text": [
        "4.1184791432916494e-06"
       ]
      }
     ],
     "prompt_number": 279
    },
    {
     "cell_type": "code",
     "collapsed": false,
     "input": [
      "diff2 = (odf515/515 - odf2109_sub/257)**2\n",
      "diff2.sum()"
     ],
     "language": "python",
     "metadata": {},
     "outputs": [
      {
       "output_type": "pyout",
       "prompt_number": 280,
       "text": [
        "1.4577252507001492e-05"
       ]
      }
     ],
     "prompt_number": 280
    },
    {
     "cell_type": "code",
     "collapsed": false,
     "input": [
      "odf515 = odf515/515;\n",
      "odf515.mean()"
     ],
     "language": "python",
     "metadata": {},
     "outputs": [
      {
       "output_type": "pyout",
       "prompt_number": 281,
       "text": [
        "8.4585583501955064e-05"
       ]
      }
     ],
     "prompt_number": 281
    },
    {
     "cell_type": "code",
     "collapsed": false,
     "input": [
      "odf2109 = odf2109/2109;\n",
      "odf2109.mean()"
     ],
     "language": "python",
     "metadata": {},
     "outputs": [
      {
       "output_type": "pyout",
       "prompt_number": 277,
       "text": [
        "0.026535042128933092"
       ]
      }
     ],
     "prompt_number": 277
    },
    {
     "cell_type": "code",
     "collapsed": false,
     "input": [
      "odf2109_sub = odf2109_sub/257;\n",
      "odf2109_sub.mean()"
     ],
     "language": "python",
     "metadata": {},
     "outputs": [
      {
       "output_type": "pyout",
       "prompt_number": 278,
       "text": [
        "0.052641905581317233"
       ]
      }
     ],
     "prompt_number": 278
    },
    {
     "cell_type": "code",
     "collapsed": false,
     "input": [
      "plot(odf515/odf515.max())"
     ],
     "language": "python",
     "metadata": {},
     "outputs": [
      {
       "output_type": "pyout",
       "prompt_number": 219,
       "text": [
        "[<matplotlib.lines.Line2D at 0xb9c7710>]"
       ]
      },
      {
       "output_type": "display_data",
       "png": "[encoded data removed]",
       "text": [
        "<matplotlib.figure.Figure at 0x87b5cd0>"
       ]
      }
     ],
     "prompt_number": 219
    },
    {
     "cell_type": "code",
     "collapsed": false,
     "input": [
      "plot(odf2109/odf2109.max())"
     ],
     "language": "python",
     "metadata": {},
     "outputs": [
      {
       "output_type": "pyout",
       "prompt_number": 220,
       "text": [
        "[<matplotlib.lines.Line2D at 0xb9f9150>]"
       ]
      },
      {
       "output_type": "display_data",
       "png": "[encoded data removed]",
       "text": [
        "<matplotlib.figure.Figure at 0xa215490>"
       ]
      }
     ],
     "prompt_number": 220
    },
    {
     "cell_type": "code",
     "collapsed": false,
     "input": [
      "plot(odf2109_sub/odf2109_sub.max())"
     ],
     "language": "python",
     "metadata": {},
     "outputs": [
      {
       "output_type": "pyout",
       "prompt_number": 221,
       "text": [
        "[<matplotlib.lines.Line2D at 0xbfc3a90>]"
       ]
      },
      {
       "output_type": "display_data",
       "png": "[encoded data removed]",
       "text": [
        "<matplotlib.figure.Figure at 0xb9d2d50>"
       ]
      }
     ],
     "prompt_number": 221
    },
    {
     "cell_type": "code",
     "collapsed": false,
     "input": [
      "grid515 = np.zeros((101, 101, 101))\n"
     ],
     "language": "python",
     "metadata": {},
     "outputs": [],
     "prompt_number": 222
    },
    {
     "cell_type": "code",
     "collapsed": false,
     "input": [
      "odf515.min()\n"
     ],
     "language": "python",
     "metadata": {},
     "outputs": [
      {
       "output_type": "pyout",
       "prompt_number": 223,
       "text": [
        "231.75515611156274"
       ]
      }
     ],
     "prompt_number": 223
    },
    {
     "cell_type": "code",
     "collapsed": false,
     "input": [
      "odf515 = ODF515[0, 3, 1, :]\n",
      "odf515"
     ],
     "language": "python",
     "metadata": {},
     "outputs": [
      {
       "output_type": "pyout",
       "prompt_number": 224,
       "text": [
        "array([ 689.52969042,  755.28995022,  627.51084912,  747.33944651,\n",
        "        696.11364664,  618.66824286,  835.85709895,  598.12975818,\n",
        "        672.63413872,  766.39453871,  574.66279492,  840.51160432,\n",
        "        632.62154355,  601.29976179,  869.66797376,  536.0029817 ,\n",
        "        738.66081892,  693.48754264,  587.34151763,  917.44220604,\n",
        "        577.5580637 ,  600.28028875,  817.59629912,  523.75631053,\n",
        "        860.34862879,  631.23171996,  589.50360155,  931.0765055 ,\n",
        "        512.96200979,  673.81231233,  706.29738688,  577.0413735 ,\n",
        "        945.33947278,  605.62308762,  557.4589309 ,  875.77795901,\n",
        "        474.29049187,  832.96381848,  620.31579513,  616.95973504,\n",
        "        952.03879397,  551.26768084,  585.45720729,  745.18212231,\n",
        "        530.13175483,  949.81296351,  617.22902247,  570.7887784 ,\n",
        "        909.1001772 ,  462.04573015,  752.94412033,  610.15410982,\n",
        "        628.7339038 ,  952.13788351,  620.61716259,  525.60449443,\n",
        "        802.37004232,  459.626347  ,  932.44358052,  585.81902929,\n",
        "        624.10429084,  901.74814822,  521.45772198,  630.28363439,\n",
        "        629.33362029,  580.19025473,  954.2537082 ,  651.27393955,\n",
        "        532.74328823,  836.7080654 ,  425.42767357,  865.69579505,\n",
        "        540.98594992,  668.38299373,  882.94561723,  631.12428552,\n",
        "        527.6216772 ,  683.71324417,  485.35348315,  960.26753231,\n",
        "        607.77969229,  594.77113615,  820.63441059,  476.45206851,\n",
        "        729.34322188,  522.21495187,  646.75631884,  880.47350891,\n",
        "        705.44704042,  504.69677105,  736.15532109,  414.76713109,\n",
        "        940.25066955,  528.52830667,  670.57641311,  787.36607846,\n",
        "        609.51111196,  578.57868322,  550.16101224,  547.75546118,\n",
        "        897.86069894,  675.85941676,  554.59536732,  737.5572951 ,\n",
        "        431.83412494,  838.8532634 ,  465.02747244,  699.80630895,\n",
        "        776.46557453,  740.14556056,  504.83657563,  609.67928142,\n",
        "        438.66834642,  922.88616466,  572.99942362,  640.11195633,\n",
        "        702.13026938,  555.18472513,  668.69678105,  444.74411995,\n",
        "        633.48513325,  787.33471381,  758.3806505 ,  524.68075234,\n",
        "        645.67787861,  404.00113815,  892.45326497,  467.94118   ,\n",
        "        713.92008132,  682.04511866,  725.92908562,  536.31833585,\n",
        "        476.63212783,  503.67127242,  822.81277614,  657.32714952,\n",
        "        598.5735128 ,  634.30985371,  485.63584713,  757.7790282 ,\n",
        "        397.03923182,  709.14932491,  681.2042479 ,  812.25076836,\n",
        "        506.97444352,  529.82604833,  407.46831527,  852.06995462,\n",
        "        518.94532026,  689.37051011,  614.25384689,  660.51658116,\n",
        "        592.43389789,  376.76581239,  601.79130864,  696.57025919,\n",
        "        749.69391179,  555.46563008,  561.1683146 ,  421.56109824,\n",
        "        791.76188494,  404.14194158,  740.27105456,  605.37592669,\n",
        "        807.56305337,  502.24765159,  405.80231137,  458.7516183 ,\n",
        "        739.88073708,  600.42387518,  642.74976904,  567.62039216,\n",
        "        561.3029951 ,  646.71481001,  333.52493178,  695.08831247,\n",
        "        595.47886377,  810.30976976,  507.54366337,  460.13153407,\n",
        "        387.78609476,  746.40772704,  448.5967642 ,  722.47606783,\n",
        "        562.0456826 ,  741.41481607,  515.34459176,  314.22832077,\n",
        "        556.33497803,  612.59063064,  686.35997847,  578.95995953,\n",
        "        514.8277259 ,  454.7432128 ,  661.01809543,  337.36461084,\n",
        "        739.89277325,  537.92816611,  814.38292368,  462.78886807,\n",
        "        347.16100992,  411.62864347,  646.9206904 ,  516.68120577,\n",
        "        671.22661488,  539.84313266,  627.76946575,  536.12596358,\n",
        "        275.73881102,  660.27131333,  516.21868054,  743.52001217,\n",
        "        497.39777245,  430.76449889,  377.66516841,  621.42233372,\n",
        "        369.55527151,  726.73693802,  518.24451714,  760.97049723,\n",
        "        439.77552283,  265.50579041,  498.14225379,  538.18156712,\n",
        "        590.72857132,  590.74312528,  513.36477982,  492.77167453,\n",
        "        538.69687255,  276.62796716,  716.75377428,  468.23572143,\n",
        "        752.64595682,  417.27960398,  329.43018968,  367.69938086,\n",
        "        551.23397636,  421.13660135,  672.75913153,  521.9971795 ,\n",
        "        658.06763759,  441.48106301,  234.76149782,  608.37261499,\n",
        "        452.4142365 ,  643.55368809,  483.62723478,  456.22588619,\n",
        "        381.07699191,  512.20000467,  297.59248094,  706.1917491 ,\n",
        "        463.55450473,  716.68346462,  369.28581324,  255.77132663,\n",
        "        435.16630845,  479.33560452,  483.27427095,  585.3496003 ,\n",
        "        528.43272353,  522.23239133,  448.42512161,  236.75424101,\n",
        "        679.23714743,  406.14411435,  656.75413829,  378.34781269,\n",
        "        373.8216959 ,  339.76205929,  475.30711147,  333.15502921,\n",
        "        646.97106713,  487.22645089,  641.18694204,  365.00278888,\n",
        "        231.75515611,  545.05515744,  416.80849665,  535.55321736,\n",
        "        468.26057705,  512.16369984,  395.91889895,  444.77662708,\n",
        "        249.93392772,  674.18793992,  402.56140257,  634.63204218,\n",
        "        314.56772119,  307.17713933,  383.73691645,  446.18298945,\n",
        "        382.26139803,  556.47349622,  523.54438118,  530.06290444,\n",
        "        388.64036186,  236.18063418,  631.24367513,  371.31759466,\n",
        "        556.97888683,  352.40237538,  464.53573407,  333.02682031,\n",
        "        439.52344165,  270.93226671,  606.1008657 ,  432.05526039,\n",
        "        586.76406824,  308.83130068,  284.7569009 ,  483.11056622,\n",
        "        417.55766913,  434.00605931,  442.55977768,  552.80704039,\n",
        "        412.13925374,  416.95372389,  242.64913789,  639.25967881,\n",
        "        355.37186406,  546.2695546 ,  281.58425379,  412.14895662,\n",
        "        354.939136  ,  446.68478076,  304.89120994,  507.15513373,\n",
        "        483.8955457 ,  512.12050355,  349.08743762,  289.16179033,\n",
        "        577.28787525,  379.75413514,  467.85965628,  331.62893163,\n",
        "        554.51409401,  340.59306534,  443.85958239,  248.5198019 ,\n",
        "        565.96778617,  372.74955362,  517.81497561,  274.8977085 ,\n",
        "        388.66136799,  436.76565213,  453.52606013,  351.49015179,\n",
        "        399.34162962,  547.5096284 ,  421.31139198,  409.63595765,\n",
        "        288.66865386,  603.12801127,  345.60896343,  472.54470862,\n",
        "        263.85324128,  531.6612463 ,  345.8372549 ,  478.558187  ,\n",
        "        265.03610954,  453.20472957,  689.52969042,  755.28995022,\n",
        "        627.51084912,  747.33944651,  696.11364664,  618.66824286,\n",
        "        835.85709895,  598.12975818,  672.63413872,  766.39453871,\n",
        "        574.66279492,  840.51160432,  632.62154355,  601.29976179,\n",
        "        869.66797376,  536.0029817 ,  738.66081892,  693.48754265,\n",
        "        587.34151763,  917.44220604,  577.5580637 ,  600.28028875,\n",
        "        817.59629912,  523.75631053,  860.34862879,  631.23171996,\n",
        "        589.50360155,  931.0765055 ,  512.96200979,  673.81231233,\n",
        "        706.29738688,  577.0413735 ,  945.33947278,  605.62308762,\n",
        "        557.4589309 ,  875.77795901,  474.29049187,  832.96381848,\n",
        "        620.31579513,  616.95973504,  952.03879397,  551.26768084,\n",
        "        585.45720729,  745.18212231,  530.13175483,  949.81296351,\n",
        "        617.22902247,  570.7887784 ,  909.1001772 ,  462.04573015,\n",
        "        752.94412033,  610.15410982,  628.7339038 ,  952.13788351,\n",
        "        620.61716259,  525.60449443,  802.37004232,  459.626347  ,\n",
        "        932.44358052,  585.81902929,  624.10429084,  901.74814822,\n",
        "        521.45772198,  630.28363439,  629.33362029,  580.19025473,\n",
        "        954.2537082 ,  651.27393955,  532.74328823,  836.7080654 ,\n",
        "        425.42767357,  865.69579505,  540.98594992,  668.38299373,\n",
        "        882.94561723,  631.12428552,  527.6216772 ,  683.71324417,\n",
        "        485.35348315,  960.26753231,  607.77969229,  594.77113615,\n",
        "        820.63441059,  476.45206851,  729.34322188,  522.21495187,\n",
        "        646.75631884,  880.47350891,  705.44704042,  504.69677105,\n",
        "        736.15532109,  414.76713109,  940.25066955,  528.52830667,\n",
        "        670.57641311,  787.36607846,  609.51111196,  578.57868322,\n",
        "        550.16101224,  547.75546118,  897.86069894,  675.85941676,\n",
        "        554.59536732,  737.5572951 ,  431.83412494,  838.8532634 ,\n",
        "        465.02747244,  699.80630895,  776.46557453,  740.14556056,\n",
        "        504.83657563,  609.67928142,  438.66834642,  922.88616466,\n",
        "        572.99942362,  640.11195633,  702.13026938,  555.18472513,\n",
        "        668.69678105,  444.74411995,  633.48513325,  787.33471381,\n",
        "        758.3806505 ,  524.68075234,  645.67787861,  404.00113815,\n",
        "        892.45326497,  467.94118   ,  713.92008132,  682.04511866,\n",
        "        725.92908562,  536.31833585,  476.63212783,  503.67127242,\n",
        "        822.81277614,  657.32714952,  598.5735128 ,  634.30985371,\n",
        "        485.63584713,  757.7790282 ,  397.03923182,  709.14932491,\n",
        "        681.2042479 ,  812.25076836,  506.97444352,  529.82604833,\n",
        "        407.46831527,  852.06995462,  518.94532026,  689.37051011,\n",
        "        614.25384689,  660.51658116,  592.43389789,  376.76581239,\n",
        "        601.79130864,  696.57025919,  749.69391179,  555.46563008,\n",
        "        561.1683146 ,  421.56109824,  791.76188494,  404.14194158,\n",
        "        740.27105456,  605.37592669,  807.56305337,  502.24765159,\n",
        "        405.80231137,  458.7516183 ,  739.88073708,  600.42387518,\n",
        "        642.74976904,  567.62039216,  561.3029951 ,  646.71481001,\n",
        "        333.52493178,  695.08831247,  595.47886377,  810.30976976,\n",
        "        507.54366337,  460.13153407,  387.78609476,  746.40772704,\n",
        "        448.5967642 ,  722.47606783,  562.0456826 ,  741.41481607,\n",
        "        515.34459176,  314.22832077,  556.33497803,  612.59063064,\n",
        "        686.35997847,  578.95995953,  514.8277259 ,  454.7432128 ,\n",
        "        661.01809543,  337.36461084,  739.89277325,  537.92816611,\n",
        "        814.38292368,  462.78886807,  347.16100992,  411.62864347,\n",
        "        646.9206904 ,  516.68120577,  671.22661488,  539.84313266,\n",
        "        627.76946575,  536.12596358,  275.73881102,  660.27131333,\n",
        "        516.21868054,  743.52001217,  497.39777245,  430.76449889,\n",
        "        377.66516841,  621.42233372,  369.55527151,  726.73693802,\n",
        "        518.24451714,  760.97049723,  439.77552283,  265.50579041,\n",
        "        498.14225379,  538.18156712,  590.72857132,  590.74312528,\n",
        "        513.36477982,  492.77167453,  538.69687255,  276.62796716,\n",
        "        716.75377428,  468.23572143,  752.64595682,  417.27960398,\n",
        "        329.43018968,  367.69938086,  551.23397636,  421.13660135,\n",
        "        672.75913153,  521.9971795 ,  658.06763759,  441.48106301,\n",
        "        234.76149782,  608.37261499,  452.4142365 ,  643.55368809,\n",
        "        483.62723478,  456.22588619,  381.07699191,  512.20000467,\n",
        "        297.59248094,  706.1917491 ,  463.55450473,  716.68346462,\n",
        "        369.28581324,  255.77132663,  435.16630845,  479.33560452,\n",
        "        483.27427095,  585.3496003 ,  528.43272353,  522.23239133,\n",
        "        448.42512161,  236.75424101,  679.23714743,  406.14411435,\n",
        "        656.75413829,  378.34781269,  373.8216959 ,  339.76205929,\n",
        "        475.30711147,  333.15502921,  646.97106713,  487.22645089,\n",
        "        641.18694204,  365.00278888,  231.75515611,  545.05515744,\n",
        "        416.80849665,  535.55321736,  468.26057705,  512.16369984,\n",
        "        395.91889895,  444.77662708,  249.93392772,  674.18793992,\n",
        "        402.56140257,  634.63204218,  314.56772119,  307.17713933,\n",
        "        383.73691645,  446.18298945,  382.26139803,  556.47349622,\n",
        "        523.54438118,  530.06290444,  388.64036186,  236.18063418,\n",
        "        631.24367513,  371.31759466,  556.97888683,  352.40237538,\n",
        "        464.53573407,  333.02682031,  439.52344165,  270.93226671,\n",
        "        606.1008657 ,  432.05526039,  586.76406824,  308.83130068,\n",
        "        284.7569009 ,  483.11056622,  417.55766913,  434.00605931,\n",
        "        442.55977768,  552.80704039,  412.13925374,  416.95372389,\n",
        "        242.64913789,  639.25967881,  355.37186406,  546.2695546 ,\n",
        "        281.58425379,  412.14895662,  354.939136  ,  446.68478076,\n",
        "        304.89120994,  507.15513373,  483.8955457 ,  512.12050355,\n",
        "        349.08743762,  289.16179033,  577.28787525,  379.75413514,\n",
        "        467.85965628,  331.62893163,  554.51409401,  340.59306534,\n",
        "        443.85958239,  248.5198019 ,  565.96778617,  372.74955362,\n",
        "        517.81497561,  274.8977085 ,  388.66136799,  436.76565213,\n",
        "        453.52606013,  351.49015179,  399.34162962,  547.5096284 ,\n",
        "        421.31139198,  409.63595765,  288.66865386,  603.12801127,\n",
        "        345.60896343,  472.54470862,  263.85324128,  531.6612463 ,\n",
        "        345.8372549 ,  478.558187  ,  265.03610954,  453.20472957])"
       ]
      }
     ],
     "prompt_number": 224
    },
    {
     "cell_type": "code",
     "collapsed": false,
     "input": [
      "odf2109 = ODF2109[0, 3, 1, :]\n",
      "odf2109"
     ],
     "language": "python",
     "metadata": {},
     "outputs": [
      {
       "output_type": "pyout",
       "prompt_number": 225,
       "text": [
        "array([ 3784.75505498,  3812.97616345,  3538.73274428,  3942.82747552,\n",
        "        3542.36146108,  3643.62245291,  3978.50185144,  3286.51854761,\n",
        "        3859.96053826,  3673.65696892,  3381.25324131,  4019.02721183,\n",
        "        3181.12596797,  3624.41990708,  3919.59666799,  3087.14963082,\n",
        "        3908.06504413,  3301.25153185,  3361.75429801,  3996.10897623,\n",
        "        2900.70962019,  3613.68614   ,  3663.22582673,  3038.80604338,\n",
        "        3927.36064334,  2890.4093895 ,  3319.93021897,  3912.31068781,\n",
        "        2734.75518711,  3667.23459009,  3191.31073696,  3078.22187493,\n",
        "        3867.56143932,  2615.60701438,  3249.86614271,  3685.89666487,\n",
        "        2693.50818385,  3751.88938952,  2687.49365633,  3049.15311336,\n",
        "        3787.86214084,  2462.10186601,  3286.37989321,  3193.41789148,\n",
        "        2789.63653998,  3712.82674678,  2380.95843447,  2909.5909451 ,\n",
        "        3665.58588725,  2381.42215395,  3470.73826483,  2591.03507751,\n",
        "        2850.86612431,  3593.33555331,  2264.4176872 ,  2851.01697902,\n",
        "        3274.87292882,  2471.15444998,  3567.61028008,  2196.60972978,\n",
        "        2695.97752661,  3536.6873187 ,  2167.42398354,  3044.20870282,\n",
        "        2622.83816935,  2662.00455175,  3428.39159033,  2095.50419631,\n",
        "        2497.69968815,  3346.06456852,  2164.32965499,  3343.02241178,\n",
        "        2099.50004613,  2624.51168229,  3321.02177821,  2060.12997044,\n",
        "        2555.60028504,  2773.96329276,  2401.552763  ,  3338.52983855,\n",
        "        1937.38596643,  2330.05848928,  3296.6298066 ,  1966.87823794,\n",
        "        2937.06880588,  2123.98157314,  2589.89042785,  3130.46777602,\n",
        "        1984.41841228,  2170.70847114,  2964.87726338,  2092.18931636,\n",
        "        3221.6471516 ,  1826.93093502,  2367.24638006,  3105.33830153,\n",
        "        1920.32407519,  2412.68490433,  2288.26487267,  2443.96270343,\n",
        "        3057.27864022,  1879.03427283,  2007.51603808,  3050.80448233,\n",
        "        1863.12516593,  2910.60573098,  1809.39223653,  2497.01544103,\n",
        "        2880.99695915,  1940.81877891,  1971.62086589,  2549.22442445,\n",
        "        2159.53840074,  3037.09368794,  1764.75610834,  2093.05319952,\n",
        "        2946.72276137,  1814.17363092,  2403.2558744 ,  1925.19113954,\n",
        "        2516.92362287,  2769.03492643,  1917.38842329,  1769.10708759,\n",
        "        2765.72201027,  1875.19783123,  2866.103843  ,  1694.68914417,\n",
        "        2337.23903164,  2719.19288604,  1890.27096744,  1906.74480039,\n",
        "        2171.46305543,  2318.99200829,  2785.53766249,  1832.19799762,\n",
        "        1842.52233625,  2799.26837419,  1759.67612145,  2450.18376052,\n",
        "        1731.40590099,  2528.08654755,  2537.21072713,  1949.0146157 ,\n",
        "        1628.2592578 ,  2444.85317286,  2002.42367624,  2741.45117611,\n",
        "        1726.81640451,  2122.74714332,  2638.38944973,  1825.54852881,\n",
        "        1947.25929696,  1907.55302173,  2480.78170693,  2517.99770809,\n",
        "        1925.73561698,  1642.34258721,  2603.88962552,  1783.28070167,\n",
        "        2461.81349536,  1676.81871413,  2427.90188016,  2408.12306624,\n",
        "        1928.77744254,  1587.09926525,  2150.88195269,  2204.78724485,\n",
        "        2547.01987519,  1829.3642547 ,  1897.8771715 ,  2575.44062295,\n",
        "        1775.87706726,  2023.81750804,  1767.55828716,  2546.89382496,\n",
        "        2296.88702824,  1966.84298673,  1499.75273055,  2351.57971868,\n",
        "        1896.29434435,  2397.56248114,  1707.03385667,  2238.03662252,\n",
        "        2381.73649409,  1873.67270198,  1631.28523299,  1950.35031505,\n",
        "        2396.62311093,  2329.41483306,  1923.24727412,  1689.11456047,\n",
        "        2447.16535368,  1768.4323303 ,  2061.87051844,  1696.96830777,\n",
        "        2471.45736836,  2175.92892641,  1939.05407178,  1428.50866737,\n",
        "        2109.26296682,  2079.13976059,  2280.12504886,  1782.08611223,\n",
        "        2014.90382353,  2385.82544679,  1817.0799095 ,  1709.23912255,\n",
        "        1832.88476005,  2479.16507818,  2133.85716483,  1949.88294443,\n",
        "        1502.45766112,  2233.9145294 ,  1824.36679387,  2039.95080915,\n",
        "        1656.16679419,  2288.92688464,  2173.60592323,  1877.95439528,\n",
        "        1441.78819251,  1950.08683635,  2261.77915062,  2143.94297727,\n",
        "        1859.06204082,  1788.83219288,  2313.23522702,  1777.08566226,\n",
        "        1757.13724799,  1723.12443981,  2408.31158587,  2010.47645968,\n",
        "        1904.25931872,  1363.58059002,  2012.79430425,  1951.58770149,\n",
        "        1990.49009785,  1658.36049957,  2070.40535047,  2227.08563346,\n",
        "        1819.58715368,  1512.5284885 ,  1857.31400175,  2345.58850172,\n",
        "        2004.73235375,  1885.54386945,  1559.59756609,  2127.24268918,\n",
        "        1773.39212917,  1757.69252093,  1588.70432739,  2227.79935773,\n",
        "        2002.5246899 ,  1831.11437127,  1318.30309293,  1875.08456194,\n",
        "        2108.23065243,  1939.87232829,  1710.2458154 ,  1853.0279204 ,\n",
        "        2213.89751007,  1770.23427864,  1578.59587007,  1735.69421137,\n",
        "        2278.06080745,  1891.89643223,  1841.16755876,  1351.02299784,\n",
        "        1910.08123648,  1837.02051417,  1746.31936518,  1492.22337956,\n",
        "        2023.7573353 ,  2081.14896728,  1774.49445988,  1375.09047355,\n",
        "        1813.78370682,  2200.25741214,  1877.84772784,  1761.90109633,\n",
        "        1625.90474271,  2070.44935936,  1734.76661068,  1604.49985943,\n",
        "        1539.88770184,  2101.17092448,  1863.85765522,  1763.09230638,\n",
        "        1232.318817  ,  1774.70389056,  1963.98999582,  1751.85729098,\n",
        "        1501.25512204,  1846.00030252,  2131.40930631,  1738.67314368,\n",
        "        1476.84723098,  1723.19561061,  2155.0512019 ,  1802.12501056,\n",
        "        1754.70645627,  1390.87533859,  1866.83557828,  1749.32175249,\n",
        "        1611.65080215,  1354.72013123,  1913.09616312,  1939.69310931,\n",
        "        1707.91789494,  1256.39548565,  1737.69610596,  2078.46124949,\n",
        "        1757.41886529,  1583.66239345,  1677.43005378,  2061.69474498,\n",
        "        1709.14089372,  1554.10860757,  1530.00536566,  1994.42702887,\n",
        "        1763.02137657,  1694.75926532,  1214.10038497,  1728.74249172,\n",
        "        1845.32597406,  1635.50450226,  1302.84686589,  1783.37779246,\n",
        "        2041.98662275,  1695.34934264,  1391.22248404,  1700.33150853,\n",
        "        2086.35045787,  1735.50950684,  1640.84091882,  1485.71852329,\n",
        "        1907.74000184,  1703.26751596,  1590.11775934,  1303.15412479,\n",
        "        1818.37188944,  1817.01864592,  1645.97928547,  1185.21037172,\n",
        "        1701.10565487,  1983.48322057,  1675.08617657,  1392.94908169,\n",
        "        1701.87381364,  2067.87117557,  1701.2565445 ,  1540.46846141,\n",
        "        1563.45803357,  1970.5136678 ,  1707.80868729,  1628.80654959,\n",
        "        1301.48206813,  1786.13705242,  1767.60267764,  1616.07277951,\n",
        "        1191.15270628,  1718.92464179,  3784.75505498,  3812.97616345,\n",
        "        3538.73274428,  3942.82747552,  3542.36146108,  3643.62245291,\n",
        "        3978.50185144,  3286.51854761,  3859.96053826,  3673.65696892,\n",
        "        3381.25324131,  4019.02721183,  3181.12596797,  3624.41990708,\n",
        "        3919.59666799,  3087.14963082,  3908.06504413,  3301.25153185,\n",
        "        3361.75429801,  3996.10897623,  2900.70962019,  3613.68614   ,\n",
        "        3663.22582673,  3038.80604338,  3927.36064334,  2890.4093895 ,\n",
        "        3319.93021897,  3912.31068781,  2734.75518711,  3667.23459009,\n",
        "        3191.31073696,  3078.22187493,  3867.56143932,  2615.60701438,\n",
        "        3249.86614271,  3685.89666487,  2693.50818385,  3751.88938952,\n",
        "        2687.49365633,  3049.15311336,  3787.86214084,  2462.10186601,\n",
        "        3286.37989321,  3193.41789148,  2789.63653998,  3712.82674678,\n",
        "        2380.95843447,  2909.5909451 ,  3665.58588725,  2381.42215395,\n",
        "        3470.73826483,  2591.0350775 ,  2850.86612431,  3593.33555331,\n",
        "        2264.4176872 ,  2851.01697902,  3274.87292882,  2471.15444998,\n",
        "        3567.61028008,  2196.60972978,  2695.9775266 ,  3536.6873187 ,\n",
        "        2167.42398354,  3044.20870282,  2622.83816935,  2662.00455175,\n",
        "        3428.39159033,  2095.50419631,  2497.69968815,  3346.06456852,\n",
        "        2164.32965499,  3343.02241178,  2099.50004613,  2624.51168229,\n",
        "        3321.02177821,  2060.12997044,  2555.60028504,  2773.96329276,\n",
        "        2401.552763  ,  3338.52983855,  1937.38596643,  2330.05848928,\n",
        "        3296.6298066 ,  1966.87823794,  2937.06880589,  2123.98157314,\n",
        "        2589.89042785,  3130.46777602,  1984.41841228,  2170.70847114,\n",
        "        2964.87726338,  2092.18931636,  3221.6471516 ,  1826.93093502,\n",
        "        2367.24638006,  3105.33830153,  1920.32407519,  2412.68490433,\n",
        "        2288.26487267,  2443.96270343,  3057.27864022,  1879.03427283,\n",
        "        2007.51603808,  3050.80448233,  1863.12516593,  2910.60573098,\n",
        "        1809.39223653,  2497.01544103,  2880.99695915,  1940.81877892,\n",
        "        1971.62086589,  2549.22442445,  2159.53840074,  3037.09368794,\n",
        "        1764.75610834,  2093.05319952,  2946.72276137,  1814.17363092,\n",
        "        2403.25587441,  1925.19113954,  2516.92362287,  2769.03492643,\n",
        "        1917.38842329,  1769.10708759,  2765.72201027,  1875.19783123,\n",
        "        2866.103843  ,  1694.68914417,  2337.23903164,  2719.19288604,\n",
        "        1890.27096744,  1906.74480039,  2171.46305543,  2318.99200829,\n",
        "        2785.53766249,  1832.19799762,  1842.52233625,  2799.26837419,\n",
        "        1759.67612145,  2450.18376052,  1731.40590099,  2528.08654755,\n",
        "        2537.21072713,  1949.0146157 ,  1628.2592578 ,  2444.85317286,\n",
        "        2002.42367624,  2741.45117611,  1726.81640451,  2122.74714332,\n",
        "        2638.38944973,  1825.54852881,  1947.25929696,  1907.55302173,\n",
        "        2480.78170693,  2517.99770809,  1925.73561698,  1642.34258721,\n",
        "        2603.88962552,  1783.28070167,  2461.81349536,  1676.81871413,\n",
        "        2427.90188016,  2408.12306624,  1928.77744254,  1587.09926525,\n",
        "        2150.88195269,  2204.78724485,  2547.01987519,  1829.3642547 ,\n",
        "        1897.8771715 ,  2575.44062295,  1775.87706726,  2023.81750804,\n",
        "        1767.55828716,  2546.89382496,  2296.88702824,  1966.84298673,\n",
        "        1499.75273055,  2351.57971868,  1896.29434435,  2397.56248114,\n",
        "        1707.03385667,  2238.03662252,  2381.73649409,  1873.67270198,\n",
        "        1631.28523299,  1950.35031505,  2396.62311093,  2329.41483306,\n",
        "        1923.24727412,  1689.11456047,  2447.16535368,  1768.4323303 ,\n",
        "        2061.87051845,  1696.96830777,  2471.45736836,  2175.92892641,\n",
        "        1939.05407178,  1428.50866737,  2109.26296682,  2079.13976059,\n",
        "        2280.12504886,  1782.08611223,  2014.90382353,  2385.82544679,\n",
        "        1817.0799095 ,  1709.23912255,  1832.88476005,  2479.16507818,\n",
        "        2133.85716483,  1949.88294443,  1502.45766112,  2233.9145294 ,\n",
        "        1824.36679387,  2039.95080915,  1656.16679419,  2288.92688464,\n",
        "        2173.60592323,  1877.95439528,  1441.78819251,  1950.08683635,\n",
        "        2261.77915062,  2143.94297727,  1859.06204082,  1788.83219288,\n",
        "        2313.23522702,  1777.08566226,  1757.13724799,  1723.12443981,\n",
        "        2408.31158587,  2010.47645968,  1904.25931872,  1363.58059002,\n",
        "        2012.79430425,  1951.58770149,  1990.49009785,  1658.36049957,\n",
        "        2070.40535047,  2227.08563346,  1819.58715368,  1512.5284885 ,\n",
        "        1857.31400175,  2345.58850172,  2004.73235375,  1885.54386945,\n",
        "        1559.59756609,  2127.24268918,  1773.39212917,  1757.69252093,\n",
        "        1588.70432739,  2227.79935773,  2002.5246899 ,  1831.11437127,\n",
        "        1318.30309293,  1875.08456194,  2108.23065243,  1939.87232829,\n",
        "        1710.2458154 ,  1853.0279204 ,  2213.89751007,  1770.23427864,\n",
        "        1578.59587007,  1735.69421137,  2278.06080745,  1891.89643223,\n",
        "        1841.16755876,  1351.02299784,  1910.08123648,  1837.02051417,\n",
        "        1746.31936518,  1492.22337956,  2023.7573353 ,  2081.14896728,\n",
        "        1774.49445988,  1375.09047355,  1813.78370682,  2200.25741215,\n",
        "        1877.84772784,  1761.90109633,  1625.90474271,  2070.44935936,\n",
        "        1734.76661068,  1604.49985943,  1539.88770184,  2101.17092448,\n",
        "        1863.85765522,  1763.09230638,  1232.318817  ,  1774.70389056,\n",
        "        1963.98999582,  1751.85729098,  1501.25512204,  1846.00030252,\n",
        "        2131.40930631,  1738.67314368,  1476.84723098,  1723.19561061,\n",
        "        2155.0512019 ,  1802.12501056,  1754.70645627,  1390.87533859,\n",
        "        1866.83557828,  1749.32175249,  1611.65080215,  1354.72013123,\n",
        "        1913.09616312,  1939.69310931,  1707.91789494,  1256.39548565,\n",
        "        1737.69610596,  2078.46124949,  1757.41886529,  1583.66239344,\n",
        "        1677.43005378,  2061.69474498,  1709.14089372,  1554.10860757,\n",
        "        1530.00536566,  1994.42702887,  1763.02137657,  1694.75926532,\n",
        "        1214.10038497,  1728.74249172,  1845.32597406,  1635.50450226,\n",
        "        1302.84686589,  1783.37779246,  2041.98662275,  1695.34934264,\n",
        "        1391.22248404,  1700.33150853,  2086.35045787,  1735.50950684,\n",
        "        1640.84091882,  1485.71852329,  1907.74000184,  1703.26751596,\n",
        "        1590.11775933,  1303.15412479,  1818.37188944,  1817.01864592,\n",
        "        1645.97928547,  1185.21037172,  1701.10565487,  1983.48322057,\n",
        "        1675.08617657,  1392.94908169,  1701.87381364,  2067.87117557,\n",
        "        1701.2565445 ,  1540.46846141,  1563.45803357,  1970.5136678 ,\n",
        "        1707.80868729,  1628.80654959,  1301.48206813,  1786.13705242,\n",
        "        1767.60267764,  1616.07277951,  1191.15270628,  1718.92464179])"
       ]
      }
     ],
     "prompt_number": 225
    },
    {
     "cell_type": "code",
     "collapsed": false,
     "input": [
      "odf2109_sub = ODF2109_sub[0, 3, 1, :]\n",
      "odf2109_sub"
     ],
     "language": "python",
     "metadata": {},
     "outputs": [
      {
       "output_type": "pyout",
       "prompt_number": 226,
       "text": [
        "array([ 464.29685541,  481.34021512,  391.00142031,  499.44696883,\n",
        "        426.1398414 ,  420.5226334 ,  508.86908202,  332.18136734,\n",
        "        489.40769223,  476.87932195,  333.13062232,  494.21737757,\n",
        "        344.40750771,  446.01392005,  508.49313944,  272.71355506,\n",
        "        478.3563563 ,  426.35174065,  338.62279026,  482.99054247,\n",
        "        262.47161749,  473.25681546,  496.28491179,  252.93329115,\n",
        "        444.89299075,  334.95670173,  389.94860337,  489.03652038,\n",
        "        221.35494589,  455.35612976,  447.8910943 ,  263.64161695,\n",
        "        421.50038795,  245.37019782,  442.23359935,  500.96988144,\n",
        "        210.89365622,  412.59337619,  353.3076515 ,  319.36958967,\n",
        "        430.70717619,  204.17187618,  440.46287761,  468.96600769,\n",
        "        216.65523524,  370.23835084,  254.52952907,  392.42670147,\n",
        "        478.04192951,  193.32849788,  406.35394135,  374.62549906,\n",
        "        262.11442346,  352.81827922,  213.35863784,  418.10718393,\n",
        "        493.12552215,  193.82089287,  364.26135223,  267.33754984,\n",
        "        339.25587889,  406.57495783,  201.24781161,  398.68444411,\n",
        "        402.70386095,  225.88049845,  305.72095903,  223.53036821,\n",
        "        387.54995549,  494.85575378,  188.16633938,  386.67528548,\n",
        "        279.01305783,  301.59903301,  310.03812365,  233.5864496 ,\n",
        "        380.21486528,  455.89962573,  203.40256051,  325.12900387,\n",
        "        213.71496833,  359.80810665,  427.44892519,  206.75288152,\n",
        "        386.01223436,  302.79465321,  274.14933217,  252.83699877,\n",
        "        252.09886119,  366.84502871,  507.80334007,  194.5547423 ,\n",
        "        384.62352417,  199.86512811,  347.31030527,  310.35180259,\n",
        "        257.6673492 ,  355.61541351,  367.61375422,  243.16383088,\n",
        "        276.60810964,  219.10674541,  363.45699767,  478.39680921,\n",
        "        206.83570797,  406.89106767,  204.43136321,  338.8540262 ,\n",
        "        227.52647206,  302.14013358,  341.33634178,  469.9527668 ,\n",
        "        218.23820124,  362.81113953,  164.97567591,  371.47864806,\n",
        "        355.68394942,  254.78214974,  363.10423917,  250.26439155,\n",
        "        307.09434342,  229.55414774,  271.9153441 ,  355.15796854,\n",
        "        514.014071  ,  213.19406482,  426.14153639,  139.13584014,\n",
        "        385.78361   ,  240.52739721,  322.47736707,  323.79485955,\n",
        "        365.277154  ,  260.68152603,  308.93337126,  180.611508  ,\n",
        "        373.97013901,  425.21811334,  235.82286737,  394.84789296,\n",
        "        150.633199  ,  371.54430256,  208.01634456,  327.12223242,\n",
        "        340.69129674,  484.82786881,  232.60429465,  403.43668607,\n",
        "        113.93901209,  397.10495565,  287.04546576,  296.00924193,\n",
        "        323.6192245 ,  229.05694883,  315.74677612,  250.10235598,\n",
        "        230.68967374,  369.88393157,  476.85644999,  226.64540103,\n",
        "        414.90728655,   95.93384536,  406.13739534,  218.91360899,\n",
        "        338.69881979,  318.83213618,  377.2376412 ,  261.36892426,\n",
        "        335.40431233,  122.35000925,  385.37944834,  351.0708329 ,\n",
        "        249.57336778,  338.61374915,  119.51593652,  365.72924155,\n",
        "        220.56039309,  278.15488253,  362.09157253,  464.680048  ,\n",
        "        234.33849739,  387.35196823,   78.13938452,  399.61248174,\n",
        "        251.57783975,  297.22812318,  294.27661663,  230.48254802,\n",
        "        296.01574556,  260.15652094,  153.51497941,  374.57754439,\n",
        "        403.13635174,  220.26139055,  344.39207788,   68.61430898,\n",
        "        385.37703924,  226.53537265,  285.81136253,  337.75990167,\n",
        "        373.68128671,  249.3441173 ,  313.12737582,   78.83743373,\n",
        "        370.87349697,  294.29039434,  234.5564791 ,  276.4203733 ,\n",
        "        109.52970118,  327.62127057,  220.61253438,  184.81439484,\n",
        "        370.11563742,  405.26021875,  219.30070296,  311.77805756,\n",
        "         62.1733033 ,  365.83699081,  249.41943921,  247.02137353,\n",
        "        293.18785711,  237.95194603,  267.02070858,  232.24659033,\n",
        "         90.09125738,  348.55535208,  331.59758619,  192.8446553 ,\n",
        "        257.52536858,   56.6102084 ,  335.55783487,  226.50452942,\n",
        "        189.0817238 ,  353.09448383,  340.66002104,  232.32201289,\n",
        "        242.20778534,   68.00147495,  327.03149738,  273.76402897,\n",
        "        189.62111263,  243.87240742,  118.96271429,  284.88463221,\n",
        "        189.35466313,  102.82287302,  342.85081814,  336.39704723,\n",
        "        190.22559569,  216.28877921,   62.80585577,  309.71187803,\n",
        "        253.32799657,  161.21356899,  307.35206496,  234.89810249,\n",
        "        246.86579909,  171.0776967 ,   71.39316408,  296.57527454,\n",
        "        292.70643753,  151.21102614,  198.2652596 ,   64.68561552,\n",
        "        286.88250505,  198.75580528,   99.62509808,  337.13377841,\n",
        "        292.12530897,  213.09573569,  153.19755699,   86.29197223,\n",
        "        268.40023573,  275.05430652,  123.21123738,  242.84833448,\n",
        "        137.90145813,  260.45022074,  135.93455445,   70.73686624,\n",
        "        285.49169002,  291.4372703 ,  153.46762358,  144.89779569,\n",
        "         78.87451081,  259.85669054,  237.27827287,   77.24847456,\n",
        "        306.84302114,  217.9302358 ,  239.10024481,   98.43944974,\n",
        "         96.97902477,  236.19939039,  284.27157792,  102.0858658 ,\n",
        "        178.08060161,   91.83056758,  262.50755047,  150.09838593,\n",
        "         58.38142734,  284.25598437,  256.34505909,  189.91894967,\n",
        "         83.30142101,  121.84713233,  218.90737881,  270.19260335,\n",
        "         55.6964384 ,  247.88460068,  152.93715625,  258.0285455 ,\n",
        "         79.28468084,   91.50092085,  219.26458599,  277.5218153 ,\n",
        "        114.51900012,  114.33276985,  109.60538237,  239.15896739,\n",
        "        197.20375716,   33.39971734,  271.51933983,  202.31803644,\n",
        "        234.41529403,   40.2756143 ,  148.6386182 ,  187.71715501,\n",
        "        282.14693276,   54.34936229,  177.67199345,  126.20818981,\n",
        "        263.97782179,  100.03310418,   72.38997458,  211.89229211,\n",
        "        248.00376916,  161.17261103,   52.52330134,  164.61724266,\n",
        "        200.70158931,  243.90223886,   16.33244761,  231.880456  ,\n",
        "        163.06221972,  265.19834471,   36.96034966,  144.9811684 ,\n",
        "        166.9615875 ,  276.24802474,   79.18680713,  110.31528594,\n",
        "        148.56294134,  248.74686617,  148.5377056 ,   43.96393078,\n",
        "        205.34780882,  206.51055633,  221.56077383,   15.8530207 ,\n",
        "        207.66837651,  170.71909236,  464.29685541,  481.34021512,\n",
        "        391.00142031,  499.44696883,  426.1398414 ,  420.5226334 ,\n",
        "        508.86908202,  332.18136734,  489.40769223,  476.87932195,\n",
        "        333.13062232,  494.21737757,  344.4075077 ,  446.01392005,\n",
        "        508.49313944,  272.71355506,  478.3563563 ,  426.35174065,\n",
        "        338.62279026,  482.99054247,  262.47161749,  473.25681546,\n",
        "        496.28491179,  252.93329115,  444.89299075,  334.95670173,\n",
        "        389.94860337,  489.03652038,  221.35494589,  455.35612976,\n",
        "        447.8910943 ,  263.64161695,  421.50038795,  245.37019782,\n",
        "        442.23359935,  500.96988144,  210.89365622,  412.59337619,\n",
        "        353.3076515 ,  319.36958967,  430.70717619,  204.17187618,\n",
        "        440.46287761,  468.96600769,  216.65523524,  370.23835084,\n",
        "        254.52952907,  392.42670147,  478.04192951,  193.32849788,\n",
        "        406.35394135,  374.62549906,  262.11442346,  352.81827922,\n",
        "        213.35863784,  418.10718393,  493.12552215,  193.82089287,\n",
        "        364.26135223,  267.33754984,  339.25587889,  406.57495783,\n",
        "        201.24781161,  398.68444411,  402.70386095,  225.88049845,\n",
        "        305.72095903,  223.53036821,  387.54995549,  494.85575378,\n",
        "        188.16633938,  386.67528548,  279.01305783,  301.59903301,\n",
        "        310.03812365,  233.5864496 ,  380.21486528,  455.89962573,\n",
        "        203.40256051,  325.12900387,  213.71496833,  359.80810665,\n",
        "        427.44892519,  206.75288152,  386.01223436,  302.79465321,\n",
        "        274.14933217,  252.83699877,  252.09886119,  366.84502871,\n",
        "        507.80334007,  194.5547423 ,  384.62352417,  199.86512811,\n",
        "        347.31030527,  310.35180259,  257.6673492 ,  355.61541351,\n",
        "        367.61375422,  243.16383088,  276.60810964,  219.10674541,\n",
        "        363.45699767,  478.39680921,  206.83570797,  406.89106767,\n",
        "        204.43136321,  338.8540262 ,  227.52647206,  302.14013358,\n",
        "        341.33634178,  469.9527668 ,  218.23820124,  362.81113953,\n",
        "        164.97567591,  371.47864806,  355.68394942,  254.78214974,\n",
        "        363.10423917,  250.26439155,  307.09434342,  229.55414774,\n",
        "        271.9153441 ,  355.15796854,  514.014071  ,  213.19406482,\n",
        "        426.14153639,  139.13584014,  385.78361   ,  240.52739721,\n",
        "        322.47736707,  323.79485955,  365.277154  ,  260.68152603,\n",
        "        308.93337126,  180.611508  ,  373.97013901,  425.21811334,\n",
        "        235.82286737,  394.84789296,  150.633199  ,  371.54430256,\n",
        "        208.01634456,  327.12223242,  340.69129674,  484.82786881,\n",
        "        232.60429465,  403.43668607,  113.93901209,  397.10495565,\n",
        "        287.04546576,  296.00924193,  323.6192245 ,  229.05694883,\n",
        "        315.74677612,  250.10235598,  230.68967374,  369.88393157,\n",
        "        476.85644999,  226.64540103,  414.90728655,   95.93384536,\n",
        "        406.13739534,  218.91360899,  338.69881979,  318.83213618,\n",
        "        377.2376412 ,  261.36892426,  335.40431233,  122.35000925,\n",
        "        385.37944834,  351.0708329 ,  249.57336778,  338.61374915,\n",
        "        119.51593652,  365.72924155,  220.56039309,  278.15488253,\n",
        "        362.09157253,  464.680048  ,  234.33849739,  387.35196823,\n",
        "         78.13938452,  399.61248174,  251.57783975,  297.22812318,\n",
        "        294.27661663,  230.48254802,  296.01574556,  260.15652094,\n",
        "        153.51497941,  374.57754439,  403.13635173,  220.26139055,\n",
        "        344.39207788,   68.61430898,  385.37703924,  226.53537265,\n",
        "        285.81136253,  337.75990167,  373.68128671,  249.3441173 ,\n",
        "        313.12737582,   78.83743373,  370.87349697,  294.29039434,\n",
        "        234.5564791 ,  276.4203733 ,  109.52970118,  327.62127057,\n",
        "        220.61253438,  184.81439484,  370.11563742,  405.26021875,\n",
        "        219.30070296,  311.77805756,   62.1733033 ,  365.83699081,\n",
        "        249.41943921,  247.02137353,  293.18785711,  237.95194603,\n",
        "        267.02070858,  232.24659033,   90.09125738,  348.55535208,\n",
        "        331.59758619,  192.8446553 ,  257.52536858,   56.6102084 ,\n",
        "        335.55783487,  226.50452942,  189.0817238 ,  353.09448383,\n",
        "        340.66002104,  232.32201289,  242.20778534,   68.00147495,\n",
        "        327.03149738,  273.76402897,  189.62111263,  243.87240742,\n",
        "        118.96271429,  284.88463221,  189.35466313,  102.82287302,\n",
        "        342.85081814,  336.39704723,  190.22559569,  216.28877921,\n",
        "         62.80585577,  309.71187803,  253.32799657,  161.21356899,\n",
        "        307.35206496,  234.89810249,  246.86579909,  171.0776967 ,\n",
        "         71.39316408,  296.57527454,  292.70643753,  151.21102614,\n",
        "        198.2652596 ,   64.68561552,  286.88250505,  198.75580528,\n",
        "         99.62509808,  337.13377841,  292.12530897,  213.09573569,\n",
        "        153.19755699,   86.29197223,  268.40023573,  275.05430652,\n",
        "        123.21123738,  242.84833448,  137.90145813,  260.45022074,\n",
        "        135.93455445,   70.73686624,  285.49169002,  291.4372703 ,\n",
        "        153.46762358,  144.89779569,   78.87451081,  259.85669054,\n",
        "        237.27827287,   77.24847456,  306.84302114,  217.9302358 ,\n",
        "        239.10024481,   98.43944974,   96.97902477,  236.19939039,\n",
        "        284.27157792,  102.0858658 ,  178.08060161,   91.83056758,\n",
        "        262.50755047,  150.09838593,   58.38142734,  284.25598437,\n",
        "        256.34505909,  189.91894967,   83.30142101,  121.84713233,\n",
        "        218.90737881,  270.19260335,   55.6964384 ,  247.88460068,\n",
        "        152.93715625,  258.0285455 ,   79.28468084,   91.50092085,\n",
        "        219.26458599,  277.5218153 ,  114.51900012,  114.33276985,\n",
        "        109.60538237,  239.15896739,  197.20375716,   33.39971734,\n",
        "        271.51933983,  202.31803644,  234.41529403,   40.2756143 ,\n",
        "        148.6386182 ,  187.71715501,  282.14693276,   54.34936229,\n",
        "        177.67199345,  126.20818981,  263.97782179,  100.03310418,\n",
        "         72.38997458,  211.89229211,  248.00376916,  161.17261103,\n",
        "         52.52330134,  164.61724266,  200.70158931,  243.90223886,\n",
        "         16.33244761,  231.880456  ,  163.06221972,  265.19834471,\n",
        "         36.96034966,  144.9811684 ,  166.9615875 ,  276.24802474,\n",
        "         79.18680713,  110.31528594,  148.56294134,  248.74686617,\n",
        "        148.5377056 ,   43.96393078,  205.34780882,  206.51055633,\n",
        "        221.56077383,   15.8530207 ,  207.66837651,  170.71909236])"
       ]
      }
     ],
     "prompt_number": 226
    },
    {
     "cell_type": "code",
     "collapsed": false,
     "input": [],
     "language": "python",
     "metadata": {},
     "outputs": [],
     "prompt_number": 226
    },
    {
     "cell_type": "code",
     "collapsed": false,
     "input": [],
     "language": "python",
     "metadata": {},
     "outputs": [],
     "prompt_number": 226
    }
   ],
   "metadata": {}
  }
 ]
}