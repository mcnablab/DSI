{
 "metadata": {
  "kernelspec": {
   "codemirror_mode": {
    "name": "ipython",
    "version": 2
   },
   "display_name": "IPython (Python 2)",
   "language": "python",
   "name": "python2"
  },
  "name": "s-figure3-signal-bvalues-save-wm",
  "signature": "sha256:8ce3ef1090f2800831ed5835a2845fca0f089eff9c1f2a61952768c548363f08"
 },
 "nbformat": 3,
 "nbformat_minor": 0,
 "worksheets": [
  {
   "cells": [
    {
     "cell_type": "code",
     "collapsed": false,
     "input": [
      "# This script extracts and saves white matter of DSI17 ex vivo and DSI11 in vivo\n",
      "import numpy as np\n",
      "import nibabel as nib"
     ],
     "language": "python",
     "metadata": {},
     "outputs": [],
     "prompt_number": 1
    },
    {
     "cell_type": "code",
     "collapsed": false,
     "input": [
      "data_path = '/biac4/wandell/data/qytian/DSIProject/'"
     ],
     "language": "python",
     "metadata": {},
     "outputs": [],
     "prompt_number": 2
    },
    {
     "cell_type": "code",
     "collapsed": false,
     "input": [
      "# First deal with DSI17 ex vivo data\n",
      "DSI17_exvivo_wm_mask = nib.load(data_path + 'DSI2109/DTI/DSI2109_WMmask.nii.gz').get_data()\n",
      "DSI17_exvivo_wm_idx = np.where(DSI17_exvivo_wm_mask == 1)"
     ],
     "language": "python",
     "metadata": {},
     "outputs": [],
     "prompt_number": 3
    },
    {
     "cell_type": "code",
     "collapsed": false,
     "input": [
      "DSI17_exvivo_b0 = nib.load(data_path + 'DSI2109/DSI2109_b0_reg.nii.gz').get_data()\n",
      "DSI17_exvivo_b0 = np.mean(DSI17_exvivo_b0, axis=-1)\n",
      "DSI17_exvivo_wm_b0 = DSI17_exvivo_b0[DSI17_exvivo_wm_idx]"
     ],
     "language": "python",
     "metadata": {},
     "outputs": [],
     "prompt_number": 4
    },
    {
     "cell_type": "code",
     "collapsed": false,
     "input": [
      "DSI17_exvivo_wm = DSI17_exvivo_wm_b0;\n",
      "DSI17_exvivo_wm = DSI17_exvivo_wm[..., None];\n",
      "print(DSI17_exvivo_wm.shape)"
     ],
     "language": "python",
     "metadata": {},
     "outputs": [
      {
       "output_type": "stream",
       "stream": "stdout",
       "text": [
        "(87507, 1)\n"
       ]
      }
     ],
     "prompt_number": 5
    },
    {
     "cell_type": "code",
     "collapsed": false,
     "input": [
      "# DSI17 data is divided into several segments. Otherwise the original entire data is too large to load.\n",
      "data = nib.load(data_path + 'DSI2109/NeuroImage/DSI2109_bx_reg_seg1to500.nii.gz').get_data()\n",
      "data_flat = data[DSI17_exvivo_wm_idx]\n",
      "DSI17_exvivo_wm = np.concatenate((DSI17_exvivo_wm, data_flat), axis = -1);\n",
      "print(DSI17_exvivo_wm.shape)"
     ],
     "language": "python",
     "metadata": {},
     "outputs": [
      {
       "output_type": "stream",
       "stream": "stdout",
       "text": [
        "(87507, 501)\n"
       ]
      }
     ],
     "prompt_number": 6
    },
    {
     "cell_type": "code",
     "collapsed": false,
     "input": [
      "data = nib.load(data_path + 'DSI2109/NeuroImage/DSI2109_bx_reg_seg501to1000.nii.gz').get_data()\n",
      "data_flat = data[DSI17_exvivo_wm_idx]\n",
      "DSI17_exvivo_wm = np.concatenate((DSI17_exvivo_wm, data_flat), axis = -1);\n",
      "print(DSI17_exvivo_wm.shape)"
     ],
     "language": "python",
     "metadata": {},
     "outputs": [
      {
       "output_type": "stream",
       "stream": "stdout",
       "text": [
        "(87507, 1001)\n"
       ]
      }
     ],
     "prompt_number": 7
    },
    {
     "cell_type": "code",
     "collapsed": false,
     "input": [
      "data = nib.load(data_path + 'DSI2109/NeuroImage/DSI2109_bx_reg_seg1001to1500.nii.gz').get_data()\n",
      "data_flat = data[DSI17_exvivo_wm_idx]\n",
      "DSI17_exvivo_wm = np.concatenate((DSI17_exvivo_wm, data_flat), axis = -1);\n",
      "print(DSI17_exvivo_wm.shape)"
     ],
     "language": "python",
     "metadata": {},
     "outputs": [
      {
       "output_type": "stream",
       "stream": "stdout",
       "text": [
        "(87507, 1501)\n"
       ]
      }
     ],
     "prompt_number": 8
    },
    {
     "cell_type": "code",
     "collapsed": false,
     "input": [
      "data = nib.load(data_path + 'DSI2109/NeuroImage/DSI2109_bx_reg_seg1501to2000.nii.gz').get_data()\n",
      "data_flat = data[DSI17_exvivo_wm_idx]\n",
      "DSI17_exvivo_wm = np.concatenate((DSI17_exvivo_wm, data_flat), axis = -1);\n",
      "print(DSI17_exvivo_wm.shape)"
     ],
     "language": "python",
     "metadata": {},
     "outputs": [
      {
       "output_type": "stream",
       "stream": "stdout",
       "text": [
        "(87507, 2001)\n"
       ]
      }
     ],
     "prompt_number": 9
    },
    {
     "cell_type": "code",
     "collapsed": false,
     "input": [
      "data = nib.load(data_path + 'DSI2109/NeuroImage/DSI2109_bx_reg_seg2001to2238.nii.gz').get_data()\n",
      "data_flat = data[DSI17_exvivo_wm_idx]\n",
      "DSI17_exvivo_wm = np.concatenate((DSI17_exvivo_wm, data_flat), axis = -1);\n",
      "print(DSI17_exvivo_wm.shape)"
     ],
     "language": "python",
     "metadata": {},
     "outputs": [
      {
       "output_type": "stream",
       "stream": "stdout",
       "text": [
        "(87507, 2107)\n"
       ]
      }
     ],
     "prompt_number": 10
    },
    {
     "cell_type": "code",
     "collapsed": false,
     "input": [
      "idx = np.random.randint(0, high=DSI17_exvivo_wm.shape[0], size=27000) #Due to the Github file size limitation of 100MB, only use 32000 voxels\n",
      "DSI17_exvivo_wm = DSI17_exvivo_wm[idx]\n",
      "DSI17_exvivo_wm = np.reshape(DSI17_exvivo_wm, (10, 30, 90, 2107))"
     ],
     "language": "python",
     "metadata": {},
     "outputs": []
    },
    {
     "cell_type": "code",
     "collapsed": false,
     "input": [
      "# Save data\n",
      "nib.save(nib.Nifti1Image(DSI17_exvivo_wm, np.eye(4)), 'data/DSI17_exvivo_wm.nii.gz')"
     ],
     "language": "python",
     "metadata": {},
     "outputs": [],
     "prompt_number": 25
    },
    {
     "cell_type": "code",
     "collapsed": false,
     "input": [],
     "language": "python",
     "metadata": {},
     "outputs": [],
     "prompt_number": 32
    },
    {
     "cell_type": "code",
     "collapsed": false,
     "input": [
      "# Then deal with DSI11 in vivo data\n",
      "DSI11_invivo = nib.load(data_path + 'DSI515_invivo/data.nii.gz').get_data()\n",
      "DSI11_invivo_wm_mask = nib.load(data_path + 'DSI515_invivo/WMmask/WMmask_invivo.nii.gz').get_data()\n",
      "DSI11_invivo_wm_idx = np.where(DSI11_invivo_wm_mask == 1)\n",
      "DSI11_invivo_wm = DSI11_invivo[DSI11_invivo_wm_idx]\n",
      "print(DSI11_invivo_wm.shape)"
     ],
     "language": "python",
     "metadata": {},
     "outputs": [
      {
       "output_type": "stream",
       "stream": "stdout",
       "text": [
        "(47081, 515)\n"
       ]
      }
     ],
     "prompt_number": 12
    },
    {
     "cell_type": "code",
     "collapsed": false,
     "input": [
      "idx = np.random.randint(0, high=DSI11_invivo_wm.shape[0], size=47000)\n",
      "DSI11_invivo_wm = DSI11_invivo_wm[idx]\n",
      "DSI11_invivo_wm = np.reshape(DSI11_invivo_wm, (10, 47, 100, 515))"
     ],
     "language": "python",
     "metadata": {},
     "outputs": []
    },
    {
     "cell_type": "code",
     "collapsed": false,
     "input": [
      "# Save data\n",
      "nib.save(nib.Nifti1Image(DSI11_invivo_wm, np.eye(4)), 'data/DSI11_invivo_wm.nii.gz')"
     ],
     "language": "python",
     "metadata": {},
     "outputs": [],
     "prompt_number": 38
    }
   ],
   "metadata": {}
  }
 ]
}