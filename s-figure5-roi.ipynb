{
 "metadata": {
  "name": "s-figure5-roi"
 },
 "nbformat": 3,
 "nbformat_minor": 0,
 "worksheets": [
  {
   "cells": [
    {
     "cell_type": "code",
     "collapsed": false,
     "input": [
      "import numpy as np\n",
      "import nibabel as nib\n",
      "import dsi4sampling as dsi\n",
      "from dipy.viz import fvtk\n",
      "from dipy.data import get_sphere\n",
      "import dsisamplingtool as dst\n",
      "\n",
      "%pylab inline\n",
      "np.set_printoptions(threshold=numpy.nan)"
     ],
     "language": "python",
     "metadata": {},
     "outputs": [
      {
       "output_type": "stream",
       "stream": "stdout",
       "text": [
        "\n",
        "Welcome to pylab, a matplotlib-based Python environment [backend: module://IPython.kernel.zmq.pylab.backend_inline].\n",
        "For more information, type 'help(pylab)'.\n"
       ]
      }
     ],
     "prompt_number": 1
    },
    {
     "cell_type": "code",
     "collapsed": false,
     "input": [
      "## Load ODF sphere directions\n",
      "sphere = get_sphere('symmetric724')"
     ],
     "language": "python",
     "metadata": {},
     "outputs": [],
     "prompt_number": 2
    },
    {
     "cell_type": "code",
     "collapsed": false,
     "input": [
      "files = np.array(['DSI11_exvivo_roi', 'DSI11_invivo_roi'])"
     ],
     "language": "python",
     "metadata": {},
     "outputs": [],
     "prompt_number": 3
    },
    {
     "cell_type": "code",
     "collapsed": false,
     "input": [
      "qgridsz = 201;\n",
      "pdfweight = np.array([8, 2]);\n",
      "\n",
      "for ii in np.arange(files.shape[0]):\n",
      "    filename = files[ii]\n",
      "    data = dst.loaddata(filename);\n",
      "    gtab = dst.loadgtab(filename);\n",
      "    fov, mdd = dst.loadstat(filename);\n",
      "    pdfroi, pdfslicestart, pdfsliceend, camerapos = dst.loadroi(filename, qgridsz);\n",
      "    hannwidth = np.inf;\n",
      "    integdistance = mdd;\n",
      "    rend = np.round(integdistance / fov * qgridsz);\n",
      "    \n",
      "    dsimodel = dsi.DiffusionSpectrumModel(gtab, qgrid_size=qgridsz, filter_width=hannwidth, r_start=0, r_end=rend, r_step=0.2);\n",
      "    dsifit = dsimodel.fit(data);\n",
      "    odf = dsifit.odf(sphere, pdfweight[ii]);\n",
      "            \n",
      "    # save odf\n",
      "    r = fvtk.ren();\n",
      "    fvtk.add(r, fvtk.sphere_funcs(odf, sphere));\n",
      "    fvtk.camera(r, pos=(camerapos[0], camerapos[1], camerapos[2]));\n",
      "    odfname = 'figure/figure5/' + filename + '_odf_hann_' + str(hannwidth) + '_integdist_' + str(integdistance) + '_pdfweight_' + str(pdfweight[ii]) + '.png';\n",
      "    fvtk.record(r, n_frames=1, out_path=odfname, size=(1600,1000))\n",
      "    #fvtk.show(r)\n",
      "            "
     ],
     "language": "python",
     "metadata": {},
     "outputs": [
      {
       "output_type": "stream",
       "stream": "stdout",
       "text": [
        "Camera Position (0.00,0.00,1.00)\n",
        "Camera Focal Point (0.00,0.00,0.00)\n",
        "Camera View Up (0.00,1.00,0.00)\n",
        "-------------------------------------\n",
        "Camera New Position (1.00,0.00,0.00)\n",
        "Camera New Focal Point (0.00,0.00,0.00)\n",
        "Camera New View Up (0.00,1.00,0.00)\n",
        "Camera Position (0.00,0.00,1.00)"
       ]
      },
      {
       "output_type": "stream",
       "stream": "stdout",
       "text": [
        "\n",
        "Camera Focal Point (0.00,0.00,0.00)\n",
        "Camera View Up (0.00,1.00,0.00)\n",
        "-------------------------------------\n",
        "Camera New Position (0.00,1.00,0.00)\n",
        "Camera New Focal Point (0.00,0.00,0.00)\n",
        "Camera New View Up (0.00,1.00,0.00)\n"
       ]
      }
     ],
     "prompt_number": 4
    }
   ],
   "metadata": {}
  }
 ]
}