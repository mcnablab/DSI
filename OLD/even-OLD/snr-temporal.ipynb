{
 "metadata": {
  "name": "snr-temporal"
 },
 "nbformat": 3,
 "nbformat_minor": 0,
 "worksheets": [
  {
   "cells": [
    {
     "cell_type": "code",
     "collapsed": false,
     "input": [
      "\n",
      "%pylab inline"
     ],
     "language": "python",
     "metadata": {},
     "outputs": [
      {
       "output_type": "stream",
       "stream": "stdout",
       "text": [
        "\n",
        "Welcome to pylab, a matplotlib-based Python environment [backend: module://IPython.kernel.zmq.pylab.backend_inline].\n",
        "For more information, type 'help(pylab)'.\n"
       ]
      }
     ],
     "prompt_number": 1
    },
    {
     "cell_type": "code",
     "collapsed": false,
     "input": [
      "import nibabel as nib"
     ],
     "language": "python",
     "metadata": {},
     "outputs": [],
     "prompt_number": 2
    },
    {
     "cell_type": "code",
     "collapsed": false,
     "input": [
      "snr30k_fn = '/biac4/wandell/data/qytian/DSIProject/DSI2109/SNR/DSI2109_repeated_b30000_ydir_reg_SNR.nii.gz'\n",
      "snr30k_bkg_fn = '/biac4/wandell/data/qytian/DSIProject/DSI2109/SNR/DSI2109_repeated_b30000_ydir_reg_SNR_bkg.nii.gz'\n",
      "\n",
      "snr0_fn = '/biac4/wandell/data/qytian/DSIProject/DSI2109/SNR/DSI2109_b0_reg_SNR.nii.gz'\n",
      "snr0_bkg_fn = '/biac4/wandell/data/qytian/DSIProject/DSI2109/SNR/DSI2109_b0_reg_SNR_bkg.nii.gz'"
     ],
     "language": "python",
     "metadata": {},
     "outputs": [],
     "prompt_number": 3
    },
    {
     "cell_type": "code",
     "collapsed": false,
     "input": [
      "snr30k = nib.load(snr30k_fn).get_data()\n",
      "snr30k_bkg = nib.load(snr30k_bkg_fn).get_data()\n",
      "\n",
      "snr0 = nib.load(snr0_fn).get_data()\n",
      "snr0_bkg = nib.load(snr0_bkg_fn).get_data()"
     ],
     "language": "python",
     "metadata": {},
     "outputs": [],
     "prompt_number": 4
    },
    {
     "cell_type": "code",
     "collapsed": false,
     "input": [
      "fig, (ax1, ax2, ax3, ax4) = plt.subplots(4)\n",
      "\n",
      "ff = ax1.hist(snr30k[np.where(snr30k>0)], bins=100)\n",
      "ax1.set_xlim([0,18])\n",
      "\n",
      "ff = ax2.hist(snr30k_bkg[np.where(snr30k_bkg>0)], bins=100)\n",
      "ax2.set_xlim([0,18])\n",
      "\n",
      "idx = np.where(np.logical_and(snr0>0, snr0<18))\n",
      "ff = ax3.hist(snr0[idx], bins=100)\n",
      "ax3.set_xlim([0,18])\n",
      "\n",
      "idx = np.where(np.logical_and(snr0_bkg>0, snr0_bkg<18))\n",
      "ff = ax4.hist(snr0_bkg[idx], bins=100)\n",
      "ax4.set_xlim([0,18])"
     ],
     "language": "python",
     "metadata": {},
     "outputs": [
      {
       "output_type": "pyout",
       "prompt_number": 5,
       "text": [
        "(0, 18)"
       ]
      },
      {
       "output_type": "display_data",
       "png": "[encoded data removed]",
       "text": [
        "<matplotlib.figure.Figure at 0x243b210>"
       ]
      }
     ],
     "prompt_number": 5
    },
    {
     "cell_type": "code",
     "collapsed": false,
     "input": [
      "print(np.median(snr0[np.where(snr0>0)]))\n",
      "np.mean(snr0[np.where(snr0>0)])"
     ],
     "language": "python",
     "metadata": {},
     "outputs": [
      {
       "output_type": "stream",
       "stream": "stdout",
       "text": [
        "14.767745018\n"
       ]
      },
      {
       "output_type": "pyout",
       "prompt_number": 6,
       "text": [
        "17.661030097585101"
       ]
      }
     ],
     "prompt_number": 6
    },
    {
     "cell_type": "code",
     "collapsed": false,
     "input": [
      "print(np.median(snr0_bkg[np.where(snr0_bkg>0)]))\n",
      "np.mean(snr0_bkg[np.where(snr0_bkg>0)])"
     ],
     "language": "python",
     "metadata": {},
     "outputs": [
      {
       "output_type": "stream",
       "stream": "stdout",
       "text": [
        "3.11433410645\n"
       ]
      },
      {
       "output_type": "pyout",
       "prompt_number": 7,
       "text": [
        "3.2251881050226947"
       ]
      }
     ],
     "prompt_number": 7
    },
    {
     "cell_type": "code",
     "collapsed": false,
     "input": [
      "print(np.median(snr30k[np.where(snr30k>0)]))\n",
      "np.mean(snr30k[np.where(snr30k>0)])"
     ],
     "language": "python",
     "metadata": {},
     "outputs": [
      {
       "output_type": "stream",
       "stream": "stdout",
       "text": [
        "3.60462498665\n"
       ]
      },
      {
       "output_type": "pyout",
       "prompt_number": 8,
       "text": [
        "3.8019421603322545"
       ]
      }
     ],
     "prompt_number": 8
    },
    {
     "cell_type": "code",
     "collapsed": false,
     "input": [
      "print(np.median(snr30k_bkg[np.where(snr30k_bkg>0)]))\n",
      "np.mean(snr30k_bkg[np.where(snr30k_bkg>0)])"
     ],
     "language": "python",
     "metadata": {},
     "outputs": [
      {
       "output_type": "stream",
       "stream": "stdout",
       "text": [
        "2.98251318932\n"
       ]
      },
      {
       "output_type": "pyout",
       "prompt_number": 9,
       "text": [
        "2.9006251000607217"
       ]
      }
     ],
     "prompt_number": 9
    },
    {
     "cell_type": "code",
     "collapsed": false,
     "input": [],
     "language": "python",
     "metadata": {},
     "outputs": [],
     "prompt_number": 9
    }
   ],
   "metadata": {}
  }
 ]
}