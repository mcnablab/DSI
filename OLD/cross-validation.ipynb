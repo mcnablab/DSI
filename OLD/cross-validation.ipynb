{
 "metadata": {
  "kernelspec": {
   "codemirror_mode": {
    "name": "ipython",
    "version": 2
   },
   "display_name": "IPython (Python 2)",
   "language": "python",
   "name": "python2"
  },
  "name": "cross-validation",
  "signature": "sha256:c34ae307ee6a541a0cc05828be34b9bfa3d1588a6f10878363d4eec5cd3043c5"
 },
 "nbformat": 3,
 "nbformat_minor": 0,
 "worksheets": [
  {
   "cells": [
    {
     "cell_type": "code",
     "collapsed": false,
     "input": [
      "import os\n",
      "import numpy as np\n",
      "import nibabel as nib\n",
      "import osmosis.utils as ozu\n",
      "import osmosis.viz.mpl as viz\n",
      "import dipy.core.gradients as grad\n",
      "import osmosis.model.isotropic as mdm\n",
      "import matplotlib.pyplot as plt\n",
      "import matplotlib\n",
      "matplotlib.rc('font', **{'size'   : 50,\n",
      "                         'family' : 'normal',\n",
      "                         'weight' : 'bold'})\n",
      "\n",
      "%matplotlib inline"
     ],
     "language": "python",
     "metadata": {},
     "outputs": [
      {
       "output_type": "stream",
       "stream": "stderr",
       "text": [
        "ERROR: Line magic function `%matplotlib` not found.\n"
       ]
      }
     ],
     "prompt_number": 3
    },
    {
     "cell_type": "code",
     "collapsed": false,
     "input": [
      "## Load data\n",
      "\n",
      "# Data path\n",
      "data_path = '/biac4/wandell/data/qytian/DSIProject/'\n",
      "\n",
      "DSI515 = nib.load(data_path + 'DSI515_invivo/data.nii.gz').get_data()\n",
      "DSI515_gtab = grad.gradient_table(data_path + 'DSI515_invivo/bvals', data_path + 'DSI515_invivo/bvecs')"
     ],
     "language": "python",
     "metadata": {},
     "outputs": [],
     "prompt_number": 4
    },
    {
     "cell_type": "code",
     "collapsed": false,
     "input": [
      "DSI515_mask = nib.load(data_path + 'DSI515_invivo/WMmask/WMmask_invivo.nii.gz').get_data()"
     ],
     "language": "python",
     "metadata": {},
     "outputs": [],
     "prompt_number": 5
    },
    {
     "cell_type": "code",
     "collapsed": false,
     "input": [
      "vox_per_job = 500\n",
      "\n",
      "models = [mdm.single_exp_rs, mdm.bi_exp_rs, mdm.single_exp_nf_rs]\n",
      "labels = [\"mono-exponential\", \"bi-exponential\", \"mono-exponential_w_noise\"]\n",
      "\n",
      "\n",
      "wm_idx = np.where(DSI515_mask==1)\n",
      "data_flat = DSI515[np.where(DSI515_mask)][:, 1:]/DSI515[np.where(DSI515_mask)][:, 0, None] "
     ],
     "language": "python",
     "metadata": {},
     "outputs": [],
     "prompt_number": 6
    },
    {
     "cell_type": "code",
     "collapsed": false,
     "input": [
      "prediction = []\n",
      "vox_per_job = 100\n",
      "\n",
      "for isotropic_model, label in zip(models, labels):\n",
      "    prediction.append(np.zeros(data_flat.shape))\n",
      "    for i in xrange(int(np.ceil(np.sum(DSI515_mask)/vox_per_job))):\n",
      "        data_name = os.path.join(data_path, \"xval\", \"DSI515_%i_\"%i)\n",
      "        #fname_predictions = data_name + label + \"-predictions-invivo-wm.npy\"\n",
      "        fname_predictions = data_name + label + \"-predictions-wm.npy\"\n",
      "        this_predict = np.load(fname_predictions)\n",
      "        low = i*vox_per_job\n",
      "        # Make sure not to go over the edge of the mask:\n",
      "        hi = np.min([(i+1) * vox_per_job, int(np.sum(DSI515_mask))])\n",
      "        prediction[-1][low:hi] = this_predict[:(hi-low)]"
     ],
     "language": "python",
     "metadata": {},
     "outputs": [],
     "prompt_number": 7
    },
    {
     "cell_type": "code",
     "collapsed": false,
     "input": [
      "rmse = []\n",
      "for p in prediction:\n",
      "    rmse.append(ozu.rmse(data_flat, p))"
     ],
     "language": "python",
     "metadata": {},
     "outputs": [],
     "prompt_number": 8
    },
    {
     "cell_type": "code",
     "collapsed": false,
     "input": [
      "fig, ax = plt.subplots(1)\n",
      "\n",
      "for r,l in zip(rmse, labels):\n",
      "    f = viz.probability_hist(r, fig=fig, label=l)\n",
      "\n",
      "ax.set_xlabel('Cross-validation prediction error (RMSE)')\n",
      "ax.set_ylabel('P(RMSE)')\n",
      "\n",
      "fig.set_size_inches([8, 6])\n",
      "plt.legend()\n",
      "#fig.savefig('/home/arokem/Dropbox/RMSE_histograms.svg')"
     ],
     "language": "python",
     "metadata": {},
     "outputs": [
      {
       "output_type": "pyout",
       "prompt_number": 9,
       "text": [
        "<matplotlib.legend.Legend at 0x526ef10>"
       ]
      }
     ],
     "prompt_number": 9
    },
    {
     "cell_type": "code",
     "collapsed": false,
     "input": [
      "fig, cbar = viz.scatter_density(np.hstack([0, rmse[0], 0.5]), np.hstack([0, rmse[1], 0.5]), \n",
      "                                return_cbar=True, vmin=0, vmax=3, cmap=matplotlib.cm.hot_r)\n",
      "\n",
      "fig.axes[0].plot([0,100],[100,0], 'k--')\n",
      "cbar.set_ticks([0,1,2,3])\n",
      "cbar.set_ticklabels([0,10,100,1000])\n",
      "\n",
      "fig.set_size_inches([10,10])\n",
      "fig.axes[0].set_xlabel('RMSE(mono-exponential)')\n",
      "fig.axes[0].set_ylabel('RMSE(bi-exponential)')\n",
      "\n",
      "#fig.savefig('/home/arokem/Dropbox/mono-vs-bi.svg')"
     ],
     "language": "python",
     "metadata": {},
     "outputs": [
      {
       "output_type": "stream",
       "stream": "stderr",
       "text": [
        "/home/qytian/usr/local/lib/python2.7/site-packages/osmosis/viz/mpl.py:353: RuntimeWarning: divide by zero encountered in log10\n",
        "  imax = ax.matshow(np.log10(np.flipud(data_arr.T)), cmap=cmap, **kwargs)\n"
       ]
      },
      {
       "output_type": "pyout",
       "prompt_number": 10,
       "text": [
        "<matplotlib.text.Text at 0x5b34a90>"
       ]
      }
     ],
     "prompt_number": 10
    },
    {
     "cell_type": "code",
     "collapsed": false,
     "input": [
      "fig, cbar = viz.scatter_density(np.hstack([0, rmse[1], 0.5]), np.hstack([0, rmse[2], 0.5]), \n",
      "                                return_cbar=True, vmin=0, vmax=3, cmap=matplotlib.cm.hot_r)\n",
      "\n",
      "fig.axes[0].plot([0,100],[100,0], 'k--')\n",
      "cbar.set_ticks([0,1,2,3])\n",
      "cbar.set_ticklabels([0,10,100,1000])\n",
      "\n",
      "fig.set_size_inches([10,10])\n",
      "fig.axes[0].set_xlabel('RMSE(bi-exponential)')\n",
      "fig.axes[0].set_ylabel('RMSE(mono-exponential + noise-floor)')\n",
      "\n",
      "#fig.savefig('/home/arokem/Dropbox/bi-vs-noise.svg')"
     ],
     "language": "python",
     "metadata": {},
     "outputs": [
      {
       "output_type": "pyout",
       "prompt_number": 11,
       "text": [
        "<matplotlib.text.Text at 0x5673cd0>"
       ]
      }
     ],
     "prompt_number": 11
    },
    {
     "cell_type": "code",
     "collapsed": false,
     "input": [],
     "language": "python",
     "metadata": {},
     "outputs": [],
     "prompt_number": 9
    },
    {
     "cell_type": "code",
     "collapsed": false,
     "input": [],
     "language": "python",
     "metadata": {},
     "outputs": [],
     "prompt_number": 9
    }
   ],
   "metadata": {}
  }
 ]
}