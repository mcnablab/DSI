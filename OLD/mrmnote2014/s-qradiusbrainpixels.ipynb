{
 "metadata": {
  "name": "s-qradiusbrainpixels"
 },
 "nbformat": 3,
 "nbformat_minor": 0,
 "worksheets": [
  {
   "cells": [
    {
     "cell_type": "code",
     "collapsed": false,
     "input": [
      "import numpy as np\n",
      "import nibabel as nib\n",
      "import numpy.matlib as matlab\n",
      "import dipy.core.gradients as grad\n",
      "import dipy.reconst.dsi as dsi\n",
      "import dipy.reconst.gqi as gqi\n",
      "from dipy.viz import fvtk\n",
      "from dipy.data import get_sphere\n",
      "from dipy.sims.voxel import multi_tensor\n",
      "    \n",
      "%pylab inline\n",
      "np.set_printoptions(threshold=numpy.nan)"
     ],
     "language": "python",
     "metadata": {},
     "outputs": [
      {
       "output_type": "stream",
       "stream": "stdout",
       "text": [
        "\n",
        "Welcome to pylab, a matplotlib-based Python environment [backend: module://IPython.kernel.zmq.pylab.backend_inline].\n",
        "For more information, type 'help(pylab)'.\n"
       ]
      }
     ],
     "prompt_number": 1
    },
    {
     "cell_type": "code",
     "collapsed": false,
     "input": [
      "def squarepdf(pdfslice):\n",
      "    gridsize = pdfslice.shape[0]\n",
      "    center = gridsize//2\n",
      "    tmp = np.arange(gridsize) - center\n",
      "    x, y = meshgrid(tmp, tmp)\n",
      "    r2 = x ** 2 + y ** 2\n",
      "    squarepdfslice = pdfslice * r2 / float((gridsize ** 2))\n",
      "    return squarepdfslice"
     ],
     "language": "python",
     "metadata": {},
     "outputs": [],
     "prompt_number": 2
    },
    {
     "cell_type": "code",
     "collapsed": false,
     "input": [
      "def subsample(data, gtab, ratio, direction):\n",
      "    # Subsample the data by inserting 0\n",
      "    qtable = dsi.create_qtable(gtab);\n",
      "    if direction == 'X':\n",
      "        idx1 = np.mod(np.abs(qtable[:, 0]), ratio)==0\n",
      "    elif direction == 'Y':\n",
      "        idx1 = np.mod(np.abs(qtable[:, 1]), ratio)==0\n",
      "    elif direction == 'Z':\n",
      "        idx1 = np.mod(np.abs(qtable[:, 2]), ratio)==0\n",
      "    else:\n",
      "        idx1 = (np.mod(np.abs(qtable[:, 0]), ratio)==0)*(np.mod(np.abs(qtable[:, 1]), ratio)==0)*(np.mod(np.abs(qtable[:, 2]), ratio)==0)\n",
      "    \n",
      "    idx2 = np.logical_or(np.logical_or(np.abs(qtable[:, 0]) == qtable.max(), np.abs(qtable[:, 1]) == qtable.max()), np.abs(qtable[:, 2]) == qtable.max());\n",
      "    idx = np.logical_not(np.logical_or(idx1, idx2));\n",
      "    \n",
      "    subdata = data;\n",
      "    subdata[..., idx] = 0;\n",
      "    return subdata "
     ],
     "language": "python",
     "metadata": {},
     "outputs": [],
     "prompt_number": 3
    },
    {
     "cell_type": "code",
     "collapsed": false,
     "input": [
      "sphere = get_sphere('symmetric724')"
     ],
     "language": "python",
     "metadata": {},
     "outputs": [],
     "prompt_number": 4
    },
    {
     "cell_type": "code",
     "collapsed": false,
     "input": [
      "# Data path\n",
      "data_path = '/biac4/wandell/data/qytian/DSIProject/'"
     ],
     "language": "python",
     "metadata": {},
     "outputs": [],
     "prompt_number": 5
    },
    {
     "cell_type": "code",
     "collapsed": false,
     "input": [
      "# Load bvals and bvecs\n",
      "DSI515_gtab = grad.gradient_table(data_path + 'DSI515/bvals_515_standard.txt', data_path + 'DSI515/bvecs_prs_515_standard.txt')\n",
      "DSI1418_gtab = grad.gradient_table(data_path + 'DSI1418/bvals_1418_standard.txt', data_path + 'DSI1418/bvecs_prs_1418_standard.txt')\n",
      "DSI2109_gtab = grad.gradient_table(data_path + 'DSI2109/bvals_2109_standard.txt', data_path + 'DSI2109/bvecs_prs_2109_standard.txt')\n",
      "DSI515_invivo_gtab = grad.gradient_table(data_path + 'DSI515_invivo/bvals', data_path + 'DSI515_invivo/bvecs')"
     ],
     "language": "python",
     "metadata": {},
     "outputs": [],
     "prompt_number": 6
    },
    {
     "cell_type": "code",
     "collapsed": false,
     "input": [
      "# Specify statistics\n",
      "DSI515_fov = 28.0 #um\n",
      "DSI1418_fov = 39.2 #um\n",
      "DSI2109_fov = 44.8 #um\n",
      "DSI515_invivo_fov = 40.5 #um\n",
      "\n",
      "DSI515_mdr = 1.8e-4 #um\n",
      "DSI1418_mdr = 1.8e-4 #um\n",
      "DSI2109_mdr = 1.8e-4 #um\n",
      "DSI515_invivo_mdr = 1.9e-3 #um\n",
      "\n",
      "DSI515_mdd = 5 #um\n",
      "DSI1418_mdd = 5 #um\n",
      "DSI2109_mdd = 5 #um\n",
      "DSI515_invivo_mdd = 13.4 #um\n",
      "\n",
      "DSI515_water_mdd = 18.9 #um\n",
      "DSI1418_water_mdd = 18.9 #um\n",
      "DSI2109_water_mdd = 18.9 #um\n",
      "DSI515_invivo_water_mdd = 15.8 #um"
     ],
     "language": "python",
     "metadata": {},
     "outputs": [],
     "prompt_number": 7
    },
    {
     "cell_type": "code",
     "collapsed": false,
     "input": [
      "# Load data\n",
      "# Load DSI515 data\n",
      "DSI515_bx = nib.load(data_path + 'DSI515/DSI515_bx_reg.nii.gz').get_data()\n",
      "DSI515_b0 = nib.load(data_path + 'DSI515/DSI515_b0_reg.nii.gz').get_data().mean(-1)\n",
      "DSI515 = np.concatenate([DSI515_b0[..., None], DSI515_bx], axis=-1)\n",
      "\n",
      "# Load DSI1418 data\n",
      "#DSI1418_bx = nib.load(data_path + 'DSI1418/DSI1418_bx_reg_cc.nii.gz').get_data()\n",
      "#DSI1418_b0 = nib.load(data_path + 'DSI1418/DSI1418_b0_reg_cc.nii.gz').get_data().mean(-1)\n",
      "#DSI1418 = np.concatenate([DSI1418_b0[..., None], DSI1418_bx], axis=-1)\n",
      "\n",
      "# Load DSI2109 data\n",
      "#DSI2109_bx = nib.load(data_path + 'DSI2109/DSI2109_bx_reg_cc.nii.gz').get_data()\n",
      "#DSI2109_b0 = nib.load(data_path + 'DSI2109/DSI2109_b0_reg_cc.nii.gz').get_data().mean(-1)\n",
      "#DSI2109 = np.concatenate([DSI2109_b0[..., None], DSI2109_bx], axis=-1)\n",
      "\n",
      "# Load DSI515 data\n",
      "#DSI515_invivo = nib.load(data_path + 'DSI515_invivo/data_ROI_xfib.nii.gz').get_data()"
     ],
     "language": "python",
     "metadata": {},
     "outputs": [],
     "prompt_number": 8
    },
    {
     "cell_type": "code",
     "collapsed": false,
     "input": [
      "mask = nib.load(data_path + 'DSI515/mask_mask_hand.nii.gz').get_data()"
     ],
     "language": "python",
     "metadata": {},
     "outputs": [],
     "prompt_number": 9
    },
    {
     "cell_type": "code",
     "collapsed": false,
     "input": [
      "DSI515_b0.shape"
     ],
     "language": "python",
     "metadata": {},
     "outputs": [
      {
       "output_type": "pyout",
       "prompt_number": 14,
       "text": [
        "(120, 92, 112)"
       ]
      }
     ],
     "prompt_number": 14
    },
    {
     "cell_type": "code",
     "collapsed": false,
     "input": [
      "mask.shape"
     ],
     "language": "python",
     "metadata": {},
     "outputs": [
      {
       "output_type": "pyout",
       "prompt_number": 11,
       "text": [
        "(120, 92, 112)"
       ]
      }
     ],
     "prompt_number": 11
    },
    {
     "cell_type": "code",
     "collapsed": false,
     "input": [
      "data = DSI515"
     ],
     "language": "python",
     "metadata": {},
     "outputs": [],
     "prompt_number": 12
    },
    {
     "cell_type": "code",
     "collapsed": false,
     "input": [
      "data = data * mask[..., None]"
     ],
     "language": "python",
     "metadata": {},
     "outputs": []
    },
    {
     "cell_type": "code",
     "collapsed": false,
     "input": [
      "gtab = DSI515_gtab\n",
      "mdr = DSI515_mdr\n",
      "data = DSI515[0,0,0,:]\n",
      "\n",
      "# Simulate data\n",
      "#mevals = np.array(([mdr, mdr/2, mdr/2], [mdr, mdr/2, mdr/2]))\n",
      "#simdata, sticks= multi_tensor(gtab, mevals, S0=200, angles=[(90, 0), (90, 90)], fractions=[50, 50], snr=15)\n",
      "#simdata = tile(simdata, (data.shape[0], data.shape[1], data.shape[2], 1))\n",
      "#data = simdata\n",
      "subratio = 1\n",
      "data = subsample(data, gtab, ratio = subratio, direction='A')\n",
      "\n",
      "qgsize = 201\n",
      "qtable = dsi.create_qtable(gtab);\n",
      "#fwidth = qtable.max() * 2\n",
      "fwidth = np.inf\n",
      "mdd = DSI515_mdd;\n",
      "watermdd = DSI515_water_mdd\n",
      "fov = DSI515_fov\n",
      "rend = np.round(mdd / fov * qgsize)"
     ],
     "language": "python",
     "metadata": {},
     "outputs": [],
     "prompt_number": 9
    },
    {
     "cell_type": "code",
     "collapsed": false,
     "input": [
      "idx = np.dot(gtab.bvecs, [0, 0, 1]) == 1\n",
      "idx[0] = True"
     ],
     "language": "python",
     "metadata": {},
     "outputs": [],
     "prompt_number": 15
    },
    {
     "cell_type": "code",
     "collapsed": false,
     "input": [],
     "language": "python",
     "metadata": {},
     "outputs": [],
     "prompt_number": 15
    },
    {
     "cell_type": "code",
     "collapsed": false,
     "input": [
      "dataq = data[idx]\n",
      "bvals = gtab.bvals[idx]\n",
      "bvecs = gtab.bvecs[idx, :]"
     ],
     "language": "python",
     "metadata": {},
     "outputs": [],
     "prompt_number": 16
    },
    {
     "cell_type": "code",
     "collapsed": false,
     "input": [
      "bvecs"
     ],
     "language": "python",
     "metadata": {},
     "outputs": [
      {
       "output_type": "pyout",
       "prompt_number": 17,
       "text": [
        "array([[ 0.,  0.,  0.],\n",
        "       [ 0., -1.,  0.],\n",
        "       [ 0., -1.,  0.],\n",
        "       [ 0., -1.,  0.],\n",
        "       [ 0., -1.,  0.],\n",
        "       [ 0., -1.,  0.]])"
       ]
      }
     ],
     "prompt_number": 17
    },
    {
     "cell_type": "code",
     "collapsed": false,
     "input": [
      "bvals"
     ],
     "language": "python",
     "metadata": {},
     "outputs": [
      {
       "output_type": "pyout",
       "prompt_number": 18,
       "text": [
        "array([     0.,  30000.,   1200.,   4800.,  10800.,  19200.])"
       ]
      }
     ],
     "prompt_number": 18
    },
    {
     "cell_type": "code",
     "collapsed": false,
     "input": [
      "dataq"
     ],
     "language": "python",
     "metadata": {},
     "outputs": [
      {
       "output_type": "pyout",
       "prompt_number": 19,
       "text": [
        "array([ 166.64864865,   58.        ,  156.        ,   63.        ,\n",
        "        120.        ,   91.        ])"
       ]
      }
     ],
     "prompt_number": 19
    },
    {
     "cell_type": "code",
     "collapsed": false,
     "input": [
      "plot(bvals, dataq, 'o')\n",
      "ylim([0, 200])"
     ],
     "language": "python",
     "metadata": {},
     "outputs": [
      {
       "output_type": "pyout",
       "prompt_number": 20,
       "text": [
        "(0, 200)"
       ]
      },
      {
       "output_type": "display_data",
       "png": "[encoded data removed]",
       "text": [
        "<matplotlib.figure.Figure at 0x4cf0fd0>"
       ]
      }
     ],
     "prompt_number": 20
    },
    {
     "cell_type": "code",
     "collapsed": false,
     "input": [
      "#dsimodel = dsi.DiffusionSpectrumModel(gtab, qgrid_size=qgsize, filter_width=fwidth, r_start=0, r_end=rend, r_step=0.1)\n",
      "dsidmodel = dsi.DiffusionSpectrumDeconvModel(gtab, qgrid_size=qgsize, filter_width=fwidth, r_start=0, r_end=rend, r_step=0.1)\n",
      "\n",
      "#dsifit = dsimodel.fit(data)\n",
      "dsidfit = dsidmodel.fit(data)\n",
      "\n",
      "#dsiodf = dsifit.odf(sphere)\n",
      "dsidodf = dsidfit.odf(sphere)\n",
      "\n",
      "#pdfslice = dsifit[0, 0, 0].pdf()[:, :, qgsize//2];\n",
      "pdfslice = dsidfit[0, 0, 0].pdf()[:, :, qgsize//2];\n",
      "\n",
      "squarepdfslice = squarepdf(pdfslice)"
     ],
     "language": "python",
     "metadata": {},
     "outputs": [
      {
       "ename": "KeyboardInterrupt",
       "evalue": "",
       "output_type": "pyerr",
       "traceback": [
        "\u001b[1;31m---------------------------------------------------------------------------\u001b[0m\n\u001b[1;31mKeyboardInterrupt\u001b[0m                         Traceback (most recent call last)",
        "\u001b[1;32m<ipython-input-21-f4dc86b37fb2>\u001b[0m in \u001b[0;36m<module>\u001b[1;34m()\u001b[0m\n\u001b[0;32m      6\u001b[0m \u001b[1;33m\u001b[0m\u001b[0m\n\u001b[0;32m      7\u001b[0m \u001b[1;31m#dsiodf = dsifit.odf(sphere)\u001b[0m\u001b[1;33m\u001b[0m\u001b[1;33m\u001b[0m\u001b[0m\n\u001b[1;32m----> 8\u001b[1;33m \u001b[0mdsidodf\u001b[0m \u001b[1;33m=\u001b[0m \u001b[0mdsidfit\u001b[0m\u001b[1;33m.\u001b[0m\u001b[0modf\u001b[0m\u001b[1;33m(\u001b[0m\u001b[0msphere\u001b[0m\u001b[1;33m)\u001b[0m\u001b[1;33m\u001b[0m\u001b[0m\n\u001b[0m\u001b[0;32m      9\u001b[0m \u001b[1;33m\u001b[0m\u001b[0m\n\u001b[0;32m     10\u001b[0m \u001b[1;31m#pdfslice = dsifit[0, 0, 0].pdf()[:, :, qgsize//2];\u001b[0m\u001b[1;33m\u001b[0m\u001b[1;33m\u001b[0m\u001b[0m\n",
        "\u001b[1;32m/home/qytian/usr/local/lib/python2.7/site-packages/dipy/reconst/dsi.pyc\u001b[0m in \u001b[0;36modf\u001b[1;34m(self, sphere)\u001b[0m\n\u001b[0;32m    297\u001b[0m             \u001b[0mself\u001b[0m\u001b[1;33m.\u001b[0m\u001b[0mmodel\u001b[0m\u001b[1;33m.\u001b[0m\u001b[0mcache_set\u001b[0m\u001b[1;33m(\u001b[0m\u001b[1;34m'interp_coords'\u001b[0m\u001b[1;33m,\u001b[0m \u001b[0msphere\u001b[0m\u001b[1;33m,\u001b[0m \u001b[0minterp_coords\u001b[0m\u001b[1;33m)\u001b[0m\u001b[1;33m\u001b[0m\u001b[0m\n\u001b[0;32m    298\u001b[0m \u001b[1;33m\u001b[0m\u001b[0m\n\u001b[1;32m--> 299\u001b[1;33m         \u001b[0mPr\u001b[0m \u001b[1;33m=\u001b[0m \u001b[0mself\u001b[0m\u001b[1;33m.\u001b[0m\u001b[0mpdf\u001b[0m\u001b[1;33m(\u001b[0m\u001b[1;33m)\u001b[0m\u001b[1;33m\u001b[0m\u001b[0m\n\u001b[0m\u001b[0;32m    300\u001b[0m \u001b[1;33m\u001b[0m\u001b[0m\n\u001b[0;32m    301\u001b[0m         \u001b[1;31m# calculate the orientation distribution function\u001b[0m\u001b[1;33m\u001b[0m\u001b[1;33m\u001b[0m\u001b[0m\n",
        "\u001b[1;32m/home/qytian/usr/local/lib/python2.7/site-packages/dipy/reconst/dsi.pyc\u001b[0m in \u001b[0;36mpdf\u001b[1;34m(self)\u001b[0m\n\u001b[0;32m    556\u001b[0m         \u001b[0mPr\u001b[0m \u001b[1;33m=\u001b[0m \u001b[0mthreshold_propagator\u001b[0m\u001b[1;33m(\u001b[0m\u001b[0mPr\u001b[0m\u001b[1;33m)\u001b[0m\u001b[1;33m\u001b[0m\u001b[0m\n\u001b[0;32m    557\u001b[0m         \u001b[1;31m# apply LR deconvolution\u001b[0m\u001b[1;33m\u001b[0m\u001b[1;33m\u001b[0m\u001b[0m\n\u001b[1;32m--> 558\u001b[1;33m         \u001b[0mPr\u001b[0m \u001b[1;33m=\u001b[0m \u001b[0mLR_deconv\u001b[0m\u001b[1;33m(\u001b[0m\u001b[0mPr\u001b[0m\u001b[1;33m,\u001b[0m \u001b[0mDSID_PSF\u001b[0m\u001b[1;33m,\u001b[0m \u001b[1;36m5\u001b[0m\u001b[1;33m,\u001b[0m \u001b[1;36m2\u001b[0m\u001b[1;33m)\u001b[0m\u001b[1;33m\u001b[0m\u001b[0m\n\u001b[0m\u001b[0;32m    559\u001b[0m         \u001b[1;32mreturn\u001b[0m \u001b[0mPr\u001b[0m\u001b[1;33m\u001b[0m\u001b[0m\n\u001b[0;32m    560\u001b[0m \u001b[1;33m\u001b[0m\u001b[0m\n",
        "\u001b[1;32m/home/qytian/usr/local/lib/python2.7/site-packages/dipy/reconst/dsi.pyc\u001b[0m in \u001b[0;36mLR_deconv\u001b[1;34m(prop, psf, numit, acc_factor)\u001b[0m\n\u001b[0;32m    625\u001b[0m     \u001b[1;32mfor\u001b[0m \u001b[0mit\u001b[0m \u001b[1;32min\u001b[0m \u001b[0mrange\u001b[0m\u001b[1;33m(\u001b[0m\u001b[0mnumit\u001b[0m\u001b[1;33m)\u001b[0m\u001b[1;33m:\u001b[0m\u001b[1;33m\u001b[0m\u001b[0m\n\u001b[0;32m    626\u001b[0m         \u001b[1;31m# Blur the estimate\u001b[0m\u001b[1;33m\u001b[0m\u001b[1;33m\u001b[0m\u001b[0m\n\u001b[1;32m--> 627\u001b[1;33m         \u001b[0mreBlurred\u001b[0m \u001b[1;33m=\u001b[0m \u001b[0mnp\u001b[0m\u001b[1;33m.\u001b[0m\u001b[0mreal\u001b[0m\u001b[1;33m(\u001b[0m\u001b[0mnp\u001b[0m\u001b[1;33m.\u001b[0m\u001b[0mfft\u001b[0m\u001b[1;33m.\u001b[0m\u001b[0mifftn\u001b[0m\u001b[1;33m(\u001b[0m\u001b[0motf\u001b[0m \u001b[1;33m*\u001b[0m \u001b[0mnp\u001b[0m\u001b[1;33m.\u001b[0m\u001b[0mfft\u001b[0m\u001b[1;33m.\u001b[0m\u001b[0mfftn\u001b[0m\u001b[1;33m(\u001b[0m\u001b[0mprop_deconv\u001b[0m\u001b[1;33m)\u001b[0m\u001b[1;33m)\u001b[0m\u001b[1;33m)\u001b[0m\u001b[1;33m\u001b[0m\u001b[0m\n\u001b[0m\u001b[0;32m    628\u001b[0m         \u001b[0mreBlurred\u001b[0m\u001b[1;33m[\u001b[0m\u001b[0mreBlurred\u001b[0m \u001b[1;33m<\u001b[0m \u001b[0meps\u001b[0m\u001b[1;33m]\u001b[0m \u001b[1;33m=\u001b[0m \u001b[0meps\u001b[0m\u001b[1;33m\u001b[0m\u001b[0m\n\u001b[0;32m    629\u001b[0m         \u001b[1;31m# Update the estimate\u001b[0m\u001b[1;33m\u001b[0m\u001b[1;33m\u001b[0m\u001b[0m\n",
        "\u001b[1;32m/home/qytian/Enthought/Canopy_64bit/User/lib/python2.7/site-packages/numpy/fft/fftpack.pyc\u001b[0m in \u001b[0;36mifftn\u001b[1;34m(a, s, axes)\u001b[0m\n\u001b[0;32m    708\u001b[0m     \"\"\"\n\u001b[0;32m    709\u001b[0m \u001b[1;33m\u001b[0m\u001b[0m\n\u001b[1;32m--> 710\u001b[1;33m     \u001b[1;32mreturn\u001b[0m \u001b[0m_raw_fftnd\u001b[0m\u001b[1;33m(\u001b[0m\u001b[0ma\u001b[0m\u001b[1;33m,\u001b[0m \u001b[0ms\u001b[0m\u001b[1;33m,\u001b[0m \u001b[0maxes\u001b[0m\u001b[1;33m,\u001b[0m \u001b[0mifft\u001b[0m\u001b[1;33m)\u001b[0m\u001b[1;33m\u001b[0m\u001b[0m\n\u001b[0m\u001b[0;32m    711\u001b[0m \u001b[1;33m\u001b[0m\u001b[0m\n\u001b[0;32m    712\u001b[0m \u001b[1;33m\u001b[0m\u001b[0m\n",
        "\u001b[1;32m/home/qytian/Enthought/Canopy_64bit/User/lib/python2.7/site-packages/numpy/fft/fftpack.pyc\u001b[0m in \u001b[0;36m_raw_fftnd\u001b[1;34m(a, s, axes, function)\u001b[0m\n\u001b[0;32m    522\u001b[0m     \u001b[0mitl\u001b[0m\u001b[1;33m.\u001b[0m\u001b[0mreverse\u001b[0m\u001b[1;33m(\u001b[0m\u001b[1;33m)\u001b[0m\u001b[1;33m\u001b[0m\u001b[0m\n\u001b[0;32m    523\u001b[0m     \u001b[1;32mfor\u001b[0m \u001b[0mii\u001b[0m \u001b[1;32min\u001b[0m \u001b[0mitl\u001b[0m\u001b[1;33m:\u001b[0m\u001b[1;33m\u001b[0m\u001b[0m\n\u001b[1;32m--> 524\u001b[1;33m         \u001b[0ma\u001b[0m \u001b[1;33m=\u001b[0m \u001b[0mfunction\u001b[0m\u001b[1;33m(\u001b[0m\u001b[0ma\u001b[0m\u001b[1;33m,\u001b[0m \u001b[0mn\u001b[0m\u001b[1;33m=\u001b[0m\u001b[0ms\u001b[0m\u001b[1;33m[\u001b[0m\u001b[0mii\u001b[0m\u001b[1;33m]\u001b[0m\u001b[1;33m,\u001b[0m \u001b[0maxis\u001b[0m\u001b[1;33m=\u001b[0m\u001b[0maxes\u001b[0m\u001b[1;33m[\u001b[0m\u001b[0mii\u001b[0m\u001b[1;33m]\u001b[0m\u001b[1;33m)\u001b[0m\u001b[1;33m\u001b[0m\u001b[0m\n\u001b[0m\u001b[0;32m    525\u001b[0m     \u001b[1;32mreturn\u001b[0m \u001b[0ma\u001b[0m\u001b[1;33m\u001b[0m\u001b[0m\n\u001b[0;32m    526\u001b[0m \u001b[1;33m\u001b[0m\u001b[0m\n",
        "\u001b[1;32m/home/qytian/Enthought/Canopy_64bit/User/lib/python2.7/site-packages/numpy/fft/fftpack.pyc\u001b[0m in \u001b[0;36mifft\u001b[1;34m(a, n, axis)\u001b[0m\n\u001b[0;32m    240\u001b[0m     \"\"\"\n\u001b[0;32m    241\u001b[0m \u001b[1;33m\u001b[0m\u001b[0m\n\u001b[1;32m--> 242\u001b[1;33m     \u001b[0ma\u001b[0m \u001b[1;33m=\u001b[0m \u001b[0masarray\u001b[0m\u001b[1;33m(\u001b[0m\u001b[0ma\u001b[0m\u001b[1;33m)\u001b[0m\u001b[1;33m.\u001b[0m\u001b[0mastype\u001b[0m\u001b[1;33m(\u001b[0m\u001b[0mcomplex\u001b[0m\u001b[1;33m)\u001b[0m\u001b[1;33m\u001b[0m\u001b[0m\n\u001b[0m\u001b[0;32m    243\u001b[0m     \u001b[1;32mif\u001b[0m \u001b[0mn\u001b[0m \u001b[1;32mis\u001b[0m \u001b[0mNone\u001b[0m\u001b[1;33m:\u001b[0m\u001b[1;33m\u001b[0m\u001b[0m\n\u001b[0;32m    244\u001b[0m         \u001b[0mn\u001b[0m \u001b[1;33m=\u001b[0m \u001b[0mshape\u001b[0m\u001b[1;33m(\u001b[0m\u001b[0ma\u001b[0m\u001b[1;33m)\u001b[0m\u001b[1;33m[\u001b[0m\u001b[0maxis\u001b[0m\u001b[1;33m]\u001b[0m\u001b[1;33m\u001b[0m\u001b[0m\n",
        "\u001b[1;31mKeyboardInterrupt\u001b[0m: "
       ]
      }
     ],
     "prompt_number": 21
    },
    {
     "cell_type": "code",
     "collapsed": false,
     "input": [],
     "language": "python",
     "metadata": {},
     "outputs": [],
     "prompt_number": 10
    },
    {
     "cell_type": "code",
     "collapsed": false,
     "input": [
      "imshow(pdfslice);\n",
      "circle = Circle((qgsize//2, qgsize//2), radius = rend, color = 'w',fill=False, linestyle = 'solid')\n",
      "#colorbar()\n",
      "gca().add_artist(circle)\n",
      "axis('off');\n",
      "#savefig('DSI1418_PDF_sub3.png', dpi = 200)"
     ],
     "language": "python",
     "metadata": {},
     "outputs": [
      {
       "output_type": "pyout",
       "prompt_number": 11,
       "text": [
        "(-0.5, 200.5, 200.5, -0.5)"
       ]
      },
      {
       "output_type": "display_data",
       "png": "[encoded data removed]",
       "text": [
        "<matplotlib.figure.Figure at 0x3e60790>"
       ]
      }
     ],
     "prompt_number": 11
    },
    {
     "cell_type": "code",
     "collapsed": false,
     "input": [
      "imshow(squarepdfslice);\n",
      "circle = Circle((qgsize//2, qgsize//2), radius = rend, color = 'w',fill=False, linestyle = 'solid')\n",
      "#colorbar()\n",
      "gca().add_artist(circle)\n",
      "axis('off');\n",
      "#savefig('DSI1418_squarePDF_sub3.png', dpi = 200)"
     ],
     "language": "python",
     "metadata": {},
     "outputs": [
      {
       "output_type": "pyout",
       "prompt_number": 12,
       "text": [
        "(-0.5, 200.5, 200.5, -0.5)"
       ]
      },
      {
       "output_type": "display_data",
       "png": "[encoded data removed]",
       "text": [
        "<matplotlib.figure.Figure at 0x3f7d4d0>"
       ]
      }
     ],
     "prompt_number": 12
    },
    {
     "cell_type": "code",
     "collapsed": false,
     "input": [
      "r = fvtk.ren()\n",
      "fvtk.add(r, fvtk.sphere_funcs(dsidodf, sphere))\n",
      "fvtk.show(r)\n",
      "#fvtk.record(r, n_frames=1, out_path='DSI1418_ODF_sub3.png', size=(600,600)) # modify save file name according to the sub-sampling scheme"
     ],
     "language": "python",
     "metadata": {},
     "outputs": [],
     "prompt_number": 14
    },
    {
     "cell_type": "code",
     "collapsed": false,
     "input": [
      "dsiodf.shape"
     ],
     "language": "python",
     "metadata": {},
     "outputs": []
    },
    {
     "cell_type": "code",
     "collapsed": false,
     "input": [
      "from dipy.reconst.odf import gfa\n",
      "print(gfa(dsiodf).mean())\n",
      "gfa(dsiodf)"
     ],
     "language": "python",
     "metadata": {},
     "outputs": []
    },
    {
     "cell_type": "code",
     "collapsed": false,
     "input": [
      "pdf = dsidfit[0, 0, 0].pdf()"
     ],
     "language": "python",
     "metadata": {},
     "outputs": [],
     "prompt_number": 15
    },
    {
     "cell_type": "code",
     "collapsed": false,
     "input": [
      "pdf.shape\n",
      "pdf[100,100,100]\n",
      "pdf."
     ],
     "language": "python",
     "metadata": {},
     "outputs": [
      {
       "output_type": "pyout",
       "prompt_number": 35,
       "text": [
        "3.1937088936593769e-05"
       ]
      }
     ],
     "prompt_number": 35
    },
    {
     "cell_type": "code",
     "collapsed": false,
     "input": [
      "datadeconv = ifftshift(np.real(ifftn(fftshift(pdf), 3 * (qgsize, ))))\n",
      "#datadeconv = np.clip(datadeconv, 0, datadeconv.max())"
     ],
     "language": "python",
     "metadata": {},
     "outputs": [],
     "prompt_number": 38
    },
    {
     "cell_type": "code",
     "collapsed": false,
     "input": [
      "qtable = dsi.create_qtable(gtab);\n"
     ],
     "language": "python",
     "metadata": {},
     "outputs": [],
     "prompt_number": 21
    },
    {
     "cell_type": "code",
     "collapsed": false,
     "input": [
      "datadeconv.min()"
     ],
     "language": "python",
     "metadata": {},
     "outputs": [
      {
       "output_type": "pyout",
       "prompt_number": 51,
       "text": [
        "-9.4406181020260075e-09"
       ]
      }
     ],
     "prompt_number": 51
    },
    {
     "cell_type": "code",
     "collapsed": false,
     "input": [
      "datadeconvbval = np.zeros([qtable.shape[0], 1])\n",
      "for i in range(qtable.shape[0]):\n",
      "    qx, qy, qz = qtable[i, :]\n",
      "    datadeconvbval[i] = datadeconv[qx,qy,qz]\n",
      "    \n",
      "   "
     ],
     "language": "python",
     "metadata": {},
     "outputs": []
    },
    {
     "cell_type": "code",
     "collapsed": false,
     "input": [
      "plot(gtab.bvals, datadeconvbval, '*')"
     ],
     "language": "python",
     "metadata": {},
     "outputs": [
      {
       "output_type": "pyout",
       "prompt_number": 47,
       "text": [
        "[<matplotlib.lines.Line2D at 0x4690790>]"
       ]
      },
      {
       "output_type": "display_data",
       "png": "[encoded data removed]",
       "text": [
        "<matplotlib.figure.Figure at 0x4089d50>"
       ]
      }
     ],
     "prompt_number": 47
    },
    {
     "cell_type": "code",
     "collapsed": false,
     "input": [
      "plot(gtab.bvals, data[0,0,0,:], '*')"
     ],
     "language": "python",
     "metadata": {},
     "outputs": [
      {
       "output_type": "pyout",
       "prompt_number": 52,
       "text": [
        "[<matplotlib.lines.Line2D at 0x4dd39d0>]"
       ]
      },
      {
       "output_type": "display_data",
       "png": "[encoded data removed]",
       "text": [
        "<matplotlib.figure.Figure at 0x4673450>"
       ]
      }
     ],
     "prompt_number": 52
    },
    {
     "cell_type": "code",
     "collapsed": false,
     "input": [
      "plot(gtab.bvals, np.log(data[0,0,0,:]), '*')\n",
      "plot(gtab.bvals, np.log(gtab.bvals - gtab.bvals + 30))"
     ],
     "language": "python",
     "metadata": {},
     "outputs": [
      {
       "output_type": "pyout",
       "prompt_number": 56,
       "text": [
        "[<matplotlib.lines.Line2D at 0x5642ad0>]"
       ]
      },
      {
       "output_type": "display_data",
       "png": "[encoded data removed]",
       "text": [
        "<matplotlib.figure.Figure at 0x5642e50>"
       ]
      }
     ],
     "prompt_number": 56
    },
    {
     "cell_type": "code",
     "collapsed": false,
     "input": [
      "#DSI1418 sub1\n",
      "#0.0677993589545\n",
      "#array([[[ 0.07550158,  0.05967124],\n",
      "#        [ 0.06461288,  0.04856357],\n",
      "#        [ 0.06841867,  0.07076146],\n",
      "#        [ 0.06445972,  0.09040575]]])"
     ],
     "language": "python",
     "metadata": {},
     "outputs": []
    },
    {
     "cell_type": "code",
     "collapsed": false,
     "input": [
      "#DSI1418 sub2\n",
      "#0.118022986563\n",
      "#array([[[ 0.11157501,  0.08194564],\n",
      "#        [ 0.1370201 ,  0.08136908],\n",
      "#        [ 0.11327557,  0.14387602],\n",
      "#        [ 0.113065  ,  0.16205748]]])"
     ],
     "language": "python",
     "metadata": {},
     "outputs": []
    },
    {
     "cell_type": "code",
     "collapsed": false,
     "input": [
      "#DSI1418 sub3\n",
      "#0.235187935731\n",
      "#array([[[ 0.23902476,  0.24065202],\n",
      "#        [ 0.2144543 ,  0.20648182],\n",
      "#        [ 0.22992638,  0.25778049],\n",
      "#        [ 0.22895421,  0.26422951]]])"
     ],
     "language": "python",
     "metadata": {},
     "outputs": []
    },
    {
     "cell_type": "code",
     "collapsed": false,
     "input": [
      "#DSI2109 sub1\n",
      "#0.061735455365\n",
      "#array([[[ 0.05858502,  0.06379725],\n",
      "#        [ 0.0545715 ,  0.05780893],\n",
      "#        [ 0.05469372,  0.0647876 ],\n",
      "#        [ 0.06210549,  0.07753412]]])"
     ],
     "language": "python",
     "metadata": {},
     "outputs": []
    },
    {
     "cell_type": "code",
     "collapsed": false,
     "input": [
      "#DSI2109 sub2\n",
      "#0.0741971765095\n",
      "#array([[[ 0.06818061,  0.08722058],\n",
      "#        [ 0.06532922,  0.07859558],\n",
      "#        [ 0.07122335,  0.07401498],\n",
      "#        [ 0.05961554,  0.08939754]]])"
     ],
     "language": "python",
     "metadata": {},
     "outputs": []
    },
    {
     "cell_type": "code",
     "collapsed": false,
     "input": [
      "#DSI2109 sub2\n",
      "#0.546495247389\n",
      "#array([[[ 0.54667593,  0.55514231],\n",
      "#        [ 0.54149226,  0.56577372],\n",
      "#        [ 0.53309   ,  0.56225095],\n",
      "#        [ 0.51551431,  0.55202249]]])"
     ],
     "language": "python",
     "metadata": {},
     "outputs": []
    },
    {
     "cell_type": "code",
     "collapsed": false,
     "input": [],
     "language": "python",
     "metadata": {},
     "outputs": []
    },
    {
     "cell_type": "code",
     "collapsed": false,
     "input": [],
     "language": "python",
     "metadata": {},
     "outputs": []
    },
    {
     "cell_type": "code",
     "collapsed": false,
     "input": [],
     "language": "python",
     "metadata": {},
     "outputs": []
    },
    {
     "cell_type": "code",
     "collapsed": false,
     "input": [],
     "language": "python",
     "metadata": {},
     "outputs": []
    },
    {
     "cell_type": "code",
     "collapsed": false,
     "input": [],
     "language": "python",
     "metadata": {},
     "outputs": []
    },
    {
     "cell_type": "code",
     "collapsed": false,
     "input": [],
     "language": "python",
     "metadata": {},
     "outputs": []
    },
    {
     "cell_type": "code",
     "collapsed": false,
     "input": [],
     "language": "python",
     "metadata": {},
     "outputs": []
    },
    {
     "cell_type": "code",
     "collapsed": false,
     "input": [],
     "language": "python",
     "metadata": {},
     "outputs": []
    }
   ],
   "metadata": {}
  }
 ]
}