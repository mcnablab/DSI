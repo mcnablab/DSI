{
 "metadata": {
  "name": "s-subsampling-recon-hanning-NTU"
 },
 "nbformat": 3,
 "nbformat_minor": 0,
 "worksheets": [
  {
   "cells": [
    {
     "cell_type": "code",
     "collapsed": false,
     "input": [
      "#This script reconstructs odfs from sub-sampled DSI2109 with various sub-sampling schemes using default sampling length in GQI\n",
      "#Apply hanning filtering to the original signal before fitting to the GQI2 model"
     ],
     "language": "python",
     "metadata": {},
     "outputs": [],
     "prompt_number": 7
    },
    {
     "cell_type": "code",
     "collapsed": false,
     "input": [
      "%pylab inline\n",
      "import nibabel as nib\n",
      "from dipy.data import get_sphere\n",
      "from dipy.reconst.gqi import GeneralizedQSamplingModel\n",
      "from dipy.reconst.peaks import peaks_from_model\n",
      "import numpy as np\n",
      "import dipy.core.gradients as grad\n",
      "from dipy.viz import fvtk\n",
      "import dipy.data as dpd\n",
      "import dsitool as dtl\n",
      "from dipy.data import fetch_taiwan_ntu_dsi, read_taiwan_ntu_dsi, get_sphere\n",
      "import dipy.reconst.dsi as dsi"
     ],
     "language": "python",
     "metadata": {},
     "outputs": [
      {
       "output_type": "stream",
       "stream": "stdout",
       "text": [
        "\n",
        "Welcome to pylab, a matplotlib-based Python environment [backend: module://IPython.kernel.zmq.pylab.backend_inline].\n",
        "For more information, type 'help(pylab)'.\n"
       ]
      }
     ],
     "prompt_number": 51
    },
    {
     "cell_type": "code",
     "collapsed": false,
     "input": [
      "fetch_taiwan_ntu_dsi()\n",
      "img, gtab = read_taiwan_ntu_dsi()"
     ],
     "language": "python",
     "metadata": {},
     "outputs": [
      {
       "output_type": "stream",
       "stream": "stdout",
       "text": [
        "Dataset is already in place. If you want to fetch it again, please first remove the folder /home/qytian/.dipy/taiwan_ntu_dsi \n"
       ]
      }
     ],
     "prompt_number": 9
    },
    {
     "cell_type": "code",
     "collapsed": false,
     "input": [
      "data = img.get_data()\n",
      "print('data.shape (%d, %d, %d, %d)' % data.shape)"
     ],
     "language": "python",
     "metadata": {},
     "outputs": [
      {
       "output_type": "stream",
       "stream": "stdout",
       "text": [
        "data.shape (96, 96, 60, 203)\n"
       ]
      }
     ],
     "prompt_number": 26
    },
    {
     "cell_type": "code",
     "collapsed": false,
     "input": [
      "data = data[40:50, 40:50, 30:31, :]"
     ],
     "language": "python",
     "metadata": {},
     "outputs": [],
     "prompt_number": 27
    },
    {
     "cell_type": "code",
     "collapsed": false,
     "input": [
      "# Create q-table\n",
      "def create_qtable(gtab):\n",
      "    bv = gtab.bvals\n",
      "    bmin = np.sort(bv)[1]\n",
      "    qv = np.sqrt(bv / bmin)\n",
      "    qtable = np.vstack((qv, qv, qv)).T * gtab.bvecs\n",
      "    return np.floor(qtable + .5)\n",
      "\n",
      "qtable = create_qtable(gtab)\n"
     ],
     "language": "python",
     "metadata": {},
     "outputs": [],
     "prompt_number": 28
    },
    {
     "cell_type": "code",
     "collapsed": false,
     "input": [
      "qgrid_size = 101;\n",
      "origin = qgrid_size // 2\n",
      "qgrid = dtl.create_qspace(gtab, origin)\n",
      "qgrid.shape"
     ],
     "language": "python",
     "metadata": {},
     "outputs": [
      {
       "output_type": "pyout",
       "prompt_number": 29,
       "text": [
        "(203, 3)"
       ]
      }
     ],
     "prompt_number": 29
    },
    {
     "cell_type": "code",
     "collapsed": false,
     "input": [
      "def hanning_filter(gtab, filter_width):\n",
      "    qtable = create_qtable(gtab)\n",
      "    r = np.sqrt(qtable[:, 0] ** 2 + qtable[:, 1] ** 2 + qtable[:, 2] ** 2)\n",
      "    return 0.5 * (1 + np.cos(2 * np.pi * r / filter_width))"
     ],
     "language": "python",
     "metadata": {},
     "outputs": [],
     "prompt_number": 30
    },
    {
     "cell_type": "code",
     "collapsed": false,
     "input": [
      "hann = hanning_filter(gtab, qtable.max()*2)\n",
      "hann.min()\n",
      "\n",
      "x = data.shape[0]\n",
      "y = data.shape[1]\n",
      "z = data.shape[2]\n",
      "\n",
      "#data = data[0, 0, 1, :];\n",
      "\n",
      "#data_hann = data * tile(np.ones(data.shape[-1]), (x, y, z, 1))\n",
      "data_hann = data * tile(hann, (x, y, z, 1))\n",
      "data_hann = data"
     ],
     "language": "python",
     "metadata": {},
     "outputs": [],
     "prompt_number": 31
    },
    {
     "cell_type": "code",
     "collapsed": false,
     "input": [
      "# Perform sub-sampling\n",
      "\n",
      "# idx for different sub-sampling schemes\n",
      "idx = np.where(np.mod(np.abs(qtable[:, 0]), 1)==0)\n",
      "#idx = np.where(np.mod(np.abs(qtable[:, 0]), 2)==0)\n",
      "#idx = np.where(np.mod(np.abs(qtable[:, 1]), 2)==0)\n",
      "#idx = np.where(np.mod(np.abs(qtable[:, 2]), 2)==0)\n",
      "#idx = np.where((np.mod(np.abs(qtable[:, 0]), 2)==0) * (np.mod(np.abs(qtable[:, 1]), 2)==0) * (np.mod(np.abs(qtable[:, 2]), 2)==0))\n",
      "\n",
      "gtab_sub = grad.gradient_table(gtab.bvals[idx], gtab.bvecs[idx])\n",
      "#data_sub = data[...,idx]\n",
      "data_sub = data_hann[...,idx]\n",
      "data_sub = np.swapaxes(data_sub, 3, 4);\n",
      "data_sub = data_sub[:, :, :, :, 0]\n",
      "qgrid_sub = qgrid[idx, :]\n",
      "qgrid_sub = qgrid_sub[0, :, :];"
     ],
     "language": "python",
     "metadata": {},
     "outputs": [],
     "prompt_number": 32
    },
    {
     "cell_type": "code",
     "collapsed": false,
     "input": [
      "values = data_sub[0, 0, 0, :];\n",
      "\n",
      "Sq = np.zeros((qgrid_size, qgrid_size, qgrid_size))\n",
      "\n",
      "for i in range(len(values)):\n",
      "    qx, qy, qz = qgrid_sub[i, :]\n",
      "    Sq[qx, qy, qz] += values[i]"
     ],
     "language": "python",
     "metadata": {},
     "outputs": [],
     "prompt_number": 33
    },
    {
     "cell_type": "code",
     "collapsed": false,
     "input": [
      "data.shape"
     ],
     "language": "python",
     "metadata": {},
     "outputs": [
      {
       "output_type": "pyout",
       "prompt_number": 34,
       "text": [
        "(10, 10, 1, 203)"
       ]
      }
     ],
     "prompt_number": 34
    },
    {
     "cell_type": "code",
     "collapsed": false,
     "input": [
      "Pr = fftshift(ifftn(ifftshift(Sq), (Sq.shape[0], Sq.shape[1], Sq.shape[2])))\n",
      "#pdf = np.abs(Pr)\n",
      "pdf = np.real(Pr)\n",
      "pdf = np.clip(pdf, 0, pdf.max())    \n",
      "\n",
      "print(pdf.max())\n",
      "print(pdf.min())\n",
      "\n",
      "normpdf = pdf / pdf.sum()\n",
      "normpdf.shape\n"
     ],
     "language": "python",
     "metadata": {},
     "outputs": [
      {
       "output_type": "stream",
       "stream": "stdout",
       "text": [
        "0.00782392718244\n",
        "0.0\n"
       ]
      },
      {
       "output_type": "pyout",
       "prompt_number": 35,
       "text": [
        "(101, 101, 101)"
       ]
      }
     ],
     "prompt_number": 35
    },
    {
     "cell_type": "code",
     "collapsed": false,
     "input": [
      "slice = normpdf[qgrid_size // 2, :, :]\n",
      "matshow(slice)\n",
      "\n",
      "#imgplot = plt.imshow(slice)\n",
      "#imgplot.set_cmap('gray')"
     ],
     "language": "python",
     "metadata": {},
     "outputs": [
      {
       "output_type": "pyout",
       "prompt_number": 36,
       "text": [
        "<matplotlib.image.AxesImage at 0x4dce1d0>"
       ]
      },
      {
       "output_type": "display_data",
       "png": "[encoded data removed]",
       "text": [
        "<matplotlib.figure.Figure at 0x4c21950>"
       ]
      }
     ],
     "prompt_number": 36
    },
    {
     "cell_type": "code",
     "collapsed": false,
     "input": [
      "markedslice = normpdf[qgrid_size // 2, :, :];\n",
      "ratio = 1\n",
      "width = np.round(markedslice.shape[0] * ratio//2); \n",
      "center = markedslice.shape[0]//2\n",
      "markedslice[center - width, center - width: center + width] = markedslice.max()\n",
      "markedslice[center + width, center - width: center + width] = markedslice.max()\n",
      "markedslice[center - width: center + width, center - width] = markedslice.max()\n",
      "markedslice[center - width: center + width, center + width] = markedslice.max()\n",
      "matshow(markedslice)"
     ],
     "language": "python",
     "metadata": {},
     "outputs": [
      {
       "output_type": "pyout",
       "prompt_number": 44,
       "text": [
        "<matplotlib.image.AxesImage at 0x806d290>"
       ]
      },
      {
       "output_type": "display_data",
       "png": "[encoded data removed]",
       "text": [
        "<matplotlib.figure.Figure at 0x4de7310>"
       ]
      }
     ],
     "prompt_number": 44
    },
    {
     "cell_type": "code",
     "collapsed": false,
     "input": [
      "gqmodel = GeneralizedQSamplingModel(gtab_sub, 'gqi2', sampling_length=ratio*np.pi*0.7) # sampling_length=1.2 is the default\n",
      "#gqmodel = GeneralizedQSamplingModel(gtab_sub, 'standard', sampling_length=1.18*ratio) # sampling_length=1.2 is the default\n",
      "gqfit = gqmodel.fit(data_sub)\n",
      "sphere = get_sphere('symmetric724')\n",
      "odf = gqfit.odf(sphere)"
     ],
     "language": "python",
     "metadata": {},
     "outputs": [],
     "prompt_number": 45
    },
    {
     "cell_type": "code",
     "collapsed": false,
     "input": [
      "r = fvtk.ren()\n",
      "fvtk.add(r, fvtk.sphere_funcs(odf, sphere))\n",
      "#fvtk.show(r)\n",
      "#fvtk.record(r, n_frames=1, out_path='results/odf_DSI2109_sub_xyz.png', size=(600,600)) # modify save file name according to the sub-sampling scheme"
     ],
     "language": "python",
     "metadata": {},
     "outputs": [],
     "prompt_number": 46
    },
    {
     "cell_type": "code",
     "collapsed": false,
     "input": [
      "dsimodel = dsi.DiffusionSpectrumModel(gtab_sub, qgrid_size=17, r_start=0.1, r_end=6, r_step=0.2, filter_width=17)\n",
      "dsifit = dsimodel.fit(data_sub)\n",
      "sphere = get_sphere('symmetric724')\n",
      "dsiodf = dsifit.odf(sphere)\n",
      "\n",
      "ren = fvtk.ren()\n",
      "fvtk.add(ren, fvtk.sphere_funcs(dsiodf, sphere))\n",
      "fvtk.show(ren)"
     ],
     "language": "python",
     "metadata": {},
     "outputs": [],
     "prompt_number": 52
    },
    {
     "cell_type": "code",
     "collapsed": false,
     "input": [],
     "language": "python",
     "metadata": {},
     "outputs": [],
     "prompt_number": 49
    },
    {
     "cell_type": "code",
     "collapsed": false,
     "input": [],
     "language": "python",
     "metadata": {},
     "outputs": [],
     "prompt_number": 40
    },
    {
     "cell_type": "code",
     "collapsed": false,
     "input": [],
     "language": "python",
     "metadata": {},
     "outputs": []
    }
   ],
   "metadata": {}
  }
 ]
}