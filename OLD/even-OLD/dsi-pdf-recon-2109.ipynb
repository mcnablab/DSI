{
 "metadata": {
  "name": "dsi-pdf-recon-2109"
 },
 "nbformat": 3,
 "nbformat_minor": 0,
 "worksheets": [
  {
   "cells": [
    {
     "cell_type": "code",
     "collapsed": false,
     "input": [
      "import numpy as np\n",
      "np.set_printoptions(threshold=np.nan)\n",
      "import nibabel as nib\n",
      "import dipy.data as dpd\n",
      "import dipy.core.gradients as grad\n",
      "import dipy.reconst.dsi as dsi\n",
      "from dipy.viz import fvtk\n",
      "%pylab inline"
     ],
     "language": "python",
     "metadata": {},
     "outputs": [
      {
       "output_type": "stream",
       "stream": "stdout",
       "text": [
        "\n",
        "Welcome to pylab, a matplotlib-based Python environment [backend: module://IPython.kernel.zmq.pylab.backend_inline].\n",
        "For more information, type 'help(pylab)'.\n"
       ]
      }
     ],
     "prompt_number": 1
    },
    {
     "cell_type": "code",
     "collapsed": false,
     "input": [
      "#Read in data\n",
      "data_path = '/biac4/wandell/data/qytian/DSIProject/DSI2109/'\n",
      "\n",
      "img_bx = nib.load(data_path + 'DSI2109_bx_reg_cc.nii.gz')\n",
      "data_bx = img_bx.get_data()\n",
      "\n",
      "img_b0 = nib.load(data_path + 'DSI2109_b0_reg_cc.nii.gz')\n",
      "data_b0 = img_b0.get_data()\n",
      "\n",
      "data_b0_avg = np.mean(data_b0,-1)\n",
      "data = np.concatenate([data_b0_avg[...,None], data_bx], axis=-1)\n",
      "\n",
      "gtab = grad.gradient_table(data_path + 'bvals_2109_standard.txt', data_path + 'bvecs_prs_2109_standard.txt')\n",
      "\n",
      "sphere = dpd.get_sphere('symmetric724') #sphere to visualize ODFs"
     ],
     "language": "python",
     "metadata": {},
     "outputs": [],
     "prompt_number": 2
    },
    {
     "cell_type": "code",
     "collapsed": false,
     "input": [
      "def create_qspace(gtab, origin):\n",
      "    qtable = create_qtable(gtab)\n",
      "    qgrid = qtable + origin\n",
      "    return qgrid.astype('i8')"
     ],
     "language": "python",
     "metadata": {},
     "outputs": [],
     "prompt_number": 3
    },
    {
     "cell_type": "code",
     "collapsed": false,
     "input": [
      "def create_qtable(gtab):\n",
      "    bv = gtab.bvals\n",
      "    bmin = np.sort(bv)[1]\n",
      "    qv = np.sqrt(bv / bmin)\n",
      "    qtable = np.vstack((qv, qv, qv)).T * gtab.bvecs\n",
      "    return np.floor(qtable + .5)"
     ],
     "language": "python",
     "metadata": {},
     "outputs": [],
     "prompt_number": 4
    },
    {
     "cell_type": "code",
     "collapsed": false,
     "input": [
      "qgrid_size = 101;\n",
      "origin = qgrid_size // 2\n",
      "qgrid = create_qspace(gtab, origin)\n",
      "origin"
     ],
     "language": "python",
     "metadata": {},
     "outputs": [
      {
       "output_type": "pyout",
       "prompt_number": 5,
       "text": [
        "50"
       ]
      }
     ],
     "prompt_number": 5
    },
    {
     "cell_type": "code",
     "collapsed": false,
     "input": [
      "values = data[0, 3, 1, :];"
     ],
     "language": "python",
     "metadata": {},
     "outputs": [],
     "prompt_number": 6
    },
    {
     "cell_type": "code",
     "collapsed": false,
     "input": [
      "Sq = np.zeros((qgrid_size, qgrid_size, qgrid_size))\n",
      "\n",
      "for i in range(len(values)):\n",
      "    qx, qy, qz = qgrid[i]\n",
      "    Sq[qx, qy, qz] += values[i]"
     ],
     "language": "python",
     "metadata": {},
     "outputs": [],
     "prompt_number": 7
    },
    {
     "cell_type": "code",
     "collapsed": false,
     "input": [
      "Sq = np.delete(Sq, np.s_[::2], 0)\n",
      "print(Sq.shape)\n",
      "#Sq = np.delete(Sq, np.s_[::2], 1)\n",
      "print(Sq.shape)\n",
      "#Sq = np.delete(Sq, np.s_[::2], 2)\n",
      "print(Sq.shape)"
     ],
     "language": "python",
     "metadata": {},
     "outputs": [
      {
       "output_type": "stream",
       "stream": "stdout",
       "text": [
        "(50, 101, 101)\n",
        "(50, 101, 101)\n",
        "(50, 101, 101)\n"
       ]
      }
     ],
     "prompt_number": 8
    },
    {
     "cell_type": "code",
     "collapsed": false,
     "input": [
      "#Pr = fftshift(fftn(ifftshift(Sq), 3 * (qgrid_size, )))\n",
      "Pr = ifftshift(ifftn(fftshift(Sq), (Sq.shape[0], Sq.shape[1], Sq.shape[2])))\n",
      "Pr.shape[0]"
     ],
     "language": "python",
     "metadata": {},
     "outputs": [
      {
       "output_type": "pyout",
       "prompt_number": 9,
       "text": [
        "50"
       ]
      }
     ],
     "prompt_number": 9
    },
    {
     "cell_type": "code",
     "collapsed": false,
     "input": [
      "for i in range(Pr.shape[0]):\n",
      "    for j in range(Pr.shape[1]):\n",
      "        for k in range(Pr.shape[2]):\n",
      "            distance = (i - origin)*(i - origin) + (j - origin) * (j - origin) + (k - origin) * (k - origin)\n",
      "            Pr[i, j, k] = Pr[i, j, k] * distance"
     ],
     "language": "python",
     "metadata": {},
     "outputs": [],
     "prompt_number": 10
    },
    {
     "cell_type": "code",
     "collapsed": false,
     "input": [
      "pdf = np.abs(Pr)\n",
      "#pdf = np.real(Pr)\n",
      "#pdf = np.abs(np.real(Pr))\n",
      "print(pdf.max())\n",
      "print(pdf.min())\n",
      "\n",
      "normpdf = pdf / pdf.sum()\n",
      "normpdf.shape\n"
     ],
     "language": "python",
     "metadata": {},
     "outputs": [
      {
       "output_type": "stream",
       "stream": "stdout",
       "text": [
        "132.20183407\n",
        "0.00139703795966\n"
       ]
      },
      {
       "output_type": "pyout",
       "prompt_number": 11,
       "text": [
        "(50, 101, 101)"
       ]
      }
     ],
     "prompt_number": 11
    },
    {
     "cell_type": "code",
     "collapsed": false,
     "input": [
      "slice = normpdf[:, qgrid_size // 2, :]\n",
      "imgplot = plt.imshow(slice)\n",
      "imgplot.set_cmap('gray')"
     ],
     "language": "python",
     "metadata": {},
     "outputs": [
      {
       "output_type": "display_data",
       "png": "[encoded data removed]",
       "text": [
        "<matplotlib.figure.Figure at 0x3a7d490>"
       ]
      }
     ],
     "prompt_number": 12
    },
    {
     "cell_type": "code",
     "collapsed": false,
     "input": [
      "Sq.shape[0]"
     ],
     "language": "python",
     "metadata": {},
     "outputs": [
      {
       "output_type": "pyout",
       "prompt_number": 13,
       "text": [
        "50"
       ]
      }
     ],
     "prompt_number": 13
    },
    {
     "cell_type": "code",
     "collapsed": false,
     "input": [
      "matshow(slice)"
     ],
     "language": "python",
     "metadata": {},
     "outputs": [
      {
       "output_type": "pyout",
       "prompt_number": 14,
       "text": [
        "<matplotlib.image.AxesImage at 0x3f55050>"
       ]
      },
      {
       "output_type": "display_data",
       "png": "[encoded data removed]",
       "text": [
        "<matplotlib.figure.Figure at 0x1da8490>"
       ]
      }
     ],
     "prompt_number": 14
    },
    {
     "cell_type": "code",
     "collapsed": false,
     "input": [
      "data.shape"
     ],
     "language": "python",
     "metadata": {},
     "outputs": [
      {
       "output_type": "pyout",
       "prompt_number": 15,
       "text": [
        "(1, 4, 2, 2107)"
       ]
      }
     ],
     "prompt_number": 15
    },
    {
     "cell_type": "code",
     "collapsed": false,
     "input": [],
     "language": "python",
     "metadata": {},
     "outputs": [],
     "prompt_number": 15
    },
    {
     "cell_type": "code",
     "collapsed": false,
     "input": [],
     "language": "python",
     "metadata": {},
     "outputs": [],
     "prompt_number": 15
    },
    {
     "cell_type": "code",
     "collapsed": false,
     "input": [],
     "language": "python",
     "metadata": {},
     "outputs": [],
     "prompt_number": 15
    },
    {
     "cell_type": "code",
     "collapsed": false,
     "input": [],
     "language": "python",
     "metadata": {},
     "outputs": []
    }
   ],
   "metadata": {}
  }
 ]
}