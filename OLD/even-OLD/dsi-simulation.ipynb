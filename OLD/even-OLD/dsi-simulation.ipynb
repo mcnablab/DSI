{
 "metadata": {
  "name": "dsi-simulation"
 },
 "nbformat": 3,
 "nbformat_minor": 0,
 "worksheets": [
  {
   "cells": [
    {
     "cell_type": "code",
     "collapsed": false,
     "input": [
      "import numpy as np\n",
      "np.set_printoptions(threshold=np.nan)\n",
      "import matplotlib.pyplot as plt\n",
      "\n",
      "from dipy.data import get_data, dsi_voxels\n",
      "from dipy.reconst.dsi import DiffusionSpectrumModel\n",
      "import dipy.reconst.dti as dti\n",
      "from dipy.core.sphere import Sphere\n",
      "from dipy.core.gradients import gradient_table\n",
      "from dipy.data import get_sphere\n",
      "from dipy.sims.voxel import MultiTensor\n",
      "from dipy.viz import fvtk\n",
      "import numpy.matlib as matlab\n",
      "%pylab inline"
     ],
     "language": "python",
     "metadata": {},
     "outputs": [
      {
       "output_type": "stream",
       "stream": "stdout",
       "text": [
        "\n",
        "Welcome to pylab, a matplotlib-based Python environment [backend: module://IPython.kernel.zmq.pylab.backend_inline].\n",
        "For more information, type 'help(pylab)'.\n"
       ]
      }
     ],
     "prompt_number": 4
    },
    {
     "cell_type": "code",
     "collapsed": false,
     "input": [
      "def hanning_width(attenuation, radius):\n",
      "    return 2 * np.pi * radius / (np.arccos(attenuation))\n",
      "\n",
      "\n",
      "def create_table(radius_max, bmax):\n",
      "    bvecs = []\n",
      "    for i in range(-radius_max, radius_max + 1):\n",
      "        for j in range(-radius_max, radius_max + 1):\n",
      "            for k in range(-radius_max, radius_max + 1):\n",
      "                if (i ** 2 + j ** 2 + k ** 2) <= radius_max ** 2:\n",
      "                    bvecs.append([i, j, k])\n",
      "    bvecs = np.array(bvecs, dtype=np.float32)\n",
      "    radius = np.sqrt(bvecs[:, 0] ** 2 + bvecs[:, 1] ** 2 + bvecs[:, 2] ** 2)\n",
      "    I = np.argsort(radius)\n",
      "    radius = radius[I]\n",
      "    bvecs = bvecs[I, :]\n",
      "    bvals = (radius ** 2) * bmax / (float(radius.max()) ** 2)\n",
      "    bvecs[1:] = bvecs[1:] / radius[1:, None].astype(np.float32)\n",
      "    return bvecs, bvals"
     ],
     "language": "python",
     "metadata": {},
     "outputs": [],
     "prompt_number": 5
    },
    {
     "cell_type": "code",
     "collapsed": false,
     "input": [
      "mevals = np.array(([8e-5, 5e-5, 5e-5],\n",
      "                   [5e-5, 5e-5, 5e-5]))\n",
      "\n",
      "# Given the radius r a new gradient table is created\n",
      "r = 8\n",
      "# bvecs, bvals = create_table(r, r * 8000.0 / 5.0)\n",
      "bvecs, bvals = create_table(r, 30000.0)\n",
      "\n",
      "gtab = gradient_table(bvals, bvecs)\n",
      "\n",
      "\n",
      "# simulate one voxel\n",
      "angl = [(0, 0), (90, 0)]\n",
      "\n",
      "data, sticks_0 = MultiTensor(gtab, mevals, S0=100,\n",
      "                             angles=angl, fractions=[100, 0], snr=27)\n",
      "\n",
      "# create the tensor model\n",
      "# the hanning width depends on the radius of the gradient table and the attenuation\n",
      "# which is the strength of the filter.\n",
      "# dsmodel = DiffusionSpectrumModel(gtab, qgrid_size=35,  r_start=35 // 2 * 0.4,\n",
      "#                                 r_end=35 // 2 * 0.8, filter_width=hanning_width(0.8, r))\n",
      "dsmodel = DiffusionSpectrumModel(gtab, qgrid_size=17, r_start=101 // 2 * 0.4, r_end=101 // 2 * 0.8, filter_width=hanning_width(0.8, r))\n",
      "# calculate and show the oodf\n",
      "sphere = get_sphere('symmetric724')\n",
      "dsfit = dsmodel.fit(data)\n",
      "odf = dsfit.odf(sphere)\n",
      "pdf = dsfit.pdf()\n",
      "\n",
      "r = fvtk.ren()\n",
      "fvtk.add(r, fvtk.sphere_funcs(odf, sphere, colormap='jet'))\n",
      "fvtk.show(r)"
     ],
     "language": "python",
     "metadata": {},
     "outputs": [
      {
       "ename": "TypeError",
       "evalue": "Complex type not supported",
       "output_type": "pyerr",
       "traceback": [
        "\u001b[1;31m---------------------------------------------------------------------------\u001b[0m\n\u001b[1;31mTypeError\u001b[0m                                 Traceback (most recent call last)",
        "\u001b[1;32m<ipython-input-46-fe3cdcd0a91e>\u001b[0m in \u001b[0;36m<module>\u001b[1;34m()\u001b[0m\n\u001b[0;32m     25\u001b[0m \u001b[0msphere\u001b[0m \u001b[1;33m=\u001b[0m \u001b[0mget_sphere\u001b[0m\u001b[1;33m(\u001b[0m\u001b[1;34m'symmetric724'\u001b[0m\u001b[1;33m)\u001b[0m\u001b[1;33m\u001b[0m\u001b[0m\n\u001b[0;32m     26\u001b[0m \u001b[0mdsfit\u001b[0m \u001b[1;33m=\u001b[0m \u001b[0mdsmodel\u001b[0m\u001b[1;33m.\u001b[0m\u001b[0mfit\u001b[0m\u001b[1;33m(\u001b[0m\u001b[0mdata\u001b[0m\u001b[1;33m)\u001b[0m\u001b[1;33m\u001b[0m\u001b[0m\n\u001b[1;32m---> 27\u001b[1;33m \u001b[0modf\u001b[0m \u001b[1;33m=\u001b[0m \u001b[0mdsfit\u001b[0m\u001b[1;33m.\u001b[0m\u001b[0modf\u001b[0m\u001b[1;33m(\u001b[0m\u001b[0msphere\u001b[0m\u001b[1;33m)\u001b[0m\u001b[1;33m\u001b[0m\u001b[0m\n\u001b[0m\u001b[0;32m     28\u001b[0m \u001b[0mpdf\u001b[0m \u001b[1;33m=\u001b[0m \u001b[0mdsfit\u001b[0m\u001b[1;33m.\u001b[0m\u001b[0mpdf\u001b[0m\u001b[1;33m(\u001b[0m\u001b[1;33m)\u001b[0m\u001b[1;33m\u001b[0m\u001b[0m\n\u001b[0;32m     29\u001b[0m \u001b[1;33m\u001b[0m\u001b[0m\n",
        "\u001b[1;32m/home/qytian/usr/local/lib/python2.7/site-packages/dipy/reconst/dsi.pyc\u001b[0m in \u001b[0;36modf\u001b[1;34m(self, sphere)\u001b[0m\n\u001b[0;32m    301\u001b[0m \u001b[1;33m\u001b[0m\u001b[0m\n\u001b[0;32m    302\u001b[0m         \u001b[1;31m# calculate the orientation distribution function\u001b[0m\u001b[1;33m\u001b[0m\u001b[1;33m\u001b[0m\u001b[0m\n\u001b[1;32m--> 303\u001b[1;33m         \u001b[1;32mreturn\u001b[0m \u001b[0mpdf_odf\u001b[0m\u001b[1;33m(\u001b[0m\u001b[0mPr\u001b[0m\u001b[1;33m,\u001b[0m \u001b[0mself\u001b[0m\u001b[1;33m.\u001b[0m\u001b[0mmodel\u001b[0m\u001b[1;33m.\u001b[0m\u001b[0mqradius\u001b[0m\u001b[1;33m,\u001b[0m \u001b[0minterp_coords\u001b[0m\u001b[1;33m)\u001b[0m\u001b[1;33m\u001b[0m\u001b[0m\n\u001b[0m\u001b[0;32m    304\u001b[0m \u001b[1;33m\u001b[0m\u001b[0m\n\u001b[0;32m    305\u001b[0m \u001b[1;33m\u001b[0m\u001b[0m\n",
        "\u001b[1;32m/home/qytian/usr/local/lib/python2.7/site-packages/dipy/reconst/dsi.pyc\u001b[0m in \u001b[0;36mpdf_odf\u001b[1;34m(Pr, rradius, interp_coords)\u001b[0m\n\u001b[0;32m    406\u001b[0m         \u001b[0mcoordinates\u001b[0m \u001b[1;32min\u001b[0m \u001b[0mthe\u001b[0m \u001b[0mpdf\u001b[0m \u001b[1;32mfor\u001b[0m \u001b[0minterpolating\u001b[0m \u001b[0mthe\u001b[0m \u001b[0modf\u001b[0m\u001b[1;33m\u001b[0m\u001b[0m\n\u001b[0;32m    407\u001b[0m     \"\"\"\n\u001b[1;32m--> 408\u001b[1;33m     \u001b[0mPrIs\u001b[0m \u001b[1;33m=\u001b[0m \u001b[0mmap_coordinates\u001b[0m\u001b[1;33m(\u001b[0m\u001b[0mPr\u001b[0m\u001b[1;33m,\u001b[0m \u001b[0minterp_coords\u001b[0m\u001b[1;33m,\u001b[0m \u001b[0morder\u001b[0m\u001b[1;33m=\u001b[0m\u001b[1;36m1\u001b[0m\u001b[1;33m)\u001b[0m\u001b[1;33m\u001b[0m\u001b[0m\n\u001b[0m\u001b[0;32m    409\u001b[0m     \u001b[0modf\u001b[0m \u001b[1;33m=\u001b[0m \u001b[1;33m(\u001b[0m\u001b[0mPrIs\u001b[0m \u001b[1;33m*\u001b[0m \u001b[0mrradius\u001b[0m \u001b[1;33m**\u001b[0m \u001b[1;36m2\u001b[0m\u001b[1;33m)\u001b[0m\u001b[1;33m.\u001b[0m\u001b[0msum\u001b[0m\u001b[1;33m(\u001b[0m\u001b[1;33m-\u001b[0m\u001b[1;36m1\u001b[0m\u001b[1;33m)\u001b[0m\u001b[1;33m\u001b[0m\u001b[0m\n\u001b[0;32m    410\u001b[0m     \u001b[1;32mreturn\u001b[0m \u001b[0modf\u001b[0m\u001b[1;33m\u001b[0m\u001b[0m\n",
        "\u001b[1;32m/home/qytian/Enthought/Canopy_64bit/System/lib/python2.7/site-packages/scipy/ndimage/interpolation.pyc\u001b[0m in \u001b[0;36mmap_coordinates\u001b[1;34m(input, coordinates, output, order, mode, cval, prefilter)\u001b[0m\n\u001b[0;32m    285\u001b[0m     \u001b[0minput\u001b[0m \u001b[1;33m=\u001b[0m \u001b[0mnumpy\u001b[0m\u001b[1;33m.\u001b[0m\u001b[0masarray\u001b[0m\u001b[1;33m(\u001b[0m\u001b[0minput\u001b[0m\u001b[1;33m)\u001b[0m\u001b[1;33m\u001b[0m\u001b[0m\n\u001b[0;32m    286\u001b[0m     \u001b[1;32mif\u001b[0m \u001b[0mnumpy\u001b[0m\u001b[1;33m.\u001b[0m\u001b[0miscomplexobj\u001b[0m\u001b[1;33m(\u001b[0m\u001b[0minput\u001b[0m\u001b[1;33m)\u001b[0m\u001b[1;33m:\u001b[0m\u001b[1;33m\u001b[0m\u001b[0m\n\u001b[1;32m--> 287\u001b[1;33m         \u001b[1;32mraise\u001b[0m \u001b[0mTypeError\u001b[0m\u001b[1;33m(\u001b[0m\u001b[1;34m'Complex type not supported'\u001b[0m\u001b[1;33m)\u001b[0m\u001b[1;33m\u001b[0m\u001b[0m\n\u001b[0m\u001b[0;32m    288\u001b[0m     \u001b[0mcoordinates\u001b[0m \u001b[1;33m=\u001b[0m \u001b[0mnumpy\u001b[0m\u001b[1;33m.\u001b[0m\u001b[0masarray\u001b[0m\u001b[1;33m(\u001b[0m\u001b[0mcoordinates\u001b[0m\u001b[1;33m)\u001b[0m\u001b[1;33m\u001b[0m\u001b[0m\n\u001b[0;32m    289\u001b[0m     \u001b[1;32mif\u001b[0m \u001b[0mnumpy\u001b[0m\u001b[1;33m.\u001b[0m\u001b[0miscomplexobj\u001b[0m\u001b[1;33m(\u001b[0m\u001b[0mcoordinates\u001b[0m\u001b[1;33m)\u001b[0m\u001b[1;33m:\u001b[0m\u001b[1;33m\u001b[0m\u001b[0m\n",
        "\u001b[1;31mTypeError\u001b[0m: Complex type not supported"
       ]
      }
     ],
     "prompt_number": 46
    },
    {
     "cell_type": "code",
     "collapsed": false,
     "input": [
      "pdf = dsfit.pdf()\n",
      "print(pdf.max())\n",
      "print(pdf.min())\n",
      "pdf = np.abs(pdf)\n",
      "normpdf = pdf / pdf.max()"
     ],
     "language": "python",
     "metadata": {},
     "outputs": [
      {
       "output_type": "stream",
       "stream": "stdout",
       "text": [
        "(82410.8609492+0j)\n",
        "(-3280.41273931-178.631954017j)\n"
       ]
      }
     ],
     "prompt_number": 47
    },
    {
     "cell_type": "code",
     "collapsed": false,
     "input": [],
     "language": "python",
     "metadata": {},
     "outputs": []
    },
    {
     "cell_type": "code",
     "collapsed": false,
     "input": [
      "slice = normpdf[8, :, :]\n",
      "imgplot = plt.imshow(slice)\n",
      "imgplot.set_cmap('gray')"
     ],
     "language": "python",
     "metadata": {},
     "outputs": [
      {
       "output_type": "display_data",
       "png": "[encoded data removed]",
       "text": [
        "<matplotlib.figure.Figure at 0x7b26a10>"
       ]
      }
     ],
     "prompt_number": 48
    },
    {
     "cell_type": "code",
     "collapsed": false,
     "input": [
      "plt.contourf(slice)\n",
      "axis('equal')"
     ],
     "language": "python",
     "metadata": {},
     "outputs": []
    },
    {
     "cell_type": "code",
     "collapsed": false,
     "input": [
      "r = 5\n",
      "bvecs, bvals = create_table(r, 8000.0)\n"
     ],
     "language": "python",
     "metadata": {},
     "outputs": []
    },
    {
     "cell_type": "code",
     "collapsed": false,
     "input": [
      "r = np.array([0, 1, 2, 3, 4, 5, 6, 7, 8])\n",
      "#idx = np.where(np.mod(r), np.ones(r.))"
     ],
     "language": "python",
     "metadata": {},
     "outputs": []
    },
    {
     "cell_type": "code",
     "collapsed": false,
     "input": [
      "aa = np.mod(r, np.ones(r.shape) * 2)\n",
      "aa"
     ],
     "language": "python",
     "metadata": {},
     "outputs": []
    },
    {
     "cell_type": "code",
     "collapsed": false,
     "input": [
      "idx = np.where(aa != 0)\n",
      "idx"
     ],
     "language": "python",
     "metadata": {},
     "outputs": []
    },
    {
     "cell_type": "code",
     "collapsed": false,
     "input": [
      "np.logical_or"
     ],
     "language": "python",
     "metadata": {},
     "outputs": []
    }
   ],
   "metadata": {}
  }
 ]
}