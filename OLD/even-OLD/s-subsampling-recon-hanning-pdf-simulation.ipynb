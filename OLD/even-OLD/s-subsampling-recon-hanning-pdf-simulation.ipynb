{
 "metadata": {
  "name": "s-subsampling-recon-hanning-pdf-simulation"
 },
 "nbformat": 3,
 "nbformat_minor": 0,
 "worksheets": [
  {
   "cells": [
    {
     "cell_type": "code",
     "collapsed": false,
     "input": [
      "#This script reconstructs odfs from sub-sampled DSI2109 with various sub-sampling schemes using default sampling length in GQI\n",
      "#Apply hanning filtering to the original signal before fitting to the GQI2 model"
     ],
     "language": "python",
     "metadata": {},
     "outputs": [],
     "prompt_number": 463
    },
    {
     "cell_type": "code",
     "collapsed": false,
     "input": [
      "%pylab inline\n",
      "import nibabel as nib\n",
      "from dipy.data import get_sphere\n",
      "from dipy.reconst.gqi import GeneralizedQSamplingModel\n",
      "from dipy.reconst.peaks import peaks_from_model\n",
      "import numpy as np\n",
      "import dipy.core.gradients as grad\n",
      "from dipy.viz import fvtk\n",
      "import dsitool as dtl\n",
      "from dipy.core.gradients import gradient_table\n",
      "from dipy.sims.voxel import MultiTensor\n",
      "import dipy.reconst.dsi as dsi"
     ],
     "language": "python",
     "metadata": {},
     "outputs": [
      {
       "output_type": "stream",
       "stream": "stdout",
       "text": [
        "\n",
        "Welcome to pylab, a matplotlib-based Python environment [backend: module://IPython.kernel.zmq.pylab.backend_inline].\n",
        "For more information, type 'help(pylab)'.\n"
       ]
      }
     ],
     "prompt_number": 464
    },
    {
     "cell_type": "code",
     "collapsed": false,
     "input": [
      "r = 5\n",
      "bvecs, bvals = dtl.create_btable(r, 30000.0)\n",
      "gtab = gradient_table(bvals, bvecs)"
     ],
     "language": "python",
     "metadata": {},
     "outputs": [],
     "prompt_number": 465
    },
    {
     "cell_type": "code",
     "collapsed": false,
     "input": [],
     "language": "python",
     "metadata": {},
     "outputs": [],
     "prompt_number": 465
    },
    {
     "cell_type": "code",
     "collapsed": false,
     "input": [
      "mevals = np.array(([2.5e-3, 0.1e-3, 0.1e-3],\n",
      "                   [2.5e-3, 0.1e-3, 0.1e-3]))\n",
      "\n",
      "#mevals = mevals * 2.5;\n",
      "\n",
      "angl = [(0, 90), (70, 90)]\n",
      "data, sticks_0 = MultiTensor(gtab, mevals, S0=500, angles=angl, fractions=[50, 50], snr=5)"
     ],
     "language": "python",
     "metadata": {},
     "outputs": [],
     "prompt_number": 466
    },
    {
     "cell_type": "code",
     "collapsed": false,
     "input": [
      "qtable = dtl.create_qtable(gtab)"
     ],
     "language": "python",
     "metadata": {},
     "outputs": [],
     "prompt_number": 467
    },
    {
     "cell_type": "code",
     "collapsed": false,
     "input": [
      "qgrid_size = 101;\n",
      "origin = qgrid_size // 2\n",
      "qgrid = dtl.create_qspace(gtab, origin)\n",
      "qgrid.shape"
     ],
     "language": "python",
     "metadata": {},
     "outputs": [
      {
       "output_type": "pyout",
       "prompt_number": 468,
       "text": [
        "(515, 3)"
       ]
      }
     ],
     "prompt_number": 468
    },
    {
     "cell_type": "code",
     "collapsed": false,
     "input": [
      "hann = dtl.hanning_filter(gtab, qtable.max()*3)\n",
      "hann.min()\n",
      "data_hann = data * tile(hann, (1, 4, 2, 1))\n",
      "#data_hann = data * tile(np.ones(data.shape), (1, 4, 2, 1))"
     ],
     "language": "python",
     "metadata": {},
     "outputs": [],
     "prompt_number": 469
    },
    {
     "cell_type": "code",
     "collapsed": false,
     "input": [
      "# Perform sub-sampling\n",
      "\n",
      "# idx for different sub-sampling schemes\n",
      "idx = np.where(np.mod(np.abs(qtable[:, 0]), 1)==0)\n",
      "#idx = np.where(np.mod(np.abs(qtable[:, 0]), 2)==0)\n",
      "#idx = np.where(np.mod(np.abs(qtable[:, 1]), 2)==0)\n",
      "#idx = np.where(np.mod(np.abs(qtable[:, 2]), 2)==0)\n",
      "#idx = np.where((np.mod(np.abs(qtable[:, 0]), 2)==0) * (np.mod(np.abs(qtable[:, 1]), 2)==0) * (np.mod(np.abs(qtable[:, 2]), 2)==0))\n",
      "\n",
      "#radius = np.sqrt(np.square(qtable[:, 0]) + np.square(qtable[:, 1]) + np.square(qtable[:, 2]))\n",
      "#idx = np.where((radius>=4) * (radius<=5)) \n",
      "\n",
      "gtab_sub = grad.gradient_table(gtab.bvals[idx], gtab.bvecs[idx])\n",
      "#data_sub = data[...,idx]\n",
      "data_sub = data_hann[...,idx]\n",
      "data_sub = np.swapaxes(data_sub, 3, 4);\n",
      "data_sub = data_sub[:, :, :, :, 0]\n",
      "qgrid_sub = qgrid[idx, :]\n",
      "qgrid_sub = qgrid_sub[0, :, :];"
     ],
     "language": "python",
     "metadata": {},
     "outputs": [],
     "prompt_number": 470
    },
    {
     "cell_type": "code",
     "collapsed": false,
     "input": [
      "qgrid.shape\n",
      "qgrid_sub.shape\n",
      "qgrid_sub"
     ],
     "language": "python",
     "metadata": {},
     "outputs": [
      {
       "output_type": "pyout",
       "prompt_number": 471,
       "text": [
        "array([[50, 50, 50],\n",
        "       [49, 50, 50],\n",
        "       [50, 51, 50],\n",
        "       ..., \n",
        "       [53, 50, 54],\n",
        "       [50, 47, 54],\n",
        "       [55, 50, 50]])"
       ]
      }
     ],
     "prompt_number": 471
    },
    {
     "cell_type": "code",
     "collapsed": false,
     "input": [
      "values = data_sub[0, 3, 1, :];"
     ],
     "language": "python",
     "metadata": {},
     "outputs": [],
     "prompt_number": 472
    },
    {
     "cell_type": "code",
     "collapsed": false,
     "input": [
      "Sq = np.zeros((qgrid_size, qgrid_size, qgrid_size))\n",
      "\n",
      "for i in range(len(values)):\n",
      "    qx, qy, qz = qgrid_sub[i, :]\n",
      "    Sq[qx, qy, qz] += values[i]"
     ],
     "language": "python",
     "metadata": {},
     "outputs": [],
     "prompt_number": 473
    },
    {
     "cell_type": "code",
     "collapsed": false,
     "input": [
      "Pr = fftshift(ifftn(ifftshift(Sq), (Sq.shape[0], Sq.shape[1], Sq.shape[2])))\n"
     ],
     "language": "python",
     "metadata": {},
     "outputs": [],
     "prompt_number": 474
    },
    {
     "cell_type": "code",
     "collapsed": false,
     "input": [
      "#for i1 in range(Pr.shape[0]//2):\n",
      "#    for j1 in range(Pr.shape[1]//2):\n",
      "#        for k1 in range(Pr.shape[2]//2):\n",
      "#            i = i1 + Pr.shape[0]//4\n",
      "#            j = j1 + Pr.shape[1]//4\n",
      "#            k = k1 + Pr.shape[2]//4\n",
      "#            distance = (i - origin)*(i - origin) + (j - origin) * (j - origin) + (k - origin) * (k - origin)\n",
      "##            #distance = 1\n",
      "#            Pr[i, j, k] = Pr[i, j, k] * distance"
     ],
     "language": "python",
     "metadata": {},
     "outputs": [],
     "prompt_number": 475
    },
    {
     "cell_type": "code",
     "collapsed": false,
     "input": [
      "Pr.shape[0]//2"
     ],
     "language": "python",
     "metadata": {},
     "outputs": [
      {
       "output_type": "pyout",
       "prompt_number": 476,
       "text": [
        "50"
       ]
      }
     ],
     "prompt_number": 476
    },
    {
     "cell_type": "code",
     "collapsed": false,
     "input": [
      "#Pr = fftshift(Pr)"
     ],
     "language": "python",
     "metadata": {},
     "outputs": [],
     "prompt_number": 477
    },
    {
     "cell_type": "code",
     "collapsed": false,
     "input": [
      "#pdf = np.abs(Pr)\n",
      "pdf = np.real(Pr)\n",
      "pdf = np.clip(pdf, 0, pdf.max())\n",
      "print(pdf.max())\n",
      "print(pdf.min())\n",
      "\n",
      "normpdf = pdf / pdf.sum()\n",
      "normpdf.shape\n"
     ],
     "language": "python",
     "metadata": {},
     "outputs": [
      {
       "output_type": "stream",
       "stream": "stdout",
       "text": [
        "0.0340957065898\n",
        "0.0\n"
       ]
      },
      {
       "output_type": "pyout",
       "prompt_number": 478,
       "text": [
        "(101, 101, 101)"
       ]
      }
     ],
     "prompt_number": 478
    },
    {
     "cell_type": "code",
     "collapsed": false,
     "input": [
      "slice = normpdf[qgrid_size // 2, :, :]\n",
      "matshow(slice)\n",
      "\n",
      "#imgplot = plt.imshow(slice)\n",
      "#imgplot.set_cmap('gray')"
     ],
     "language": "python",
     "metadata": {},
     "outputs": [
      {
       "output_type": "pyout",
       "prompt_number": 479,
       "text": [
        "<matplotlib.image.AxesImage at 0x140e04d0>"
       ]
      },
      {
       "output_type": "display_data",
       "png": "[encoded data removed]",
       "text": [
        "<matplotlib.figure.Figure at 0x14e7c290>"
       ]
      }
     ],
     "prompt_number": 479
    },
    {
     "cell_type": "code",
     "collapsed": false,
     "input": [
      "markedslice = normpdf[qgrid_size // 2, :, :];\n",
      "ratio = 1\n",
      "width = np.round(markedslice.shape[0] * ratio//2); \n",
      "center = markedslice.shape[0]//2\n",
      "markedslice[center - width, center - width: center + width] = markedslice.max()\n",
      "markedslice[center + width, center - width: center + width] = markedslice.max()\n",
      "markedslice[center - width: center + width, center - width] = markedslice.max()\n",
      "markedslice[center - width: center + width, center + width] = markedslice.max()\n",
      "matshow(markedslice)"
     ],
     "language": "python",
     "metadata": {},
     "outputs": [
      {
       "output_type": "pyout",
       "prompt_number": 480,
       "text": [
        "<matplotlib.image.AxesImage at 0x1449d550>"
       ]
      },
      {
       "output_type": "display_data",
       "png": "[encoded data removed]",
       "text": [
        "<matplotlib.figure.Figure at 0x140d28d0>"
       ]
      }
     ],
     "prompt_number": 480
    },
    {
     "cell_type": "code",
     "collapsed": false,
     "input": [
      "gqmodel = GeneralizedQSamplingModel(gtab_sub, 'gqi2', sampling_length=0.74*ratio) # sampling_length=1.2 is the default\n",
      "#gqmodel = GeneralizedQSamplingModel(gtab_sub, 'standard', sampling_length=1.18*ratio) # sampling_length=1.2 is the default\n",
      "gqfit = gqmodel.fit(data_sub)\n",
      "sphere = get_sphere('symmetric724')\n",
      "odf = gqfit.odf(sphere)"
     ],
     "language": "python",
     "metadata": {},
     "outputs": [],
     "prompt_number": 481
    },
    {
     "cell_type": "code",
     "collapsed": false,
     "input": [
      "r = fvtk.ren()\n",
      "fvtk.add(r, fvtk.sphere_funcs(odf, sphere))\n",
      "fvtk.show(r)\n",
      "#fvtk.record(r, n_frames=1, out_path='results/odf_DSI2109_sub_xyz.png', size=(600,600)) # modify save file name according to the sub-sampling scheme"
     ],
     "language": "python",
     "metadata": {},
     "outputs": [],
     "prompt_number": 482
    },
    {
     "cell_type": "code",
     "collapsed": false,
     "input": [
      "#dsimodel = dsi.DiffusionSpectrumModel(gtab_sub, qgrid_size=17, r_start=2.1, r_end=6.0, r_step=0.2, filter_width=32)\n",
      "#dsifit = dsimodel.fit(data_sub)\n",
      "#sphere = get_sphere('symmetric724')\n",
      "#dsiodf = dsifit.odf(sphere)\n",
      "\n",
      "#r = fvtk.ren()\n",
      "#fvtk.add(r, fvtk.sphere_funcs(dsiodf, sphere))\n",
      "#fvtk.show(r)\n"
     ],
     "language": "python",
     "metadata": {},
     "outputs": [],
     "prompt_number": 483
    },
    {
     "cell_type": "code",
     "collapsed": false,
     "input": [],
     "language": "python",
     "metadata": {},
     "outputs": [],
     "prompt_number": 483
    },
    {
     "cell_type": "code",
     "collapsed": false,
     "input": [],
     "language": "python",
     "metadata": {},
     "outputs": [],
     "prompt_number": 483
    },
    {
     "cell_type": "code",
     "collapsed": false,
     "input": [],
     "language": "python",
     "metadata": {},
     "outputs": [],
     "prompt_number": 483
    }
   ],
   "metadata": {}
  }
 ]
}