{
 "cells": [
  {
   "cell_type": "code",
   "execution_count": 14,
   "metadata": {
    "collapsed": false
   },
   "outputs": [
    {
     "name": "stdout",
     "output_type": "stream",
     "text": [
      "Populating the interactive namespace from numpy and matplotlib\n"
     ]
    }
   ],
   "source": [
    "import numpy as np\n",
    "import nibabel as nib\n",
    "import dsiadapt as dsi\n",
    "from dipy.viz import fvtk\n",
    "import dipy.core.gradients as grad\n",
    "from dipy.data import get_sphere\n",
    "\n",
    "%pylab inline\n",
    "np.set_printoptions(threshold=numpy.nan)"
   ]
  },
  {
   "cell_type": "code",
   "execution_count": 15,
   "metadata": {
    "collapsed": false
   },
   "outputs": [],
   "source": [
    "# ODF sphere directions\n",
    "sphere = get_sphere('symmetric724')\n",
    "sphere = sphere.subdivide(2)"
   ]
  },
  {
   "cell_type": "code",
   "execution_count": 16,
   "metadata": {
    "collapsed": false
   },
   "outputs": [
    {
     "name": "stdout",
     "output_type": "stream",
     "text": [
      "Camera Position (0.00,0.00,1.00)\n",
      "Camera Focal Point (0.00,0.00,0.00)\n",
      "Camera View Up (0.00,1.00,0.00)\n",
      "-------------------------------------\n",
      "Camera New Position (0.00,1.00,0.00)\n",
      "Camera New Focal Point (0.00,0.00,0.00)\n",
      "Camera New View Up (0.00,0.00,1.00)\n",
      "Camera Position (0.00,0.00,1.00)\n",
      "Camera Focal Point (0.00,0.00,0.00)\n",
      "Camera View Up (0.00,1.00,0.00)\n",
      "-------------------------------------\n",
      "Camera New Position (0.00,1.00,0.00)\n",
      "Camera New Focal Point (0.00,0.00,0.00)\n",
      "Camera New View Up (0.00,0.00,1.00)\n",
      "Camera Position (0.00,0.00,1.00)\n",
      "Camera Focal Point (0.00,0.00,0.00)\n",
      "Camera View Up (0.00,1.00,0.00)\n",
      "-------------------------------------\n",
      "Camera New Position (0.00,1.00,0.00)\n",
      "Camera New Focal Point (0.00,0.00,0.00)\n",
      "Camera New View Up (0.00,0.00,1.00)\n",
      "Camera Position (0.00,0.00,1.00)\n",
      "Camera Focal Point (0.00,0.00,0.00)\n",
      "Camera View Up (0.00,1.00,0.00)\n",
      "-------------------------------------\n",
      "Camera New Position (0.00,1.00,0.00)\n",
      "Camera New Focal Point (0.00,0.00,0.00)\n",
      "Camera New View Up (0.00,0.00,1.00)\n"
     ]
    }
   ],
   "source": [
    "fnArr = np.array(['DSI11_exvivo', 'DSI11_exvivo', 'DSI11_invivo_b10k', 'DSI11_invivo_b7k'])\n",
    "pdfwgtorderArr = np.array([8, 2, 2, 2]);\n",
    "\n",
    "qgridsz = 257; # Q-space grid size\n",
    "qgridcenter = qgridsz//2;\n",
    "\n",
    "for ii in np.arange(fnArr.shape[0]):\n",
    "    fn = fnArr[ii];\n",
    "    data = nib.load('data/' + fn + '_roi.nii.gz').get_data();\n",
    "    gtab = grad.gradient_table('data/' + fn + '_bvals.txt', 'data/' + fn + '_bvecs_dipy.txt');\n",
    "    mdd = np.loadtxt('data/' + fn + '_stats.txt')[0];\n",
    "    fov = np.loadtxt('data/' + fn + '_stats.txt')[1];\n",
    "\n",
    "    rend = mdd / fov * qgridsz;\n",
    "    dsimodel = dsi.DiffusionSpectrumModel(gtab, qgrid_size=qgridsz, filter_width=np.inf, filter_type='none', r_start=0, r_end=rend, r_step=0.2);\n",
    "    dsifit = dsimodel.fit(data);\n",
    "    odf = dsifit.odf(sphere, pdfwgtorderArr[ii]);\n",
    "\n",
    "    # Save ODF\n",
    "    r = fvtk.ren();\n",
    "    fvtk.add(r, fvtk.sphere_funcs(odf, sphere));\n",
    "    fvtk.camera(r, pos=(0, 1, 0), viewup=(0, 0, 1))\n",
    "    odfname = 'figure5/' + fn + '_roi_odf_wgt_' + str(pdfwgtorderArr[ii]) + '.png';\n",
    "    fvtk.record(r, n_frames=1, out_path=odfname, size=(1600,1000))\n",
    "    #fvtk.show(r)"
   ]
  }
 ],
 "metadata": {
  "kernelspec": {
   "display_name": "Python 2",
   "language": "python",
   "name": "python2"
  },
  "language_info": {
   "codemirror_mode": {
    "name": "ipython",
    "version": 2
   },
   "file_extension": ".py",
   "mimetype": "text/x-python",
   "name": "python",
   "nbconvert_exporter": "python",
   "pygments_lexer": "ipython2",
   "version": "2.7.10"
  }
 },
 "nbformat": 4,
 "nbformat_minor": 0
}
